{
 "cells": [
  {
   "cell_type": "code",
   "execution_count": 1,
   "metadata": {
    "colab": {
     "base_uri": "https://localhost:8080/"
    },
    "id": "CMq8ReGENcIw",
    "outputId": "b81eac0d-622e-4722-f271-32149c6775c5"
   },
   "outputs": [],
   "source": [
    "# !pip3 install episcanpy\n",
    "# !pip3 install scanpy\n",
    "# !pip install anndata\n",
    "# !pip install desc\n",
    "# !pip install display\n",
    "# !pip3 install --pre deepchem --user\n",
    "# !pip install nfp\n",
    "# !pip3 install --force-reinstall numpy==1.19.5"
   ]
  },
  {
   "cell_type": "code",
   "execution_count": 1,
   "metadata": {
    "colab": {
     "base_uri": "https://localhost:8080/"
    },
    "id": "J5gtEHG-HLb8",
    "outputId": "ff8bc49d-751e-4c51-cd97-e7474599594f"
   },
   "outputs": [
    {
     "name": "stderr",
     "output_type": "stream",
     "text": [
      "2022-05-03 01:54:45.588411: W tensorflow/stream_executor/platform/default/dso_loader.cc:64] Could not load dynamic library 'libcudart.so.11.0'; dlerror: libcudart.so.11.0: cannot open shared object file: No such file or directory; LD_LIBRARY_PATH: /N/soft/rhel7/python/3.8.2/lib:/N/soft/rhel7/intel/19.5/compilers_and_libraries_2019.5.281/linux/compiler/lib/intel64:/N/soft/rhel7/intel/19.5/compilers_and_libraries_2019.5.281/linux/ipp/lib/intel64:/N/soft/rhel7/intel/19.5/compilers_and_libraries_2019.5.281/linux/compiler/lib/intel64_lin:/N/soft/rhel7/intel/19.5/compilers_and_libraries_2019.5.281/linux/mkl/lib/intel64_lin:/N/soft/rhel7/intel/19.5/compilers_and_libraries_2019.5.281/linux/tbb/lib/intel64/gcc4.7:/N/soft/rhel7/intel/19.5/debugger_2019/iga/lib:/N/soft/rhel7/intel/19.5/debugger_2019/libipt/intel64/lib:/N/soft/rhel7/intel/19.5/compilers_and_libraries_2019.5.281/linux/daal/lib/intel64_lin:/N/soft/rhel7/gcc/6.3.0/lib64:/N/soft/rhel7/gcc/6.3.0/lib:/opt/thinlinc/lib64:/opt/thinlinc/lib\n",
      "2022-05-03 01:54:45.588502: I tensorflow/stream_executor/cuda/cudart_stub.cc:29] Ignore above cudart dlerror if you do not have a GPU set up on your machine.\n"
     ]
    },
    {
     "name": "stdout",
     "output_type": "stream",
     "text": [
      "scanpy==1.9.1 anndata==0.8.0 umap==0.5.3 numpy==1.22.3 scipy==1.5.2 pandas==1.4.2 scikit-learn==0.23.2 statsmodels==0.12.0 pynndescent==0.5.6\n"
     ]
    }
   ],
   "source": [
    "import numpy as np\n",
    "import pandas as pd\n",
    "import scanpy as sc\n",
    "import gzip\n",
    "import csv\n",
    "import os\n",
    "# import desc as desc\n",
    "import matplotlib.pyplot as plt\n",
    "from rdkit import Chem\n",
    "from rdkit.Chem import RDKFingerprint\n",
    "from sklearn.metrics import classification_report, plot_confusion_matrix, confusion_matrix\n",
    "sc.settings.verbosity = 3             # verbosity: errors (0), warnings (1), info (2), hints (3)\n",
    "sc.logging.print_header()\n",
    "sc.settings.set_figure_params(dpi=80, facecolor='white')\n",
    "%matplotlib inline\n",
    "import warnings\n",
    "warnings.filterwarnings(\"ignore\")"
   ]
  },
  {
   "cell_type": "code",
   "execution_count": 2,
   "metadata": {
    "colab": {
     "base_uri": "https://localhost:8080/"
    },
    "id": "VtvbvkY1NpdK",
    "outputId": "9cd8441a-7d7e-4e45-9ef8-6bc88682b98c"
   },
   "outputs": [],
   "source": [
    "# from google.colab import drive\n",
    "# drive.mount('/content/drive')\n",
    "# # drive.mount('/content/drive/My Drive/Projects and research stuffs')\n",
    "# !ls \"/content/drive/My Drive/Projects and research stuffs/Drug Synergy\""
   ]
  },
  {
   "cell_type": "code",
   "execution_count": null,
   "metadata": {
    "id": "4UORX-s8hf3l"
   },
   "outputs": [],
   "source": []
  },
  {
   "cell_type": "markdown",
   "metadata": {
    "id": "NMcUfNIxPb0V"
   },
   "source": [
    "## What is a Fingerprint?\n",
    "\n",
    "Deep learning models almost always take arrays of numbers as their inputs. If we want to process molecules with them, we somehow need to represent each molecule as one or more arrays of numbers.\n",
    "\n",
    "Many (but not all) types of models require their inputs to have a fixed size. This can be a challenge for molecules, since different molecules have different numbers of atoms. If we want to use these types of models, we somehow need to represent variable sized molecules with fixed sized arrays.\n",
    "\n",
    "Fingerprints are designed to address these problems. A fingerprint is a fixed length array, where different elements indicate the presence of different features in the molecule. If two molecules have similar fingerprints, that indicates they contain many of the same features, and therefore will likely have similar chemistry.\n",
    "\n",
    "DeepChem supports a particular type of fingerprint called an \"Extended Connectivity Fingerprint\", or \"ECFP\" for short. They also are sometimes called \"circular fingerprints\". The ECFP algorithm begins by classifying atoms based only on their direct properties and bonds. Each unique pattern is a feature. For example, \"carbon atom bonded to two hydrogens and two heavy atoms\" would be a feature, and a particular element of the fingerprint is set to 1 for any molecule that contains that feature. It then iteratively identifies new features by looking at larger circular neighborhoods. One specific feature bonded to two other specific features becomes a higher level feature, and the corresponding element is set for any molecule that contains it. This continues for a fixed number of iterations, most often two."
   ]
  },
  {
   "cell_type": "code",
   "execution_count": null,
   "metadata": {
    "id": "k5ToLzrOknKj"
   },
   "outputs": [],
   "source": []
  },
  {
   "cell_type": "code",
   "execution_count": 3,
   "metadata": {
    "colab": {
     "base_uri": "https://localhost:8080/",
     "height": 35
    },
    "id": "1IVZ8PZEk8U8",
    "outputId": "421184c3-4c8a-4f8c-d597-af0782f838ca"
   },
   "outputs": [
    {
     "data": {
      "text/plain": [
       "'2.6.1'"
      ]
     },
     "execution_count": 3,
     "metadata": {},
     "output_type": "execute_result"
    }
   ],
   "source": [
    "import deepchem as dc\n",
    "dc.__version__"
   ]
  },
  {
   "cell_type": "code",
   "execution_count": null,
   "metadata": {},
   "outputs": [],
   "source": []
  },
  {
   "cell_type": "code",
   "execution_count": null,
   "metadata": {},
   "outputs": [],
   "source": []
  },
  {
   "cell_type": "markdown",
   "metadata": {
    "id": "7Rv27Z-ucIS4"
   },
   "source": [
    "#### Creating Circular Fingerprints ( Neural based fingerprint creation - GNN )"
   ]
  },
  {
   "cell_type": "code",
   "execution_count": 4,
   "metadata": {
    "id": "V3ZgKiyhcD31"
   },
   "outputs": [
    {
     "name": "stdout",
     "output_type": "stream",
     "text": [
      "(23052, 8)\n"
     ]
    },
    {
     "data": {
      "text/html": [
       "<div>\n",
       "<style scoped>\n",
       "    .dataframe tbody tr th:only-of-type {\n",
       "        vertical-align: middle;\n",
       "    }\n",
       "\n",
       "    .dataframe tbody tr th {\n",
       "        vertical-align: top;\n",
       "    }\n",
       "\n",
       "    .dataframe thead th {\n",
       "        text-align: right;\n",
       "    }\n",
       "</style>\n",
       "<table border=\"1\" class=\"dataframe\">\n",
       "  <thead>\n",
       "    <tr style=\"text-align: right;\">\n",
       "      <th></th>\n",
       "      <th>Unnamed: 0</th>\n",
       "      <th>drug_a_name</th>\n",
       "      <th>drug_b_name</th>\n",
       "      <th>cell_line</th>\n",
       "      <th>synergy</th>\n",
       "      <th>fold</th>\n",
       "      <th>drug_a_structure</th>\n",
       "      <th>drug_b_structure</th>\n",
       "    </tr>\n",
       "  </thead>\n",
       "  <tbody>\n",
       "    <tr>\n",
       "      <th>0</th>\n",
       "      <td>5-FU_ABT-888_A2058</td>\n",
       "      <td>5-FU</td>\n",
       "      <td>ABT-888</td>\n",
       "      <td>A2058</td>\n",
       "      <td>7.693530</td>\n",
       "      <td>2</td>\n",
       "      <td>O=c1[nH]cc(F)c(=O)[nH]1</td>\n",
       "      <td>CC1(c2nc3c(C(N)=O)cccc3[nH]2)CCCN1</td>\n",
       "    </tr>\n",
       "    <tr>\n",
       "      <th>1</th>\n",
       "      <td>5-FU_ABT-888_A2780</td>\n",
       "      <td>5-FU</td>\n",
       "      <td>ABT-888</td>\n",
       "      <td>A2780</td>\n",
       "      <td>7.778053</td>\n",
       "      <td>2</td>\n",
       "      <td>O=c1[nH]cc(F)c(=O)[nH]1</td>\n",
       "      <td>CC1(c2nc3c(C(N)=O)cccc3[nH]2)CCCN1</td>\n",
       "    </tr>\n",
       "    <tr>\n",
       "      <th>2</th>\n",
       "      <td>5-FU_ABT-888_A375</td>\n",
       "      <td>5-FU</td>\n",
       "      <td>ABT-888</td>\n",
       "      <td>A375</td>\n",
       "      <td>-1.198505</td>\n",
       "      <td>2</td>\n",
       "      <td>O=c1[nH]cc(F)c(=O)[nH]1</td>\n",
       "      <td>CC1(c2nc3c(C(N)=O)cccc3[nH]2)CCCN1</td>\n",
       "    </tr>\n",
       "    <tr>\n",
       "      <th>3</th>\n",
       "      <td>5-FU_ABT-888_A427</td>\n",
       "      <td>5-FU</td>\n",
       "      <td>ABT-888</td>\n",
       "      <td>A427</td>\n",
       "      <td>2.595684</td>\n",
       "      <td>2</td>\n",
       "      <td>O=c1[nH]cc(F)c(=O)[nH]1</td>\n",
       "      <td>CC1(c2nc3c(C(N)=O)cccc3[nH]2)CCCN1</td>\n",
       "    </tr>\n",
       "    <tr>\n",
       "      <th>4</th>\n",
       "      <td>5-FU_ABT-888_CAOV3</td>\n",
       "      <td>5-FU</td>\n",
       "      <td>ABT-888</td>\n",
       "      <td>CAOV3</td>\n",
       "      <td>-5.139971</td>\n",
       "      <td>2</td>\n",
       "      <td>O=c1[nH]cc(F)c(=O)[nH]1</td>\n",
       "      <td>CC1(c2nc3c(C(N)=O)cccc3[nH]2)CCCN1</td>\n",
       "    </tr>\n",
       "  </tbody>\n",
       "</table>\n",
       "</div>"
      ],
      "text/plain": [
       "           Unnamed: 0 drug_a_name drug_b_name cell_line   synergy  fold  \\\n",
       "0  5-FU_ABT-888_A2058        5-FU     ABT-888     A2058  7.693530     2   \n",
       "1  5-FU_ABT-888_A2780        5-FU     ABT-888     A2780  7.778053     2   \n",
       "2   5-FU_ABT-888_A375        5-FU     ABT-888      A375 -1.198505     2   \n",
       "3   5-FU_ABT-888_A427        5-FU     ABT-888      A427  2.595684     2   \n",
       "4  5-FU_ABT-888_CAOV3        5-FU     ABT-888     CAOV3 -5.139971     2   \n",
       "\n",
       "          drug_a_structure                    drug_b_structure  \n",
       "0  O=c1[nH]cc(F)c(=O)[nH]1  CC1(c2nc3c(C(N)=O)cccc3[nH]2)CCCN1  \n",
       "1  O=c1[nH]cc(F)c(=O)[nH]1  CC1(c2nc3c(C(N)=O)cccc3[nH]2)CCCN1  \n",
       "2  O=c1[nH]cc(F)c(=O)[nH]1  CC1(c2nc3c(C(N)=O)cccc3[nH]2)CCCN1  \n",
       "3  O=c1[nH]cc(F)c(=O)[nH]1  CC1(c2nc3c(C(N)=O)cccc3[nH]2)CCCN1  \n",
       "4  O=c1[nH]cc(F)c(=O)[nH]1  CC1(c2nc3c(C(N)=O)cccc3[nH]2)CCCN1  "
      ]
     },
     "execution_count": 4,
     "metadata": {},
     "output_type": "execute_result"
    }
   ],
   "source": [
    "train_data_path = \".\"\n",
    "main_data = pd.read_csv(train_data_path+'/final_data.csv')\n",
    "print(main_data.shape)\n",
    "main_data.head()\n"
   ]
  },
  {
   "cell_type": "code",
   "execution_count": 5,
   "metadata": {
    "id": "FNRTYmoPcD6D"
   },
   "outputs": [
    {
     "data": {
      "text/html": [
       "<div>\n",
       "<style scoped>\n",
       "    .dataframe tbody tr th:only-of-type {\n",
       "        vertical-align: middle;\n",
       "    }\n",
       "\n",
       "    .dataframe tbody tr th {\n",
       "        vertical-align: top;\n",
       "    }\n",
       "\n",
       "    .dataframe thead th {\n",
       "        text-align: right;\n",
       "    }\n",
       "</style>\n",
       "<table border=\"1\" class=\"dataframe\">\n",
       "  <thead>\n",
       "    <tr style=\"text-align: right;\">\n",
       "      <th></th>\n",
       "      <th>drug_a_structure</th>\n",
       "      <th>drug_b_structure</th>\n",
       "      <th>cell_line</th>\n",
       "      <th>synergy</th>\n",
       "    </tr>\n",
       "  </thead>\n",
       "  <tbody>\n",
       "    <tr>\n",
       "      <th>0</th>\n",
       "      <td>CCC1(O)CC2CN(CCc3c([nH]c4ccccc34)C(C(=O)OC)(c3...</td>\n",
       "      <td>CS(=O)(=O)CCNCc1ccc(-c2ccc3ncnc(Nc4ccc(OCc5ccc...</td>\n",
       "      <td>MDAMB436</td>\n",
       "      <td>-15.418132</td>\n",
       "    </tr>\n",
       "    <tr>\n",
       "      <th>1</th>\n",
       "      <td>O=P1(N(CCCl)CCCl)NCCCO1</td>\n",
       "      <td>COC1=C2CC(C)CC(OC)C(O)C(C)C=C(C)C(OC(N)=O)C(OC...</td>\n",
       "      <td>UWB1289</td>\n",
       "      <td>-8.103769</td>\n",
       "    </tr>\n",
       "    <tr>\n",
       "      <th>2</th>\n",
       "      <td>CN1C(=O)C=CC2(C)C3CCC4(C)C(NC(=O)OCC(F)(F)F)CC...</td>\n",
       "      <td>CC1CC2C3CCC4=CC(=O)C=CC4(C)C3(F)C(O)CC2(C)C1(O...</td>\n",
       "      <td>NCIH23</td>\n",
       "      <td>2.450127</td>\n",
       "    </tr>\n",
       "    <tr>\n",
       "      <th>3</th>\n",
       "      <td>O=S1(=O)NC2(CN1CC(F)(F)F)C1CCC2Cc2cc(C=CCN3CCC...</td>\n",
       "      <td>C#Cc1cccc(Nc2ncnc3cc(OCCOC)c(OCCOC)cc23)c1</td>\n",
       "      <td>OV90</td>\n",
       "      <td>-2.899168</td>\n",
       "    </tr>\n",
       "    <tr>\n",
       "      <th>4</th>\n",
       "      <td>O=P1(N(CCCl)CCCl)NCCCO1</td>\n",
       "      <td>CS(=O)(=O)CCNCc1ccc(-c2ccc3ncnc(Nc4ccc(OCc5ccc...</td>\n",
       "      <td>A375</td>\n",
       "      <td>-10.042138</td>\n",
       "    </tr>\n",
       "  </tbody>\n",
       "</table>\n",
       "</div>"
      ],
      "text/plain": [
       "                                    drug_a_structure  \\\n",
       "0  CCC1(O)CC2CN(CCc3c([nH]c4ccccc34)C(C(=O)OC)(c3...   \n",
       "1                            O=P1(N(CCCl)CCCl)NCCCO1   \n",
       "2  CN1C(=O)C=CC2(C)C3CCC4(C)C(NC(=O)OCC(F)(F)F)CC...   \n",
       "3  O=S1(=O)NC2(CN1CC(F)(F)F)C1CCC2Cc2cc(C=CCN3CCC...   \n",
       "4                            O=P1(N(CCCl)CCCl)NCCCO1   \n",
       "\n",
       "                                    drug_b_structure cell_line    synergy  \n",
       "0  CS(=O)(=O)CCNCc1ccc(-c2ccc3ncnc(Nc4ccc(OCc5ccc...  MDAMB436 -15.418132  \n",
       "1  COC1=C2CC(C)CC(OC)C(O)C(C)C=C(C)C(OC(N)=O)C(OC...   UWB1289  -8.103769  \n",
       "2  CC1CC2C3CCC4=CC(=O)C=CC4(C)C3(F)C(O)CC2(C)C1(O...    NCIH23   2.450127  \n",
       "3         C#Cc1cccc(Nc2ncnc3cc(OCCOC)c(OCCOC)cc23)c1      OV90  -2.899168  \n",
       "4  CS(=O)(=O)CCNCc1ccc(-c2ccc3ncnc(Nc4ccc(OCc5ccc...      A375 -10.042138  "
      ]
     },
     "execution_count": 5,
     "metadata": {},
     "output_type": "execute_result"
    }
   ],
   "source": [
    "from sklearn.preprocessing import StandardScaler\n",
    "data_for_gnn = main_data[['drug_a_structure', 'drug_b_structure', 'cell_line', 'synergy']].copy()\n",
    "data_for_gnn = data_for_gnn.sample(frac=1).reset_index().drop(['index'], 1)\n",
    "\n",
    "# scaler = StandardScaler().fit(data_for_gnn['synergy'].values.reshape(-1,1))\n",
    "# scaled_ops = scaler.transform(data_for_gnn['synergy'].values.reshape(-1,1))\n",
    "# data_for_gnn['synergy'] = scaled_ops\n",
    "data_for_gnn.head()"
   ]
  },
  {
   "cell_type": "code",
   "execution_count": 6,
   "metadata": {
    "id": "n8pN4m7q4wQN"
   },
   "outputs": [
    {
     "data": {
      "text/plain": [
       "(23052, 4)"
      ]
     },
     "execution_count": 6,
     "metadata": {},
     "output_type": "execute_result"
    }
   ],
   "source": [
    "data_for_gnn.shape"
   ]
  },
  {
   "cell_type": "code",
   "execution_count": 7,
   "metadata": {
    "id": "SpvHErjyXHcN"
   },
   "outputs": [],
   "source": [
    "#### Need to remove all drug smiles with '.' in them - this '.' creates separate isolated and disconnected graphs and it gets hard to calculate adjacency matrix and update them"
   ]
  },
  {
   "cell_type": "code",
   "execution_count": 102,
   "metadata": {
    "id": "uTm3jzwwcD8l"
   },
   "outputs": [
    {
     "data": {
      "text/plain": [
       "74"
      ]
     },
     "execution_count": 102,
     "metadata": {},
     "output_type": "execute_result"
    }
   ],
   "source": [
    "len(data_for_gnn['cell_line'].unique())\n",
    "\n",
    "len((np.concatenate((data_for_gnn['drug_a_structure'].unique(), data_for_gnn['drug_b_structure'].unique()))))"
   ]
  },
  {
   "cell_type": "code",
   "execution_count": 99,
   "metadata": {
    "id": "fvatyGKGcD-8"
   },
   "outputs": [
    {
     "data": {
      "text/plain": [
       "37"
      ]
     },
     "execution_count": 99,
     "metadata": {},
     "output_type": "execute_result"
    }
   ],
   "source": [
    "len(data_for_gnn['drug_b_structure'].unique())"
   ]
  },
  {
   "cell_type": "markdown",
   "metadata": {
    "id": "BYi6dMxIS5EL"
   },
   "source": [
    "#### updated version:"
   ]
  },
  {
   "cell_type": "code",
   "execution_count": 8,
   "metadata": {
    "colab": {
     "base_uri": "https://localhost:8080/",
     "height": 224
    },
    "id": "RgjXrpJZS763",
    "outputId": "13a1bf95-dd79-4546-ffe3-1888b1713d13"
   },
   "outputs": [
    {
     "data": {
      "text/html": [
       "<div>\n",
       "<style scoped>\n",
       "    .dataframe tbody tr th:only-of-type {\n",
       "        vertical-align: middle;\n",
       "    }\n",
       "\n",
       "    .dataframe tbody tr th {\n",
       "        vertical-align: top;\n",
       "    }\n",
       "\n",
       "    .dataframe thead th {\n",
       "        text-align: right;\n",
       "    }\n",
       "</style>\n",
       "<table border=\"1\" class=\"dataframe\">\n",
       "  <thead>\n",
       "    <tr style=\"text-align: right;\">\n",
       "      <th></th>\n",
       "      <th>drug_a_structure</th>\n",
       "      <th>drug_b_structure</th>\n",
       "      <th>cell_line</th>\n",
       "      <th>synergy</th>\n",
       "    </tr>\n",
       "  </thead>\n",
       "  <tbody>\n",
       "    <tr>\n",
       "      <th>0</th>\n",
       "      <td>Cc1nc(Nc2ncc(C(=O)Nc3c(C)cccc3Cl)s2)cc(N2CCN(C...</td>\n",
       "      <td>Cn1c(=O)n(-c2ccc(C(C)(C)C#N)cc2)c2c3cc(-c4cnc5...</td>\n",
       "      <td>ZR751</td>\n",
       "      <td>21.548383</td>\n",
       "    </tr>\n",
       "    <tr>\n",
       "      <th>1</th>\n",
       "      <td>CS(=O)(=O)CCNCc1ccc(-c2ccc3ncnc(Nc4ccc(OCc5ccc...</td>\n",
       "      <td>COC1CC2CCC(C)C(O)(O2)C(=O)C(=O)N2CCCCC2C(=O)OC...</td>\n",
       "      <td>VCAP</td>\n",
       "      <td>14.617611</td>\n",
       "    </tr>\n",
       "    <tr>\n",
       "      <th>2</th>\n",
       "      <td>COc1cccc2c1C(=O)c1c(O)c3c(c(O)c1C2=O)CC(O)(C(=...</td>\n",
       "      <td>NC(=O)c1cccc2cn(-c3ccc(C4CCCNC4)cc3)nc12</td>\n",
       "      <td>PA1</td>\n",
       "      <td>-13.653373</td>\n",
       "    </tr>\n",
       "    <tr>\n",
       "      <th>3</th>\n",
       "      <td>COC12C(COC(N)=O)C3=C(C(=O)C(C)=C(N)C3=O)N1CC1NC12</td>\n",
       "      <td>CCN(CC)CCNC(=O)c1c(C)[nH]c(C=C2C(=O)Nc3ccc(F)c...</td>\n",
       "      <td>RPMI7951</td>\n",
       "      <td>-5.641747</td>\n",
       "    </tr>\n",
       "    <tr>\n",
       "      <th>4</th>\n",
       "      <td>CS(=O)(=O)CCNCc1ccc(-c2ccc3ncnc(Nc4ccc(OCc5ccc...</td>\n",
       "      <td>O=C(O)C1(Cc2cccc(Nc3nccs3)n2)CCC(Oc2cccc(Cl)c2...</td>\n",
       "      <td>LOVO</td>\n",
       "      <td>28.431355</td>\n",
       "    </tr>\n",
       "  </tbody>\n",
       "</table>\n",
       "</div>"
      ],
      "text/plain": [
       "                                    drug_a_structure  \\\n",
       "0  Cc1nc(Nc2ncc(C(=O)Nc3c(C)cccc3Cl)s2)cc(N2CCN(C...   \n",
       "1  CS(=O)(=O)CCNCc1ccc(-c2ccc3ncnc(Nc4ccc(OCc5ccc...   \n",
       "2  COc1cccc2c1C(=O)c1c(O)c3c(c(O)c1C2=O)CC(O)(C(=...   \n",
       "3  COC12C(COC(N)=O)C3=C(C(=O)C(C)=C(N)C3=O)N1CC1NC12   \n",
       "4  CS(=O)(=O)CCNCc1ccc(-c2ccc3ncnc(Nc4ccc(OCc5ccc...   \n",
       "\n",
       "                                    drug_b_structure cell_line    synergy  \n",
       "0  Cn1c(=O)n(-c2ccc(C(C)(C)C#N)cc2)c2c3cc(-c4cnc5...     ZR751  21.548383  \n",
       "1  COC1CC2CCC(C)C(O)(O2)C(=O)C(=O)N2CCCCC2C(=O)OC...      VCAP  14.617611  \n",
       "2           NC(=O)c1cccc2cn(-c3ccc(C4CCCNC4)cc3)nc12       PA1 -13.653373  \n",
       "3  CCN(CC)CCNC(=O)c1c(C)[nH]c(C=C2C(=O)Nc3ccc(F)c...  RPMI7951  -5.641747  \n",
       "4  O=C(O)C1(Cc2cccc(Nc3nccs3)n2)CCC(Oc2cccc(Cl)c2...      LOVO  28.431355  "
      ]
     },
     "execution_count": 8,
     "metadata": {},
     "output_type": "execute_result"
    }
   ],
   "source": [
    "# train_data_path = \"/content/drive/My Drive/Projects and research stuffs/Drug Synergy/Dataset for GNN\"\n",
    "# main_data = pd.read_csv(train_data_path+'/final_data.csv')\n",
    "# print(main_data.shape)\n",
    "# main_data.head()\n",
    "\n",
    "from sklearn.preprocessing import StandardScaler\n",
    "data_for_gnn = main_data[['drug_a_structure', 'drug_b_structure', 'cell_line', 'synergy']].copy()\n",
    "data_for_gnn = data_for_gnn.sample(frac=1).reset_index().drop(['index'], 1)\n",
    "\n",
    "# scaler = StandardScaler().fit(data_for_gnn['synergy'].values.reshape(-1,1))\n",
    "# scaled_ops = scaler.transform(data_for_gnn['synergy'].values.reshape(-1,1))\n",
    "# data_for_gnn['synergy'] = scaled_ops\n",
    "data_for_gnn.head()\n"
   ]
  },
  {
   "cell_type": "code",
   "execution_count": 9,
   "metadata": {
    "id": "6X33A5vN575c"
   },
   "outputs": [],
   "source": [
    "\n",
    "# ### Importing dataset using their script\n",
    "\n",
    "# import requests\n",
    "# import os\n",
    "# import zlib\n",
    "\n",
    "\n",
    "# def _download_file(response, filename):\n",
    "#     with open(filename, 'wb') as f:\n",
    "#         for chunk in response.iter_content(chunk_size=1024):\n",
    "#             f.write(chunk)\n",
    "\n",
    "\n",
    "# def _download_and_decompress_file(response, filename):\n",
    "#     decompressor = zlib.decompressobj(16 + zlib.MAX_WBITS)\n",
    "#     filename = filename[:-3]\n",
    "#     with open(filename, 'w+') as f:\n",
    "#         while True:\n",
    "#             chunk = response.raw.read(1024)\n",
    "#             if not chunk:\n",
    "#                 break\n",
    "#             string = decompressor.decompress(chunk)\n",
    "#             f.write(string)\n",
    "\n",
    "\n",
    "# def download_datasets(selected_datasets, selected_downloads, decompress=False):\n",
    "#     for dataset, path in selected_datasets:\n",
    "#         if not os.path.exists(dataset):\n",
    "#             os.mkdir(dataset)\n",
    "\n",
    "#         for downloadable in selected_downloads:\n",
    "#             url = 'https://maayanlab.cloud/static/hdfs/harmonizome/data/%s/%s' %\\\n",
    "#                   (path, downloadable)\n",
    "#             response = requests.get(url, stream=True)\n",
    "#             filename = '%s/%s' % (dataset, downloadable)\n",
    "\n",
    "#             # Not every dataset has all downloadables.\n",
    "#             if response.status_code != 200:\n",
    "#                 continue\n",
    "\n",
    "#             if decompress and 'txt.gz' in filename:\n",
    "#                 _download_and_decompress_file(response, filename)\n",
    "#             else:\n",
    "#                 _download_file(response, filename)\n",
    "\n",
    "#         print('%s downloaded.' % dataset)\n",
    "\n",
    "\n",
    "# if __name__ == '__main__':\n",
    "#     # Uncomment a dataset to download it.\n",
    "#     download_datasets([\n",
    "# #         ('Achilles Cell Line Gene Essentiality Profiles', 'achilles'),\n",
    "# #         ('Allen Brain Atlas Adult Human Brain Tissue Gene Expression Profiles', 'brainatlasadulthuman'),\n",
    "# #         ('Allen Brain Atlas Adult Mouse Brain Tissue Gene Expression Profiles', 'brainatlasadultmouse'),\n",
    "# #         ('Allen Brain Atlas Developing Human Brain Tissue Gene Expression Profiles by Microarray', 'brainatlasdevelopmentalhumanmicroarray'),\n",
    "# #         ('Allen Brain Atlas Developing Human Brain Tissue Gene Expression Profiles by RNA-seq', 'brainatlasdevelopmentalhumanrnaseq'),\n",
    "# #         ('Allen Brain Atlas Prenatal Human Brain Tissue Gene Expression Profiles', 'brainatlasprenatalhuman'),\n",
    "# #         ('BIND Biomolecular Interactions', 'bind'),\n",
    "# #         ('BioGPS Cell Line Gene Expression Profiles', 'biogpsnci60'),\n",
    "# #         ('BioGPS Human Cell Type and Tissue Gene Expression Profiles', 'biogpshuman'),\n",
    "# #         ('BioGPS Mouse Cell Type and Tissue Gene Expression Profiles', 'biogpsmouse'),\n",
    "# #         ('BioGRID Protein-Protein Interactions', 'biogrid'),\n",
    "# #         ('Biocarta Pathways', 'biocarta'),\n",
    "#         ('CCLE Cell Line Gene CNV Profiles', 'cclecnv'),\n",
    "#         ('CCLE Cell Line Gene Expression Profiles', 'cclemrna'),\n",
    "#         ('CCLE Cell Line Gene Mutation Profiles', 'cclemut'),\n",
    "# #         ('CHEA Transcription Factor Binding Site Profiles', 'chea'),\n",
    "# #         ('CHEA Transcription Factor Targets', 'cheappi'),\n",
    "# #         ('CMAP Signatures of Differentially Expressed Genes for Small Molecules', 'cmap'),\n",
    "# #         ('COMPARTMENTS Curated Protein Localization Evidence Scores', 'jensencompartmentcurated'),\n",
    "# #         ('COMPARTMENTS Experimental Protein Localization Evidence Scores', 'jensencompartmentexpts'),\n",
    "# #         ('COMPARTMENTS Text-mining Protein Localization Evidence Scores', 'jensencompartmenttextmining'),\n",
    "# #         ('CORUM Protein Complexes', 'corum'),\n",
    "# #         ('COSMIC Cell Line Gene CNV Profiles', 'cosmiccnv'),\n",
    "# #         ('COSMIC Cell Line Gene Mutation Profiles', 'cosmicmut'),\n",
    "# #         ('CTD Gene-Chemical Interactions', 'ctdchemical'),\n",
    "# #         ('CTD Gene-Disease Associations', 'ctddisease'),\n",
    "# #         ('ClinVar SNP-Phenotype Associations', 'clinvar'),\n",
    "# #         ('Combined Pathways Pathways', 'combinedpathways'),\n",
    "# #         ('dbGAP Gene-Trait Associations', 'dbgap'),\n",
    "# #         ('DEPOD Substrates of Phosphatases', 'depod'),\n",
    "# #         ('DIP Protein-Protein Interactions', 'dip'),\n",
    "# #         ('DISEASES Curated Gene-Disease Assocation Evidence Scores', 'jensendiseasecurated'),\n",
    "# #         ('DISEASES Experimental Gene-Disease Assocation Evidence Scores', 'jensendiseaseexpts'),\n",
    "# #         ('DISEASES Text-mining Gene-Disease Assocation Evidence Scores', 'jensendiseasetextmining'),\n",
    "# #         ('DrugBank Drug Targets', 'drugbank'),\n",
    "# #         ('ENCODE Histone Modification Site Profiles', 'encodehm'),\n",
    "# #         ('ENCODE Transcription Factor Binding Site Profiles', 'encodetf'),\n",
    "# #         ('ENCODE Transcription Factor Targets', 'encodetfppi'),\n",
    "# #         ('ESCAPE Omics Signatures of Genes and Proteins for Stem Cells', 'escape'),\n",
    "# #         ('GAD Gene-Disease Associations', 'gad'),\n",
    "# #         ('GAD High Level Gene-Disease Associations', 'gadhighlevel'),\n",
    "# #         ('GDSC Cell Line Gene Expression Profiles', 'gdsc'),\n",
    "# #         ('GEO Signatures of Differentially Expressed Genes for Diseases', 'geodisease'),\n",
    "# #         ('GEO Signatures of Differentially Expressed Genes for Gene Perturbations', 'geogene'),\n",
    "# #         ('GEO Signatures of Differentially Expressed Genes for Kinase Perturbations', 'geokinase'),\n",
    "# #         ('GEO Signatures of Differentially Expressed Genes for Small Molecules', 'geochemical'),\n",
    "# #         ('GEO Signatures of Differentially Expressed Genes for Transcription Factor Perturbations', 'geotf'),\n",
    "# #         ('GEO Signatures of Differentially Expressed Genes for Viral Infections', 'geovirus'),\n",
    "# #         ('GO Biological Process Annotations', 'gobp'),\n",
    "# #         ('GO Cellular Component Annotations', 'gocc'),\n",
    "# #         ('GO Molecular Function Annotations', 'gomf'),\n",
    "# #         ('GTEx Tissue Gene Expression Profiles', 'gtextissue'),\n",
    "# #         ('GTEx Tissue Sample Gene Expression Profiles', 'gtexsample'),\n",
    "# #         ('GTEx eQTL', 'gtexeqtl'),\n",
    "# #         ('GWAS Catalog SNP-Phenotype Associations', 'gwascatalog'),\n",
    "# #         ('GWASdb SNP-Disease Associations', 'gwasdbdisease'),\n",
    "# #         ('GWASdb SNP-Phenotype Associations', 'gwasdbphenotype'),\n",
    "# #         ('GeneRIF Biological Term Annotations', 'generif'),\n",
    "# #         ('GeneSigDB Published Gene Signatures', 'genesigdb'),\n",
    "# #         ('Graph of Medicine EHR Text-mining Clinical Term Annotations', 'graphofmedicine'),\n",
    "# #         ('Guide to Pharmacology Chemical Ligands of Receptors', 'guidetopharmchemical'),\n",
    "# #         ('Guide to Pharmacology Protein Ligands of Receptors', 'guidetopharmprotein'),\n",
    "# #         ('HMDB Metabolites of Enzymes', 'hmdb'),\n",
    "# #         ('HPA Cell Line Gene Expression Profiles', 'hpacelllines'),\n",
    "# #         ('HPA Tissue Gene Expression Profiles', 'hpatissuesmrna'),\n",
    "# #         ('HPA Tissue Protein Expression Profiles', 'hpatissuesprotein'),\n",
    "# #         ('HPA Tissue Sample Gene Expression Profiles', 'hpasamples'),\n",
    "# #         ('HPM Cell Type and Tissue Protein Expression Profiles', 'hpm'),\n",
    "# #         ('HPO Gene-Disease Associations', 'hpo'),\n",
    "# #         ('HPRD Protein-Protein Interactions', 'hprd'),\n",
    "# #         ('Heiser et al., PNAS, 2011 Cell Line Gene Expression Profiles', 'heiser'),\n",
    "# #         ('HuGE Navigator Gene-Phenotype Associations', 'hugenavigator'),\n",
    "# #         ('Hub Proteins Protein-Protein Interactions', 'hubs'),\n",
    "# #         ('HumanCyc Biomolecular Interactions', 'humancycppi'),\n",
    "# #         ('HumanCyc Pathways', 'humancyc'),\n",
    "# #         ('IntAct Biomolecular Interactions', 'intact'),\n",
    "# #         ('InterPro Predicted Protein Domain Annotations', 'interpro'),\n",
    "# #         ('JASPAR Predicted Transcription Factor Targets', 'jasparpwm'),\n",
    "# #         ('KEA Substrates of Kinases', 'kea'),\n",
    "# #         ('KEGG Biomolecular Interactions', 'keggppi'),\n",
    "# #         ('KEGG Pathways', 'kegg'),\n",
    "# #         ('Kinativ Kinase Inhibitor Bioactivity Profiles', 'kinativ'),\n",
    "# #         ('KinomeScan Kinase Inhibitor Targets', 'kinomescan'),\n",
    "# #         ('Klijn et al., Nat. Biotechnol., 2015 Cell Line Gene CNV Profiles', 'klijncnv'),\n",
    "# #         ('Klijn et al., Nat. Biotechnol., 2015 Cell Line Gene Expression Profiles', 'klijnmrna'),\n",
    "# #         ('Klijn et al., Nat. Biotechnol., 2015 Cell Line Gene Mutation Profiles', 'klijnmut'),\n",
    "# #         ('LINCS L1000 CMAP Signatures of Differentially Expressed Genes for Gene Knockdowns', 'lincscmapgene'),\n",
    "# #         ('LINCS L1000 CMAP Signatures of Differentially Expressed Genes for Small Molecules', 'lincscmapchemical'),\n",
    "# #         ('LOCATE Curated Protein Localization Annotations', 'locate'),\n",
    "# #         ('LOCATE Predicted Protein Localization Annotations', 'locatepredicted'),\n",
    "# #         ('MPO Gene-Phenotype Associations', 'mgimpo'),\n",
    "# #         ('MSigDB Cancer Gene Co-expression Modules', 'msigdbcomp'),\n",
    "# #         ('MSigDB Signatures of Differentially Expressed Genes for Cancer Gene Perturbations', 'msigdbonc'),\n",
    "# #         ('MiRTarBase microRNA Targets', 'mirtarbase'),\n",
    "# #         ('MotifMap Predicted Transcription Factor Targets', 'motifmap'),\n",
    "# #         ('NURSA Protein Complexes', 'nursa'),\n",
    "# #         ('NURSA Protein-Protein Interactions', 'nursappi'),\n",
    "# #         ('OMIM Gene-Disease Associations', 'omim'),\n",
    "# #         ('PANTHER Biomolecular Interactions', 'pantherppi'),\n",
    "# #         ('PANTHER Pathways', 'panther'),\n",
    "# #         ('PID Biomolecular Interactions', 'pidppi'),\n",
    "# #         ('PID Pathways', 'pid'),\n",
    "# #         ('Pathway Commons Protein-Protein Interactions', 'pc'),\n",
    "# #         ('PhosphoSitePlus Phosphosite-Disease Associations', 'phosphositeplusdisease'),\n",
    "# #         ('PhosphoSitePlus Substrates of Kinases', 'phosphositeplus'),\n",
    "# #         ('Phosphosite Textmining Biological Term Annotations', 'phosphositetextmining'),\n",
    "# #         ('ProteomicsDB Cell Type and Tissue Protein Expression Profiles', 'proteomicsdb'),\n",
    "# #         ('Reactome Biomolecular Interactions', 'reactomeppi'),\n",
    "# #         ('Reactome Pathways', 'reactome'),\n",
    "# #         ('Recon X Predicted Biomolecular Interactions', 'reconx'),\n",
    "# #         ('Roadmap Epigenomics Cell and Tissue DNA Accessibility Profiles', 'epigenomicsdnaaccessibility'),\n",
    "# #         ('Roadmap Epigenomics Cell and Tissue DNA Methylation Profiles', 'epigenomicsdnamethylation'),\n",
    "# #         ('Roadmap Epigenomics Cell and Tissue Gene Expression Profiles', 'epigenomicsmrna'),\n",
    "# #         ('Roadmap Epigenomics Histone Modification Site Profiles', 'epigenomicshm'),\n",
    "# #         ('SILAC Phosphoproteomics Signatures of Differentially Phosphorylated Proteins for Drugs', 'silacdrug'),\n",
    "# #         ('SILAC Phosphoproteomics Signatures of Differentially Phosphorylated Proteins for Gene Perturbations', 'silacgene'),\n",
    "# #         ('SILAC Phosphoproteomics Signatures of Differentially Phosphorylated Proteins for Protein Ligands', 'silacligand'),\n",
    "# #         ('SNPedia SNP-Phenotype Associations', 'snpedia'),\n",
    "# #         ('TCGA Signatures of Differentially Expressed Genes for Tumors', 'tcga'),\n",
    "# #         ('TISSUES Curated Tissue Protein Expression Evidence Scores', 'jensentissuecurated'),\n",
    "# #         ('TISSUES Experimental Tissue Protein Expression Evidence Scores', 'jensentissueexpts'),\n",
    "# #         ('TISSUES Text-mining Tissue Protein Expression Evidence Scores', 'jensentissuetextmining'),\n",
    "# #         ('TRANSFAC Curated Transcription Factor Targets', 'transfac'),\n",
    "# #         ('TRANSFAC Predicted Transcription Factor Targets', 'transfacpwm'),\n",
    "# #         ('TargetScan Predicted Conserved microRNA Targets', 'targetscan'),\n",
    "# #         ('TargetScan Predicted Nonconserved microRNA Targets', 'targetscannonconserved'),\n",
    "# #         ('Virus MINT Protein-Viral Protein Interactions', 'virusmintppi'),\n",
    "# #         ('Virus MINT Protein-Virus Interactions', 'virusmint'),\n",
    "# #         ('Wikipathways Pathways', 'wikipathways'),\n",
    "#     ], [\n",
    "#         'gene_attribute_matrix.txt.gz',\n",
    "#         'gene_attribute_edges.txt.gz',\n",
    "# #         'gene_set_library_crisp.txt.gz',\n",
    "# #         'gene_set_library_up_crisp.txt.gz',\n",
    "# #         'gene_set_library_dn_crisp.txt.gz',\n",
    "# #         'attribute_set_library_crisp.txt.gz',\n",
    "# #         'attribute_set_library_up_crisp.txt.gz',\n",
    "# #         'attribute_set_library_dn_crisp.txt.gz',\n",
    "# #         'gene_similarity_matrix_cosine.txt.gz',\n",
    "# #         'attribute_similarity_matrix_cosine.txt.gz',\n",
    "# #         'gene_list_terms.txt.gz',\n",
    "# #         'attribute_list_entries.txt.gz',\n",
    "#         'processing_script.m'\n",
    "#     ])"
   ]
  },
  {
   "cell_type": "code",
   "execution_count": 10,
   "metadata": {
    "id": "VEzaiYgV577h"
   },
   "outputs": [],
   "source": [
    "# main_data.head()"
   ]
  },
  {
   "cell_type": "markdown",
   "metadata": {
    "id": "ozSjdBhK58l9"
   },
   "source": [
    "#### Pre-processing gene expression attribute matrix and edge matrix"
   ]
  },
  {
   "cell_type": "code",
   "execution_count": null,
   "metadata": {
    "colab": {
     "base_uri": "https://localhost:8080/"
    },
    "id": "3kcqY91T6CwX",
    "outputId": "62b1d410-81fd-4bae-d169-0f5a2f8cf874"
   },
   "outputs": [],
   "source": [
    "# Read attribute matrix\n",
    "ccle_attr = pd.read_csv('/content/drive/My Drive/Projects and research stuffs/Drug Synergy/Dataset for GNN/CCLE Cell Line Gene Expression Profiles/gene_attribute_matrix.txt.gz', sep='\\t')\n",
    "print(ccle_attr.shape)\n",
    "cell2ind = pd.DataFrame(columns = ['index','Cell_lines'])\n",
    "cell2ind['Cell_lines'] = list(ccle_attr.columns[3:])\n",
    "cell2ind['index'] =  list(cell2ind.index)\n",
    "print(cell2ind.head())\n",
    "gene2ind = pd.DataFrame(columns = ['index','Genes', 'Gene_id'])\n",
    "gene2ind['Genes'] =  list(ccle_attr['#'].values[2:])\n",
    "gene2ind['index'] =  list(gene2ind.index)\n",
    "gene2ind['Gene_id'] =  list(ccle_attr['CellLine'].values[2:])\n",
    "\n",
    "print(gene2ind.head())\n",
    "cell2exp = pd.DataFrame(columns = ['expression'])\n",
    "l = []\n",
    "for cells_ind in range(len(cell2ind['Cell_lines'])):\n",
    "    l.append(list(ccle_attr[cell2ind['Cell_lines'].iloc[cells_ind]].values[2:]))\n",
    "    \n",
    "cell2exp['expression'] = l\n",
    "print(cell2exp.head())"
   ]
  },
  {
   "cell_type": "code",
   "execution_count": null,
   "metadata": {
    "id": "q7pGl2A51yzC"
   },
   "outputs": [],
   "source": []
  },
  {
   "cell_type": "code",
   "execution_count": null,
   "metadata": {
    "colab": {
     "base_uri": "https://localhost:8080/"
    },
    "id": "QXhJbfJUIFML",
    "outputId": "a4b6259a-28d4-4a5d-c7a7-a0bef61414ba"
   },
   "outputs": [],
   "source": [
    "print(gene2ind.shape)"
   ]
  },
  {
   "cell_type": "code",
   "execution_count": null,
   "metadata": {
    "id": "487fhQ4huwzh"
   },
   "outputs": [],
   "source": []
  },
  {
   "cell_type": "code",
   "execution_count": null,
   "metadata": {
    "colab": {
     "base_uri": "https://localhost:8080/",
     "height": 206
    },
    "id": "SM2AQ1Mr6C34",
    "outputId": "468c2494-306d-47c8-f11c-24f44d88c1e4"
   },
   "outputs": [],
   "source": [
    "pp_int = pd.read_csv('/content/drive/My Drive/Projects and research stuffs/Drug Synergy/Dataset for GNN/PP-Pathways_ppi.csv.gz', header=None)\n",
    "pp_int.columns = ['Protein1', 'Protein2']\n",
    "pp_int.head()"
   ]
  },
  {
   "cell_type": "code",
   "execution_count": null,
   "metadata": {
    "id": "sWegpWg86C6o"
   },
   "outputs": [],
   "source": [
    "# This dataset has proper gene-gene interactions\n",
    "# pp_int[pp_int['Protein1'] == 2200][:2]"
   ]
  },
  {
   "cell_type": "code",
   "execution_count": null,
   "metadata": {
    "colab": {
     "base_uri": "https://localhost:8080/"
    },
    "id": "C2zolyQ1Ny3L",
    "outputId": "86b92997-f8da-4b36-84af-dcda385adcf4"
   },
   "outputs": [],
   "source": [
    "# If any genes are cell line ids, remove them\n",
    "cell_ids = cell2ind['Cell_lines'].unique()\n",
    "to_drop = []\n",
    "for i in range(len(gene2ind)):\n",
    "  if(gene2ind.iloc[i]['Genes'] in cell_ids):\n",
    "    to_drop.append(i)\n",
    "\n",
    "print(len(to_drop))\n",
    "\n",
    "gene2ind = gene2ind.drop(to_drop, axis = 0)"
   ]
  },
  {
   "cell_type": "code",
   "execution_count": null,
   "metadata": {
    "colab": {
     "base_uri": "https://localhost:8080/"
    },
    "id": "_piAJkvF87Ws",
    "outputId": "699fe505-2b05-4299-892f-0363b6938ede"
   },
   "outputs": [],
   "source": [
    "gene2ind.shape"
   ]
  },
  {
   "cell_type": "code",
   "execution_count": null,
   "metadata": {
    "colab": {
     "base_uri": "https://localhost:8080/"
    },
    "id": "DZWvDK8h040q",
    "outputId": "a8c99aed-1b20-4741-9972-aaf6e3f6c2e1"
   },
   "outputs": [],
   "source": [
    "# Check and take only intersection of gene ids\n",
    "\n",
    "# Create set of all values from both p1 and p2 columns\n",
    "p1p2 = set()\n",
    "# for i in range(len(pp_int)):\n",
    "#   p1p2.add(pp_int['Protein1'].iloc[i])\n",
    "#   p1p2.add(pp_int['Protein2'].iloc[i])\n",
    "\n",
    "p1p2 = set(np.concatenate((pp_int['Protein1'].unique(), pp_int['Protein2'].unique())))\n",
    "print('Total gene ids in pp_int dataset: ', len(p1p2))\n",
    "\n",
    "#### Check if any gene ids from deepsynergy dataset is missing in this p1p2\n",
    "common_gene_ids = []\n",
    "uncommon_gene_ids = []\n",
    "\n",
    "for i in range(len(gene2ind)):\n",
    "  if(gene2ind.iloc[i]['Gene_id'] in p1p2):\n",
    "    common_gene_ids.append(gene2ind.iloc[i]['Gene_id'])\n",
    "  else:\n",
    "    uncommon_gene_ids.append(gene2ind.iloc[i]['Gene_id'])\n",
    "\n",
    "print('Total Common intersecting gene ids:', len(common_gene_ids), ' and Total uncommon non-intersecting gene ids: ', len(uncommon_gene_ids))\n",
    "\n"
   ]
  },
  {
   "cell_type": "code",
   "execution_count": null,
   "metadata": {
    "id": "kT27Oo096DkY"
   },
   "outputs": [],
   "source": [
    "# Take only 5k genes (avoid computational problems )\n",
    "# final_gene_ids = common_gene_ids[:10000]\n",
    "\n"
   ]
  },
  {
   "cell_type": "code",
   "execution_count": null,
   "metadata": {
    "colab": {
     "base_uri": "https://localhost:8080/",
     "height": 334
    },
    "id": "qCsrxrEwd_Td",
    "outputId": "fd8af91a-f77b-4975-8470-0800f8525f32"
   },
   "outputs": [
    {
     "data": {
      "text/html": [
       "\n",
       "  <div id=\"df-4dccff3d-20f0-42b1-805e-9bda641dcd86\">\n",
       "    <div class=\"colab-df-container\">\n",
       "      <div>\n",
       "<style scoped>\n",
       "    .dataframe tbody tr th:only-of-type {\n",
       "        vertical-align: middle;\n",
       "    }\n",
       "\n",
       "    .dataframe tbody tr th {\n",
       "        vertical-align: top;\n",
       "    }\n",
       "\n",
       "    .dataframe thead th {\n",
       "        text-align: right;\n",
       "    }\n",
       "</style>\n",
       "<table border=\"1\" class=\"dataframe\">\n",
       "  <thead>\n",
       "    <tr style=\"text-align: right;\">\n",
       "      <th></th>\n",
       "      <th>#</th>\n",
       "      <th>#.1</th>\n",
       "      <th>CellLine</th>\n",
       "      <th>CHL1</th>\n",
       "      <th>HMCB</th>\n",
       "      <th>HS852T</th>\n",
       "      <th>HS695T</th>\n",
       "      <th>A101D</th>\n",
       "      <th>HS294T</th>\n",
       "      <th>SNU466</th>\n",
       "      <th>...</th>\n",
       "      <th>HEL9217</th>\n",
       "      <th>HEL</th>\n",
       "      <th>UT7</th>\n",
       "      <th>SET2</th>\n",
       "      <th>MOLM16</th>\n",
       "      <th>KU812</th>\n",
       "      <th>TF1</th>\n",
       "      <th>MEG01</th>\n",
       "      <th>KYO1</th>\n",
       "      <th>K562</th>\n",
       "    </tr>\n",
       "  </thead>\n",
       "  <tbody>\n",
       "    <tr>\n",
       "      <th>0</th>\n",
       "      <td>#</td>\n",
       "      <td>#</td>\n",
       "      <td>Tissue</td>\n",
       "      <td>skin</td>\n",
       "      <td>skin</td>\n",
       "      <td>skin</td>\n",
       "      <td>skin</td>\n",
       "      <td>skin</td>\n",
       "      <td>skin</td>\n",
       "      <td>central nervous system</td>\n",
       "      <td>...</td>\n",
       "      <td>haematopoietic and lymphoid tissue</td>\n",
       "      <td>haematopoietic and lymphoid tissue</td>\n",
       "      <td>haematopoietic and lymphoid tissue</td>\n",
       "      <td>haematopoietic and lymphoid tissue</td>\n",
       "      <td>haematopoietic and lymphoid tissue</td>\n",
       "      <td>haematopoietic and lymphoid tissue</td>\n",
       "      <td>haematopoietic and lymphoid tissue</td>\n",
       "      <td>haematopoietic and lymphoid tissue</td>\n",
       "      <td>haematopoietic and lymphoid tissue</td>\n",
       "      <td>haematopoietic and lymphoid tissue</td>\n",
       "    </tr>\n",
       "    <tr>\n",
       "      <th>1</th>\n",
       "      <td>GeneSym</td>\n",
       "      <td>NaN</td>\n",
       "      <td>GeneID/NA</td>\n",
       "      <td>na</td>\n",
       "      <td>na</td>\n",
       "      <td>na</td>\n",
       "      <td>na</td>\n",
       "      <td>na</td>\n",
       "      <td>na</td>\n",
       "      <td>na</td>\n",
       "      <td>...</td>\n",
       "      <td>na</td>\n",
       "      <td>na</td>\n",
       "      <td>na</td>\n",
       "      <td>na</td>\n",
       "      <td>na</td>\n",
       "      <td>na</td>\n",
       "      <td>na</td>\n",
       "      <td>na</td>\n",
       "      <td>na</td>\n",
       "      <td>na</td>\n",
       "    </tr>\n",
       "    <tr>\n",
       "      <th>2</th>\n",
       "      <td>FBN1</td>\n",
       "      <td>na</td>\n",
       "      <td>2200</td>\n",
       "      <td>0.000000</td>\n",
       "      <td>0.000000</td>\n",
       "      <td>0.000000</td>\n",
       "      <td>-0.000000</td>\n",
       "      <td>0.000000</td>\n",
       "      <td>0.000000</td>\n",
       "      <td>0.000000</td>\n",
       "      <td>...</td>\n",
       "      <td>-0.000000</td>\n",
       "      <td>0.000000</td>\n",
       "      <td>0.000000</td>\n",
       "      <td>0.000000</td>\n",
       "      <td>0.000000</td>\n",
       "      <td>0.000000</td>\n",
       "      <td>-0.000000</td>\n",
       "      <td>0.000000</td>\n",
       "      <td>-0.000000</td>\n",
       "      <td>-0.000000</td>\n",
       "    </tr>\n",
       "    <tr>\n",
       "      <th>3</th>\n",
       "      <td>ITGBL1</td>\n",
       "      <td>na</td>\n",
       "      <td>9358</td>\n",
       "      <td>-0.000000</td>\n",
       "      <td>-0.000000</td>\n",
       "      <td>0.000000</td>\n",
       "      <td>-0.000000</td>\n",
       "      <td>-0.000000</td>\n",
       "      <td>-0.000000</td>\n",
       "      <td>0.000000</td>\n",
       "      <td>...</td>\n",
       "      <td>0.000000</td>\n",
       "      <td>0.000000</td>\n",
       "      <td>0.000000</td>\n",
       "      <td>0.000000</td>\n",
       "      <td>0.000000</td>\n",
       "      <td>0.000000</td>\n",
       "      <td>0.000000</td>\n",
       "      <td>0.000000</td>\n",
       "      <td>0.000000</td>\n",
       "      <td>-0.000000</td>\n",
       "    </tr>\n",
       "    <tr>\n",
       "      <th>4</th>\n",
       "      <td>LRP1</td>\n",
       "      <td>na</td>\n",
       "      <td>4035</td>\n",
       "      <td>-0.000000</td>\n",
       "      <td>-0.000000</td>\n",
       "      <td>0.000000</td>\n",
       "      <td>0.000000</td>\n",
       "      <td>0.000000</td>\n",
       "      <td>0.000000</td>\n",
       "      <td>1.000000</td>\n",
       "      <td>...</td>\n",
       "      <td>-0.000000</td>\n",
       "      <td>-0.000000</td>\n",
       "      <td>-0.000000</td>\n",
       "      <td>-0.000000</td>\n",
       "      <td>-0.000000</td>\n",
       "      <td>-0.000000</td>\n",
       "      <td>-0.000000</td>\n",
       "      <td>-0.000000</td>\n",
       "      <td>-0.000000</td>\n",
       "      <td>-0.000000</td>\n",
       "    </tr>\n",
       "  </tbody>\n",
       "</table>\n",
       "<p>5 rows × 1040 columns</p>\n",
       "</div>\n",
       "      <button class=\"colab-df-convert\" onclick=\"convertToInteractive('df-4dccff3d-20f0-42b1-805e-9bda641dcd86')\"\n",
       "              title=\"Convert this dataframe to an interactive table.\"\n",
       "              style=\"display:none;\">\n",
       "        \n",
       "  <svg xmlns=\"http://www.w3.org/2000/svg\" height=\"24px\"viewBox=\"0 0 24 24\"\n",
       "       width=\"24px\">\n",
       "    <path d=\"M0 0h24v24H0V0z\" fill=\"none\"/>\n",
       "    <path d=\"M18.56 5.44l.94 2.06.94-2.06 2.06-.94-2.06-.94-.94-2.06-.94 2.06-2.06.94zm-11 1L8.5 8.5l.94-2.06 2.06-.94-2.06-.94L8.5 2.5l-.94 2.06-2.06.94zm10 10l.94 2.06.94-2.06 2.06-.94-2.06-.94-.94-2.06-.94 2.06-2.06.94z\"/><path d=\"M17.41 7.96l-1.37-1.37c-.4-.4-.92-.59-1.43-.59-.52 0-1.04.2-1.43.59L10.3 9.45l-7.72 7.72c-.78.78-.78 2.05 0 2.83L4 21.41c.39.39.9.59 1.41.59.51 0 1.02-.2 1.41-.59l7.78-7.78 2.81-2.81c.8-.78.8-2.07 0-2.86zM5.41 20L4 18.59l7.72-7.72 1.47 1.35L5.41 20z\"/>\n",
       "  </svg>\n",
       "      </button>\n",
       "      \n",
       "  <style>\n",
       "    .colab-df-container {\n",
       "      display:flex;\n",
       "      flex-wrap:wrap;\n",
       "      gap: 12px;\n",
       "    }\n",
       "\n",
       "    .colab-df-convert {\n",
       "      background-color: #E8F0FE;\n",
       "      border: none;\n",
       "      border-radius: 50%;\n",
       "      cursor: pointer;\n",
       "      display: none;\n",
       "      fill: #1967D2;\n",
       "      height: 32px;\n",
       "      padding: 0 0 0 0;\n",
       "      width: 32px;\n",
       "    }\n",
       "\n",
       "    .colab-df-convert:hover {\n",
       "      background-color: #E2EBFA;\n",
       "      box-shadow: 0px 1px 2px rgba(60, 64, 67, 0.3), 0px 1px 3px 1px rgba(60, 64, 67, 0.15);\n",
       "      fill: #174EA6;\n",
       "    }\n",
       "\n",
       "    [theme=dark] .colab-df-convert {\n",
       "      background-color: #3B4455;\n",
       "      fill: #D2E3FC;\n",
       "    }\n",
       "\n",
       "    [theme=dark] .colab-df-convert:hover {\n",
       "      background-color: #434B5C;\n",
       "      box-shadow: 0px 1px 3px 1px rgba(0, 0, 0, 0.15);\n",
       "      filter: drop-shadow(0px 1px 2px rgba(0, 0, 0, 0.3));\n",
       "      fill: #FFFFFF;\n",
       "    }\n",
       "  </style>\n",
       "\n",
       "      <script>\n",
       "        const buttonEl =\n",
       "          document.querySelector('#df-4dccff3d-20f0-42b1-805e-9bda641dcd86 button.colab-df-convert');\n",
       "        buttonEl.style.display =\n",
       "          google.colab.kernel.accessAllowed ? 'block' : 'none';\n",
       "\n",
       "        async function convertToInteractive(key) {\n",
       "          const element = document.querySelector('#df-4dccff3d-20f0-42b1-805e-9bda641dcd86');\n",
       "          const dataTable =\n",
       "            await google.colab.kernel.invokeFunction('convertToInteractive',\n",
       "                                                     [key], {});\n",
       "          if (!dataTable) return;\n",
       "\n",
       "          const docLinkHtml = 'Like what you see? Visit the ' +\n",
       "            '<a target=\"_blank\" href=https://colab.research.google.com/notebooks/data_table.ipynb>data table notebook</a>'\n",
       "            + ' to learn more about interactive tables.';\n",
       "          element.innerHTML = '';\n",
       "          dataTable['output_type'] = 'display_data';\n",
       "          await google.colab.output.renderOutput(dataTable, element);\n",
       "          const docLink = document.createElement('div');\n",
       "          docLink.innerHTML = docLinkHtml;\n",
       "          element.appendChild(docLink);\n",
       "        }\n",
       "      </script>\n",
       "    </div>\n",
       "  </div>\n",
       "  "
      ],
      "text/plain": [
       "         #  #.1   CellLine       CHL1       HMCB    HS852T     HS695T  \\\n",
       "0        #    #     Tissue       skin       skin      skin       skin   \n",
       "1  GeneSym  NaN  GeneID/NA         na         na        na         na   \n",
       "2     FBN1   na       2200   0.000000   0.000000  0.000000  -0.000000   \n",
       "3   ITGBL1   na       9358  -0.000000  -0.000000  0.000000  -0.000000   \n",
       "4     LRP1   na       4035  -0.000000  -0.000000  0.000000   0.000000   \n",
       "\n",
       "       A101D     HS294T                  SNU466  ...  \\\n",
       "0       skin       skin  central nervous system  ...   \n",
       "1         na         na                      na  ...   \n",
       "2   0.000000   0.000000                0.000000  ...   \n",
       "3  -0.000000  -0.000000                0.000000  ...   \n",
       "4   0.000000   0.000000                1.000000  ...   \n",
       "\n",
       "                              HEL9217                                 HEL  \\\n",
       "0  haematopoietic and lymphoid tissue  haematopoietic and lymphoid tissue   \n",
       "1                                  na                                  na   \n",
       "2                           -0.000000                            0.000000   \n",
       "3                            0.000000                            0.000000   \n",
       "4                           -0.000000                           -0.000000   \n",
       "\n",
       "                                  UT7                                SET2  \\\n",
       "0  haematopoietic and lymphoid tissue  haematopoietic and lymphoid tissue   \n",
       "1                                  na                                  na   \n",
       "2                            0.000000                            0.000000   \n",
       "3                            0.000000                            0.000000   \n",
       "4                           -0.000000                           -0.000000   \n",
       "\n",
       "                               MOLM16                               KU812  \\\n",
       "0  haematopoietic and lymphoid tissue  haematopoietic and lymphoid tissue   \n",
       "1                                  na                                  na   \n",
       "2                            0.000000                            0.000000   \n",
       "3                            0.000000                            0.000000   \n",
       "4                           -0.000000                           -0.000000   \n",
       "\n",
       "                                  TF1                               MEG01  \\\n",
       "0  haematopoietic and lymphoid tissue  haematopoietic and lymphoid tissue   \n",
       "1                                  na                                  na   \n",
       "2                           -0.000000                            0.000000   \n",
       "3                            0.000000                            0.000000   \n",
       "4                           -0.000000                           -0.000000   \n",
       "\n",
       "                                 KYO1                                K562  \n",
       "0  haematopoietic and lymphoid tissue  haematopoietic and lymphoid tissue  \n",
       "1                                  na                                  na  \n",
       "2                           -0.000000                           -0.000000  \n",
       "3                            0.000000                           -0.000000  \n",
       "4                           -0.000000                           -0.000000  \n",
       "\n",
       "[5 rows x 1040 columns]"
      ]
     },
     "execution_count": 94,
     "metadata": {},
     "output_type": "execute_result"
    }
   ],
   "source": [
    "ccle_attr.head()"
   ]
  },
  {
   "cell_type": "markdown",
   "metadata": {
    "id": "oeGs8LoyghSx"
   },
   "source": [
    "#### Re-read cell_attr, this time ignore uncommon gene ids"
   ]
  },
  {
   "cell_type": "code",
   "execution_count": null,
   "metadata": {
    "colab": {
     "base_uri": "https://localhost:8080/"
    },
    "id": "iwGO6wXKhUqq",
    "outputId": "dc369fd4-c0c2-4142-b392-eec1246461d5"
   },
   "outputs": [
    {
     "name": "stdout",
     "output_type": "stream",
     "text": [
      "dropping  3031  genes\n",
      "(14996, 1040)\n"
     ]
    }
   ],
   "source": [
    "# Remove rows where id not present in common gene ids\n",
    "to_drop = []\n",
    "for i in range(2, len(ccle_attr)):\n",
    "  if(ccle_attr.iloc[i]['CellLine'] not in common_gene_ids):\n",
    "    to_drop.append(i)\n",
    "\n",
    "print('dropping ', len(to_drop), ' genes')\n",
    "ccle_attr = ccle_attr.drop(to_drop, axis = 0)\n",
    "print(ccle_attr.shape)\n"
   ]
  },
  {
   "cell_type": "code",
   "execution_count": null,
   "metadata": {
    "colab": {
     "base_uri": "https://localhost:8080/"
    },
    "id": "Lj40K3GsiPcX",
    "outputId": "8c12f65c-8563-49ac-b6eb-9a60b622b13a"
   },
   "outputs": [
    {
     "name": "stdout",
     "output_type": "stream",
     "text": [
      "(342353, 2)\n",
      "(261342, 2)\n"
     ]
    }
   ],
   "source": [
    "# Drop from pp_int dataset\n",
    "to_drop = set()\n",
    "for i in range(len(pp_int)):\n",
    "  if(pp_int.iloc[i]['Protein1'] not in common_gene_ids):\n",
    "    to_drop.add(i)\n",
    "  if(pp_int.iloc[i]['Protein2'] not in common_gene_ids):\n",
    "    to_drop.add(i)\n",
    "\n",
    "to_drop = list(to_drop)\n",
    "print(pp_int.shape)\n",
    "pp_int = pp_int.drop(to_drop, axis = 0)\n",
    "print(pp_int.shape)\n",
    "\n"
   ]
  },
  {
   "cell_type": "code",
   "execution_count": null,
   "metadata": {
    "id": "SCfyPKFKrgmY"
   },
   "outputs": [],
   "source": []
  },
  {
   "cell_type": "code",
   "execution_count": null,
   "metadata": {
    "colab": {
     "base_uri": "https://localhost:8080/"
    },
    "id": "U0v92uvwlSAD",
    "outputId": "5a604323-a24a-4a6e-ac68-c0d37d9057f7"
   },
   "outputs": [
    {
     "name": "stdout",
     "output_type": "stream",
     "text": [
      "Index(['Protein1', 'Protein2'], dtype='object')\n"
     ]
    }
   ],
   "source": [
    "ccle_attr = ccle_attr.reset_index().drop(['index'], axis = 1)\n",
    "pp_int = pp_int.reset_index().drop(['index'], axis = 1)\n",
    "print(pp_int.columns)"
   ]
  },
  {
   "cell_type": "code",
   "execution_count": null,
   "metadata": {
    "id": "GjTNGrb7rSBd"
   },
   "outputs": [],
   "source": []
  },
  {
   "cell_type": "code",
   "execution_count": null,
   "metadata": {
    "colab": {
     "base_uri": "https://localhost:8080/"
    },
    "id": "1dxx5ifu8mw5",
    "outputId": "cb497b1b-a4bf-44ed-da0f-bf3f7eb670e6"
   },
   "outputs": [
    {
     "name": "stdout",
     "output_type": "stream",
     "text": [
      "Unique gene ids in pp_int data:  14864\n",
      "Unique gene ids in ccle_attr data:  14994\n"
     ]
    }
   ],
   "source": [
    "print('Unique gene ids in pp_int data: ', len( set(np.concatenate((pp_int['Protein1'].unique(), pp_int['Protein2'].unique()))) ))\n",
    "print('Unique gene ids in ccle_attr data: ', len(ccle_attr['CellLine'][2:].unique()))"
   ]
  },
  {
   "cell_type": "markdown",
   "metadata": {
    "id": "weeqM98BkpaC"
   },
   "source": [
    "### Since these two do not match, remove all extra genes from ccle_attr dataset"
   ]
  },
  {
   "cell_type": "code",
   "execution_count": null,
   "metadata": {
    "id": "Nx0i6WBSklPs"
   },
   "outputs": [],
   "source": [
    "genes_in_pp = list(set(np.concatenate((pp_int['Protein1'].unique(), pp_int['Protein2'].unique()))))\n",
    "to_drop = []\n",
    "for i in range(2, len(ccle_attr)):\n",
    "  if(ccle_attr.iloc[i]['CellLine'] not in genes_in_pp):\n",
    "    to_drop.append(i)\n",
    "\n",
    "print('dropping ', len(to_drop), ' genes')\n",
    "ccle_attr = ccle_attr.drop(to_drop, axis = 0)\n",
    "print(ccle_attr.shape)\n"
   ]
  },
  {
   "cell_type": "code",
   "execution_count": null,
   "metadata": {
    "id": "whc5cptmkEah"
   },
   "outputs": [],
   "source": [
    "print('Unique gene ids in pp_int data: ', len( set(np.concatenate((pp_int['Protein1'].unique(), pp_int['Protein2'].unique()))) ))\n",
    "print('Unique gene ids in gene2ind data: ', len(ccle_attr['CellLine'].iloc[2:].unique()))"
   ]
  },
  {
   "cell_type": "code",
   "execution_count": null,
   "metadata": {
    "id": "dBWlwz9IkEfk"
   },
   "outputs": [],
   "source": [
    "ccle_attr = ccle_attr.reset_index().drop(['index'], axis = 1)\n",
    "pp_int = pp_int.reset_index().drop(['index'], axis = 1)\n",
    "print(ccle_attr.shape, pp_int.shape)"
   ]
  },
  {
   "cell_type": "markdown",
   "metadata": {
    "id": "meFmykmQ3YD0"
   },
   "source": [
    "## Run from here"
   ]
  },
  {
   "cell_type": "code",
   "execution_count": 11,
   "metadata": {
    "id": "fKij4bg3jWen"
   },
   "outputs": [],
   "source": [
    "# Save these two datasets, no need to run again\n",
    "# ccle_attr.to_csv('/content/drive/My Drive/Projects and research stuffs/Drug Synergy/Dataset for GNN/ccle_attr_updated.csv', index=False)\n",
    "# pp_int.to_csv('/content/drive/My Drive/Projects and research stuffs/Drug Synergy/Dataset for GNN/pp_int_updated.csv', index=False)\n",
    "\n",
    "ccle_attr = pd.read_csv('ccle_attr_updated.csv')\n",
    "pp_int = pd.read_csv('pp_int_updated.csv')"
   ]
  },
  {
   "cell_type": "code",
   "execution_count": 12,
   "metadata": {
    "colab": {
     "base_uri": "https://localhost:8080/"
    },
    "id": "DD-OYETUd_V7",
    "outputId": "c82c686e-d914-44dc-991b-92aef509da7f"
   },
   "outputs": [
    {
     "name": "stdout",
     "output_type": "stream",
     "text": [
      "   index Cell_lines\n",
      "0      0       CHL1\n",
      "1      1       HMCB\n",
      "2      2     HS852T\n",
      "3      3     HS695T\n",
      "4      4      A101D\n",
      "   index  Genes Gene_id\n",
      "0      0  UHMK1  127933\n",
      "1      1   DGKH  160851\n",
      "2      2   ERC1   23085\n",
      "3      3  LIMS1    3987\n",
      "4      4   NAB1    4664\n",
      "                                          expression\n",
      "0  [0.0, -0.0, 0.0, -0.0, -0.0, 0.0, -0.0, -0.0, ...\n",
      "1  [0.0, 0.0, -0.0, 0.0, 0.0, 0.0, -0.0, -0.0, 1....\n",
      "2  [0.0, -0.0, -0.0, -0.0, -0.0, -0.0, -1.0, -0.0...\n",
      "3  [0.0, -0.0, -0.0, 0.0, 0.0, 0.0, -0.0, 0.0, -0...\n",
      "4  [0.0, -0.0, 0.0, -0.0, 0.0, -0.0, 0.0, -0.0, -...\n"
     ]
    }
   ],
   "source": [
    "\n",
    "cell2ind = pd.DataFrame(columns = ['index','Cell_lines'])\n",
    "cell2ind['Cell_lines'] = list(ccle_attr.columns[3:])\n",
    "cell2ind['index'] =  list(cell2ind.index)\n",
    "print(cell2ind.head())\n",
    "gene2ind = pd.DataFrame(columns = ['index','Genes', 'Gene_id'])\n",
    "gene2ind['Genes'] =  list(ccle_attr['#'].values[2:])\n",
    "gene2ind['index'] =  list(gene2ind.index)\n",
    "gene2ind['Gene_id'] =  list(ccle_attr['CellLine'].values[2:])\n",
    "\n",
    "print(gene2ind.head())\n",
    "cell2exp = pd.DataFrame(columns = ['expression'])\n",
    "l = []\n",
    "for cells_ind in range(len(cell2ind['Cell_lines'])):\n",
    "    l.append(list(ccle_attr[cell2ind['Cell_lines'].iloc[cells_ind]].values[2:]))\n",
    "    \n",
    "cell2exp['expression'] = l\n",
    "print(cell2exp.head())"
   ]
  },
  {
   "cell_type": "code",
   "execution_count": null,
   "metadata": {
    "id": "8JZvQlfIgoik"
   },
   "outputs": [],
   "source": []
  },
  {
   "cell_type": "code",
   "execution_count": 13,
   "metadata": {
    "colab": {
     "base_uri": "https://localhost:8080/"
    },
    "id": "HazTV5MVgokl",
    "outputId": "72c14ca5-457c-43e0-e262-c65396fa185e"
   },
   "outputs": [
    {
     "data": {
      "text/plain": [
       "(7524, 3)"
      ]
     },
     "execution_count": 13,
     "metadata": {},
     "output_type": "execute_result"
    }
   ],
   "source": [
    "gene2ind.shape"
   ]
  },
  {
   "cell_type": "code",
   "execution_count": 14,
   "metadata": {
    "colab": {
     "base_uri": "https://localhost:8080/",
     "height": 206
    },
    "id": "Q3sUgWGZgo0P",
    "outputId": "9a913ea9-d00b-4a12-9d7f-fef621d0617f"
   },
   "outputs": [
    {
     "data": {
      "text/html": [
       "<div>\n",
       "<style scoped>\n",
       "    .dataframe tbody tr th:only-of-type {\n",
       "        vertical-align: middle;\n",
       "    }\n",
       "\n",
       "    .dataframe tbody tr th {\n",
       "        vertical-align: top;\n",
       "    }\n",
       "\n",
       "    .dataframe thead th {\n",
       "        text-align: right;\n",
       "    }\n",
       "</style>\n",
       "<table border=\"1\" class=\"dataframe\">\n",
       "  <thead>\n",
       "    <tr style=\"text-align: right;\">\n",
       "      <th></th>\n",
       "      <th>drug_a_structure</th>\n",
       "      <th>drug_b_structure</th>\n",
       "      <th>cell_line</th>\n",
       "      <th>synergy</th>\n",
       "    </tr>\n",
       "  </thead>\n",
       "  <tbody>\n",
       "    <tr>\n",
       "      <th>0</th>\n",
       "      <td>Cc1nc(Nc2ncc(C(=O)Nc3c(C)cccc3Cl)s2)cc(N2CCN(C...</td>\n",
       "      <td>COC1CC2CCC(C)C(O)(O2)C(=O)C(=O)N2CCCCC2C(=O)OC...</td>\n",
       "      <td>UACC62</td>\n",
       "      <td>21.420859</td>\n",
       "    </tr>\n",
       "    <tr>\n",
       "      <th>1</th>\n",
       "      <td>N.N.O=C(O)C1(C(=O)O)CCC1.[Pt]</td>\n",
       "      <td>N#Cc1ccc(Cn2cncc2CN2CCN(c3cccc(Cl)c3)C(=O)C2)cc1</td>\n",
       "      <td>NCIH1650</td>\n",
       "      <td>-15.029890</td>\n",
       "    </tr>\n",
       "    <tr>\n",
       "      <th>2</th>\n",
       "      <td>CC(C)CC(NC(=O)C(Cc1ccccc1)NC(=O)c1cnccn1)B(O)O</td>\n",
       "      <td>Cn1c(=O)n(-c2ccc(C(C)(C)C#N)cc2)c2c3cc(-c4cnc5...</td>\n",
       "      <td>SKMES1</td>\n",
       "      <td>-0.268603</td>\n",
       "    </tr>\n",
       "    <tr>\n",
       "      <th>3</th>\n",
       "      <td>CC1CC2C3CCC4=CC(=O)C=CC4(C)C3(F)C(O)CC2(C)C1(O...</td>\n",
       "      <td>CS(=O)(=O)CCNCc1ccc(-c2ccc3ncnc(Nc4ccc(OCc5ccc...</td>\n",
       "      <td>NCIH1650</td>\n",
       "      <td>29.087988</td>\n",
       "    </tr>\n",
       "    <tr>\n",
       "      <th>4</th>\n",
       "      <td>CC1CC2C3CCC4=CC(=O)C=CC4(C)C3(F)C(O)CC2(C)C1(O...</td>\n",
       "      <td>CCc1cnn2c(NCc3ccc[n+]([O-])c3)cc(N3CCCCC3CCO)nc12</td>\n",
       "      <td>LOVO</td>\n",
       "      <td>2.582137</td>\n",
       "    </tr>\n",
       "  </tbody>\n",
       "</table>\n",
       "</div>"
      ],
      "text/plain": [
       "                                    drug_a_structure  \\\n",
       "0  Cc1nc(Nc2ncc(C(=O)Nc3c(C)cccc3Cl)s2)cc(N2CCN(C...   \n",
       "1                      N.N.O=C(O)C1(C(=O)O)CCC1.[Pt]   \n",
       "2     CC(C)CC(NC(=O)C(Cc1ccccc1)NC(=O)c1cnccn1)B(O)O   \n",
       "3  CC1CC2C3CCC4=CC(=O)C=CC4(C)C3(F)C(O)CC2(C)C1(O...   \n",
       "4  CC1CC2C3CCC4=CC(=O)C=CC4(C)C3(F)C(O)CC2(C)C1(O...   \n",
       "\n",
       "                                    drug_b_structure cell_line    synergy  \n",
       "0  COC1CC2CCC(C)C(O)(O2)C(=O)C(=O)N2CCCCC2C(=O)OC...    UACC62  21.420859  \n",
       "1   N#Cc1ccc(Cn2cncc2CN2CCN(c3cccc(Cl)c3)C(=O)C2)cc1  NCIH1650 -15.029890  \n",
       "2  Cn1c(=O)n(-c2ccc(C(C)(C)C#N)cc2)c2c3cc(-c4cnc5...    SKMES1  -0.268603  \n",
       "3  CS(=O)(=O)CCNCc1ccc(-c2ccc3ncnc(Nc4ccc(OCc5ccc...  NCIH1650  29.087988  \n",
       "4  CCc1cnn2c(NCc3ccc[n+]([O-])c3)cc(N3CCCCC3CCO)nc12      LOVO   2.582137  "
      ]
     },
     "execution_count": 14,
     "metadata": {},
     "output_type": "execute_result"
    }
   ],
   "source": [
    "cell2ind['expression'] = cell2exp['expression'].copy()\n",
    "cell2ind = cell2ind.rename(columns = {'Cell_lines':'cell_line'})\n",
    "cell2ind.head()\n",
    "\n",
    "from sklearn.preprocessing import StandardScaler\n",
    "\n",
    "data_for_gnn_gcn = main_data[['drug_a_structure', 'drug_b_structure', 'cell_line', 'synergy']][:20000].copy() # change from 10k to all rows\n",
    "# scaler = StandardScaler().fit(data_for_gnn_gcn['synergy'].values.reshape(-1,1))\n",
    "# scaled_ops = scaler.transform(data_for_gnn_gcn['synergy'].values.reshape(-1,1))\n",
    "# data_for_gnn_gcn['synergy'] = scaled_ops\n",
    "data_for_gnn_gcn = data_for_gnn_gcn.sample(frac=1).reset_index().drop(['index'], 1)\n",
    "data_for_gnn_gcn.head()"
   ]
  },
  {
   "cell_type": "code",
   "execution_count": 15,
   "metadata": {
    "id": "M8YSnCW3Yjfv"
   },
   "outputs": [],
   "source": [
    "# Storing final gene expressions\n",
    "l = []\n",
    "\n",
    "for i in range(len(data_for_gnn_gcn)):\n",
    "  cell_name = data_for_gnn_gcn.iloc[i]['cell_line']\n",
    "  # print(cell_name)\n",
    "  try:\n",
    "    expr = np.array(cell2ind[cell2ind['cell_line'] == cell_name]['expression'].values[0], dtype='float32')\n",
    "  except:\n",
    "    expr = [float(0) for j in range(len(cell2exp['expression'].iloc[0]))]\n",
    "  l.append(expr)\n",
    "  # new_data.append({ new_data.columns[0]:main_data.iloc[i][new_data.columns[0]], new_data.columns[1]:main_data.iloc[i][new_data.columns[1]], new_data.columns[2]:main_data.iloc[i][new_data.columns[2]], new_data.columns[3]:main_data.iloc[i][new_data.columns[3]] }, ignore_index = True)\n",
    "\n",
    "data_for_gnn_gcn['cell_line_expr'] = l\n",
    "\n"
   ]
  },
  {
   "cell_type": "code",
   "execution_count": 16,
   "metadata": {
    "colab": {
     "base_uri": "https://localhost:8080/"
    },
    "id": "Sy7D9q0NYjh_",
    "outputId": "501712dc-91ec-4a8e-abfd-466154748d00"
   },
   "outputs": [
    {
     "data": {
      "text/plain": [
       "10624"
      ]
     },
     "execution_count": 16,
     "metadata": {},
     "output_type": "execute_result"
    }
   ],
   "source": [
    "import gc\n",
    "gc.collect()"
   ]
  },
  {
   "cell_type": "code",
   "execution_count": null,
   "metadata": {
    "id": "EOszBusMp989"
   },
   "outputs": [],
   "source": []
  },
  {
   "cell_type": "code",
   "execution_count": 91,
   "metadata": {},
   "outputs": [
    {
     "name": "stdout",
     "output_type": "stream",
     "text": [
      "All genes before dropping:  14864\n",
      "All genes for dropping:  6632\n"
     ]
    }
   ],
   "source": [
    "# To reduce the gene interaction matrix, remove low variance genes:\n",
    "# import scipy.sparse as sp\n",
    "# csr_mat = sp.csr_matrix(data_for_gnn_gcn['cell_line_expr'].to_list(), dtype=np.float32).todense()\n",
    "# var_genes = []\n",
    "# for gi in range(len(gene2ind[:])):\n",
    "#     var_genes.append( np.var(csr_mat[:, gi]) )\n",
    "\n",
    "# print('All genes before dropping: ', len(var_genes))\n",
    "\n",
    "# var_genes = np.array(var_genes)\n",
    "# remove_genes_ind = np.where( var_genes == float(0) )[0]\n",
    "# remove_genes = gene2ind['Gene_id'].iloc[remove_genes_ind]\n",
    "# print('All genes for dropping: ', len(remove_genes_ind))\n"
   ]
  },
  {
   "cell_type": "code",
   "execution_count": 92,
   "metadata": {},
   "outputs": [
    {
     "name": "stdout",
     "output_type": "stream",
     "text": [
      "(8232, 3)\n"
     ]
    }
   ],
   "source": [
    "# # Drop these gene index from gene2ind and pp_int data adn re-do cell2exp code\n",
    "# gene2ind = gene2ind.drop(remove_genes_ind, axis=0).reset_index().drop(['index'], 1)\n",
    "# print(gene2ind.shape)\n"
   ]
  },
  {
   "cell_type": "code",
   "execution_count": 93,
   "metadata": {},
   "outputs": [
    {
     "name": "stdout",
     "output_type": "stream",
     "text": [
      "Total gene ids in pp_int dataset:  14864\n",
      "Total Common intersecting gene ids: 7992  and Total uncommon non-intersecting gene ids:  240\n"
     ]
    }
   ],
   "source": [
    "# # Create set of all values from both p1 and p2 columns\n",
    "# p1p2 = set()\n",
    "# # for i in range(len(pp_int)):\n",
    "# #   p1p2.add(pp_int['Protein1'].iloc[i])\n",
    "# #   p1p2.add(pp_int['Protein2'].iloc[i])\n",
    "\n",
    "# p1p2 = set(np.concatenate((pp_int['Protein1'].unique(), pp_int['Protein2'].unique())))\n",
    "# print('Total gene ids in pp_int dataset: ', len(p1p2))\n",
    "\n",
    "# #### Check if any gene ids from deepsynergy dataset is missing in this p1p2\n",
    "# common_gene_ids = []\n",
    "# uncommon_gene_ids = []\n",
    "\n",
    "# for i in range(len(gene2ind)):\n",
    "#   if(gene2ind.iloc[i]['Gene_id'] in p1p2):\n",
    "#     common_gene_ids.append(gene2ind.iloc[i]['Gene_id'])\n",
    "#   else:\n",
    "#     uncommon_gene_ids.append(gene2ind.iloc[i]['Gene_id'])\n",
    "\n",
    "# print('Total Common intersecting gene ids:', len(common_gene_ids), ' and Total uncommon non-intersecting gene ids: ', len(uncommon_gene_ids))\n"
   ]
  },
  {
   "cell_type": "code",
   "execution_count": 94,
   "metadata": {},
   "outputs": [
    {
     "name": "stdout",
     "output_type": "stream",
     "text": [
      "(261342, 2)\n",
      "(83570, 2)\n"
     ]
    }
   ],
   "source": [
    "# # Drop from pp_int dataset\n",
    "# to_drop = set()\n",
    "# for i in range(len(pp_int)):\n",
    "#   if(pp_int.iloc[i]['Protein1'] not in common_gene_ids):\n",
    "#     to_drop.add(i)\n",
    "#   if(pp_int.iloc[i]['Protein2'] not in common_gene_ids):\n",
    "#     to_drop.add(i)\n",
    "\n",
    "# to_drop = list(to_drop)\n",
    "# print(pp_int.shape)\n",
    "# pp_int = pp_int.drop(to_drop, axis = 0)\n",
    "# print(pp_int.shape)\n",
    "\n"
   ]
  },
  {
   "cell_type": "code",
   "execution_count": 95,
   "metadata": {},
   "outputs": [
    {
     "name": "stdout",
     "output_type": "stream",
     "text": [
      "Index(['Protein1', 'Protein2'], dtype='object')\n"
     ]
    }
   ],
   "source": [
    "# ccle_attr = ccle_attr.reset_index().drop(['index'], axis = 1)\n",
    "# pp_int = pp_int.reset_index().drop(['index'], axis = 1)\n",
    "# print(pp_int.columns)"
   ]
  },
  {
   "cell_type": "code",
   "execution_count": 96,
   "metadata": {},
   "outputs": [
    {
     "name": "stdout",
     "output_type": "stream",
     "text": [
      "dropping  7340  genes\n",
      "(7526, 1040)\n"
     ]
    }
   ],
   "source": [
    "# genes_in_pp = list(set(np.concatenate((pp_int['Protein1'].unique(), pp_int['Protein2'].unique()))))\n",
    "# to_drop = []\n",
    "# for i in range(2, len(ccle_attr)):\n",
    "#   if(ccle_attr.iloc[i]['CellLine'] not in genes_in_pp):\n",
    "#     to_drop.append(i)\n",
    "\n",
    "# print('dropping ', len(to_drop), ' genes')\n",
    "# ccle_attr = ccle_attr.drop(to_drop, axis = 0)\n",
    "# print(ccle_attr.shape)\n"
   ]
  },
  {
   "cell_type": "code",
   "execution_count": 97,
   "metadata": {},
   "outputs": [
    {
     "name": "stdout",
     "output_type": "stream",
     "text": [
      "(7526, 1040) (83570, 2)\n"
     ]
    }
   ],
   "source": [
    "# ccle_attr = ccle_attr.reset_index().drop(['index'], axis = 1)\n",
    "# pp_int = pp_int.reset_index().drop(['index'], axis = 1)\n",
    "# print(ccle_attr.shape, pp_int.shape)"
   ]
  },
  {
   "cell_type": "code",
   "execution_count": 98,
   "metadata": {},
   "outputs": [
    {
     "name": "stdout",
     "output_type": "stream",
     "text": [
      "Unique gene ids in pp_int data:  7524\n",
      "Unique gene ids in gene2ind data:  7524\n"
     ]
    }
   ],
   "source": [
    "# print('Unique gene ids in pp_int data: ', len( set(np.concatenate((pp_int['Protein1'].unique(), pp_int['Protein2'].unique()))) ))\n",
    "# print('Unique gene ids in gene2ind data: ', len(ccle_attr['CellLine'].iloc[2:].unique()))"
   ]
  },
  {
   "cell_type": "code",
   "execution_count": null,
   "metadata": {},
   "outputs": [],
   "source": []
  },
  {
   "cell_type": "code",
   "execution_count": 100,
   "metadata": {},
   "outputs": [],
   "source": [
    "# ccle_attr.to_csv('ccle_attr_updated.csv', index=False)\n",
    "# pp_int.to_csv('pp_int_updated.csv', index=False)\n"
   ]
  },
  {
   "cell_type": "code",
   "execution_count": null,
   "metadata": {},
   "outputs": [],
   "source": []
  },
  {
   "cell_type": "code",
   "execution_count": null,
   "metadata": {},
   "outputs": [],
   "source": []
  },
  {
   "cell_type": "code",
   "execution_count": null,
   "metadata": {},
   "outputs": [],
   "source": []
  },
  {
   "cell_type": "code",
   "execution_count": null,
   "metadata": {},
   "outputs": [],
   "source": []
  },
  {
   "cell_type": "code",
   "execution_count": 17,
   "metadata": {
    "colab": {
     "base_uri": "https://localhost:8080/"
    },
    "id": "wzar4iLkp-AS",
    "outputId": "592f2e15-6828-4b31-c190-6344320bbbeb"
   },
   "outputs": [
    {
     "data": {
      "text/plain": [
       "(20000, 5)"
      ]
     },
     "execution_count": 17,
     "metadata": {},
     "output_type": "execute_result"
    }
   ],
   "source": [
    "data_for_gnn_gcn.shape"
   ]
  },
  {
   "cell_type": "markdown",
   "metadata": {
    "id": "glAvQgQUAZ5b"
   },
   "source": [
    "#### Calculate adjacency matrix Using the gene protein-protein interactions"
   ]
  },
  {
   "cell_type": "code",
   "execution_count": 18,
   "metadata": {
    "colab": {
     "base_uri": "https://localhost:8080/",
     "height": 206
    },
    "id": "NC56eqLlLdeK",
    "outputId": "24d4a52b-1717-49e8-fe2c-f3db1d40e065"
   },
   "outputs": [
    {
     "data": {
      "text/html": [
       "<div>\n",
       "<style scoped>\n",
       "    .dataframe tbody tr th:only-of-type {\n",
       "        vertical-align: middle;\n",
       "    }\n",
       "\n",
       "    .dataframe tbody tr th {\n",
       "        vertical-align: top;\n",
       "    }\n",
       "\n",
       "    .dataframe thead th {\n",
       "        text-align: right;\n",
       "    }\n",
       "</style>\n",
       "<table border=\"1\" class=\"dataframe\">\n",
       "  <thead>\n",
       "    <tr style=\"text-align: right;\">\n",
       "      <th></th>\n",
       "      <th>Protein1</th>\n",
       "      <th>Protein2</th>\n",
       "    </tr>\n",
       "  </thead>\n",
       "  <tbody>\n",
       "    <tr>\n",
       "      <th>0</th>\n",
       "      <td>2355</td>\n",
       "      <td>29922</td>\n",
       "    </tr>\n",
       "    <tr>\n",
       "      <th>1</th>\n",
       "      <td>154796</td>\n",
       "      <td>7408</td>\n",
       "    </tr>\n",
       "    <tr>\n",
       "      <th>2</th>\n",
       "      <td>5347</td>\n",
       "      <td>3297</td>\n",
       "    </tr>\n",
       "    <tr>\n",
       "      <th>3</th>\n",
       "      <td>5501</td>\n",
       "      <td>3189</td>\n",
       "    </tr>\n",
       "    <tr>\n",
       "      <th>4</th>\n",
       "      <td>6631</td>\n",
       "      <td>9775</td>\n",
       "    </tr>\n",
       "  </tbody>\n",
       "</table>\n",
       "</div>"
      ],
      "text/plain": [
       "   Protein1  Protein2\n",
       "0      2355     29922\n",
       "1    154796      7408\n",
       "2      5347      3297\n",
       "3      5501      3189\n",
       "4      6631      9775"
      ]
     },
     "execution_count": 18,
     "metadata": {},
     "output_type": "execute_result"
    }
   ],
   "source": [
    "pp_int.head()"
   ]
  },
  {
   "cell_type": "code",
   "execution_count": 19,
   "metadata": {
    "id": "DWjZBDlTM7v-"
   },
   "outputs": [],
   "source": [
    "# Brute-force method ( for some reason sparse_matrixl)\n",
    "# for i in range(len(pp_int)):\n",
    "# len( set(np.concatenate((pp_int['Protein1'].unique(), pp_int['Protein2'].unique()))) )"
   ]
  },
  {
   "cell_type": "code",
   "execution_count": 20,
   "metadata": {
    "id": "1F4HqgkdYjkS"
   },
   "outputs": [],
   "source": [
    "# ## Create dummy adjacency matrix for now\n",
    "# import scipy.sparse as sp\n",
    "# adj = sp.coo_matrix((len(data_for_gnn_gcn), len(data_for_gnn_gcn)), dtype=np.float32).toarray()\n",
    "# # type(sp.csr_matrix(adj))\n",
    "\n",
    "# # build symmetric adjacency matrix\n",
    "# # adj = adj + np.matmul(adj.T, adj.T > adj) - np.matmul(adj, adj.T > adj)\n",
    "# # adj\n",
    "# #\n",
    "# def get_adjacency_matrix(df):\n",
    "#   df = pd.crosstab(df.Protein1, df.Protein2)\n",
    "#   idx = df.columns.union(df.index)\n",
    "#   df = df.reindex(index = idx, columns=idx, fill_value=0)\n",
    "\n",
    "# csc = sp.csc_matrix((np.ones_like(df['A']), (df['A'],df['B'])))\n",
    "# csc.toarray()\n",
    "\n",
    "# # Doing this in sparse matrix multiplication\n",
    "# adj_sp = sp.csr_matrix(adj)\n",
    "# adj_sp = adj_sp + adj_sp.T.multiply(adj_sp.T > adj_sp) - adj_sp.multiply(adj_sp.T > adj_sp)"
   ]
  },
  {
   "cell_type": "code",
   "execution_count": 21,
   "metadata": {
    "colab": {
     "base_uri": "https://localhost:8080/"
    },
    "id": "qZOdY1MTZM81",
    "outputId": "7c2ad866-c9b7-4207-99c4-11609da6cdf7"
   },
   "outputs": [
    {
     "name": "stdout",
     "output_type": "stream",
     "text": [
      "Total gene ids in pp_int dataset:  7524\n"
     ]
    }
   ],
   "source": [
    "tp = set(np.concatenate((pp_int['Protein1'].unique(), pp_int['Protein2'].unique())))\n",
    "print('Total gene ids in pp_int dataset: ', len(tp))\n"
   ]
  },
  {
   "cell_type": "code",
   "execution_count": 22,
   "metadata": {
    "colab": {
     "base_uri": "https://localhost:8080/"
    },
    "id": "FBBHVsJGLdv6",
    "outputId": "337f184f-d5c4-4316-ba4d-5e2be7fa7cd4"
   },
   "outputs": [
    {
     "data": {
      "text/plain": [
       "(7524, 7524)"
      ]
     },
     "execution_count": 22,
     "metadata": {},
     "output_type": "execute_result"
    }
   ],
   "source": [
    "import networkx as nx\n",
    "G_di = nx.from_pandas_edgelist(pp_int, 'Protein1', 'Protein2', create_using=nx.DiGraph())\n",
    "A_di = nx.to_scipy_sparse_matrix(G_di)\n",
    "A_di.todense().shape\n"
   ]
  },
  {
   "cell_type": "code",
   "execution_count": 23,
   "metadata": {
    "id": "dNHaXGiUj2Da"
   },
   "outputs": [],
   "source": [
    "# Doing this in sparse matrix multiplication\n",
    "import scipy.sparse as sp\n",
    "\n",
    "adj_sp = sp.csr_matrix(A_di)\n",
    "adj_sp = adj_sp + adj_sp.T.multiply(adj_sp.T > adj_sp) - adj_sp.multiply(adj_sp.T > adj_sp)\n"
   ]
  },
  {
   "cell_type": "code",
   "execution_count": null,
   "metadata": {
    "id": "kwGrv9aAL4gB"
   },
   "outputs": [],
   "source": []
  },
  {
   "cell_type": "code",
   "execution_count": 24,
   "metadata": {
    "id": "g3rZDNfeJ1PX"
   },
   "outputs": [],
   "source": [
    "# pd.crosstab(pp_int.Protein1, pp_int.Protein2)"
   ]
  },
  {
   "cell_type": "code",
   "execution_count": 25,
   "metadata": {
    "colab": {
     "base_uri": "https://localhost:8080/"
    },
    "id": "BDuAqNwhYjmh",
    "outputId": "2c6d4bd7-a678-4b59-e51c-deaae01955ec"
   },
   "outputs": [
    {
     "data": {
      "text/plain": [
       "63"
      ]
     },
     "execution_count": 25,
     "metadata": {},
     "output_type": "execute_result"
    }
   ],
   "source": [
    "import gc\n",
    "gc.collect()"
   ]
  },
  {
   "cell_type": "code",
   "execution_count": 26,
   "metadata": {
    "id": "ouHs2SYPYjom"
   },
   "outputs": [],
   "source": [
    "\n",
    "def normalize(mx):\n",
    "    \"\"\"Row-normalize sparse matrix\"\"\"\n",
    "    rowsum = np.array(mx.sum(1))\n",
    "    r_inv = np.power(rowsum, -1).flatten()\n",
    "    r_inv[np.isinf(r_inv)] = 0.\n",
    "    r_mat_inv = sp.diags(r_inv)\n",
    "    mx = r_mat_inv.dot(mx)\n",
    "    return mx\n",
    "\n",
    "\n",
    "\n",
    "def accuracy(output, labels):\n",
    "    preds = output.max(1)[1].type_as(labels)\n",
    "    correct = preds.eq(labels).double()\n",
    "    correct = correct.sum()\n",
    "    return correct / len(labels)\n",
    "\n",
    "\n",
    "def sparse_mx_to_torch_sparse_tensor(sparse_mx):\n",
    "    \"\"\"Convert a scipy sparse matrix to a torch sparse tensor.\"\"\"\n",
    "    sparse_mx = sparse_mx.tocoo().astype(np.float32)\n",
    "    indices = torch.from_numpy(\n",
    "        np.vstack((sparse_mx.row, sparse_mx.col)).astype(np.int64))\n",
    "    values = torch.from_numpy(sparse_mx.data)\n",
    "    shape = torch.Size(sparse_mx.shape)\n",
    "    return torch.sparse.FloatTensor(indices, values, shape)"
   ]
  },
  {
   "cell_type": "code",
   "execution_count": 56,
   "metadata": {
    "id": "-1tD25k8cEXq"
   },
   "outputs": [],
   "source": [
    "#### GNN combined with GCN\n",
    "from collections import defaultdict\n",
    "\n",
    "import numpy as np\n",
    "\n",
    "from rdkit import Chem\n",
    "\n",
    "import torch\n",
    "\n",
    "\n",
    "def create_atoms(mol, atom_dict):\n",
    "    \"\"\"Transform the atom types in a molecule (e.g., H, C, and O)\n",
    "    into the indices (e.g., H=0, C=1, and O=2).\n",
    "    Note that each atom index considers the aromaticity.\n",
    "    \"\"\"\n",
    "    atoms = [a.GetSymbol() for a in mol.GetAtoms()]\n",
    "    for a in mol.GetAromaticAtoms():\n",
    "        i = a.GetIdx()\n",
    "        atoms[i] = (atoms[i], 'aromatic')\n",
    "    atoms = [atom_dict[a] for a in atoms]\n",
    "    return np.array(atoms)\n",
    "\n",
    "\n",
    "def create_ijbonddict(mol, bond_dict):\n",
    "    \"\"\"Create a dictionary, in which each key is a node ID\n",
    "    and each value is the tuples of its neighboring node\n",
    "    and chemical bond (e.g., single and double) IDs.\n",
    "    \"\"\"\n",
    "    i_jbond_dict = defaultdict(lambda: [])\n",
    "    for b in mol.GetBonds():\n",
    "        i, j = b.GetBeginAtomIdx(), b.GetEndAtomIdx()\n",
    "        bond = bond_dict[str(b.GetBondType())]\n",
    "        i_jbond_dict[i].append((j, bond))\n",
    "        i_jbond_dict[j].append((i, bond))\n",
    "    return i_jbond_dict\n",
    "\n",
    "\n",
    "def extract_fingerprints(radius, atoms, i_jbond_dict,\n",
    "                         fingerprint_dict, edge_dict):\n",
    "    \"\"\"Extract the fingerprints from a molecular graph\n",
    "    based on Weisfeiler-Lehman algorithm.\n",
    "    \"\"\"\n",
    "\n",
    "    if (len(atoms) == 1) or (radius == 0):\n",
    "        nodes = [fingerprint_dict[a] for a in atoms]\n",
    "\n",
    "    else:\n",
    "        nodes = atoms\n",
    "        i_jedge_dict = i_jbond_dict\n",
    "\n",
    "        for _ in range(radius):\n",
    "\n",
    "            \"\"\"Update each node ID considering its neighboring nodes and edges.\n",
    "            The updated node IDs are the fingerprint IDs.\n",
    "            \"\"\"\n",
    "            nodes_ = []\n",
    "            for i, j_edge in i_jedge_dict.items():\n",
    "                neighbors = [(nodes[j], edge) for j, edge in j_edge]\n",
    "                fingerprint = (nodes[i], tuple(sorted(neighbors)))\n",
    "                nodes_.append(fingerprint_dict[fingerprint])\n",
    "\n",
    "            \"\"\"Also update each edge ID considering\n",
    "            its two nodes on both sides.\n",
    "            \"\"\"\n",
    "            i_jedge_dict_ = defaultdict(lambda: [])\n",
    "            for i, j_edge in i_jedge_dict.items():\n",
    "                for j, edge in j_edge:\n",
    "                    both_side = tuple(sorted((nodes[i], nodes[j])))\n",
    "                    edge = edge_dict[(both_side, edge)]\n",
    "                    i_jedge_dict_[i].append((j, edge))\n",
    "\n",
    "            nodes = nodes_\n",
    "            i_jedge_dict = i_jedge_dict_\n",
    "\n",
    "    return np.array(nodes)\n",
    "\n",
    "\n",
    "def split_dataset(dataset, ratio):\n",
    "    \"\"\"Shuffle and split a dataset.\"\"\"\n",
    "    # np.random.seed(1234)  # fix the seed for shuffle.\n",
    "    # np.random.shuffle(dataset)\n",
    "    n = int(ratio * len(dataset))\n",
    "    return dataset[:n], dataset[n:]\n",
    "\n",
    "\n",
    "def create_datasets(task, data_input, radius, device):\n",
    "\n",
    "    dir_dataset =  ''\n",
    "    # print(type(data_input))\n",
    "    print(data_input.shape)\n",
    "    \"\"\"Initialize x_dict, in which each key is a symbol type\n",
    "    (e.g., atom and chemical bond) and each value is its index.\n",
    "    \"\"\"\n",
    "    atom_dict = defaultdict(lambda: len(atom_dict))\n",
    "    bond_dict = defaultdict(lambda: len(bond_dict))\n",
    "    fingerprint_dict = defaultdict(lambda: len(fingerprint_dict))\n",
    "    edge_dict = defaultdict(lambda: len(edge_dict))\n",
    "   \n",
    "    \n",
    "    non_working_smiles_index = []\n",
    "    def create_dataset(data):\n",
    "\n",
    "#         print(filename)\n",
    "\n",
    "#         \"\"\"Load a dataset.\"\"\"\n",
    "#         with open(dir_dataset + filename, 'r') as f:\n",
    "#             smiles_property = f.readline().strip().split()\n",
    "#             data_original = f.read().strip().split('\\n')\n",
    "\n",
    "#         \"\"\"Exclude the data contains '.' in its smiles.\"\"\"\n",
    "#         data_original = [data for data in data_original\n",
    "#                          if '.' not in data.split()[0]]\n",
    "\n",
    "        dataset = []\n",
    "        final_index = []\n",
    "\n",
    "        for data_index in range(len(data)):\n",
    "#             print(data_index)\n",
    "            try:\n",
    "        #             smiles, property = data.strip().split()\n",
    "                smiles1, smiles2, property = data.iloc[data_index]['drug_a_structure'], data.iloc[data_index]['drug_b_structure'], data.iloc[data_index]['synergy']\n",
    "\n",
    "                \"\"\"Create each data with the above defined functions.\"\"\"\n",
    "                # for drug A:\n",
    "                mol = Chem.AddHs(Chem.MolFromSmiles(smiles1))\n",
    "                atoms = create_atoms(mol, atom_dict)\n",
    "                molecular_size1 = len(atoms)\n",
    "                i_jbond_dict = create_ijbonddict(mol, bond_dict)\n",
    "                fingerprints1 = extract_fingerprints(radius, atoms, i_jbond_dict,\n",
    "                                                    fingerprint_dict, edge_dict)\n",
    "                adjacency1 = Chem.GetAdjacencyMatrix(mol)\n",
    "\n",
    "                # for drug B:\n",
    "                mol = Chem.AddHs(Chem.MolFromSmiles(smiles2))\n",
    "                atoms = create_atoms(mol, atom_dict)\n",
    "                molecular_size2 = len(atoms)\n",
    "                i_jbond_dict = create_ijbonddict(mol, bond_dict)\n",
    "                fingerprints2 = extract_fingerprints(radius, atoms, i_jbond_dict,\n",
    "                                                    fingerprint_dict, edge_dict)\n",
    "                adjacency2 = Chem.GetAdjacencyMatrix(mol)\n",
    "\n",
    "                \"\"\"Transform the above each data of numpy\n",
    "                to pytorch tensor on a device (i.e., CPU or GPU).\n",
    "                \"\"\"\n",
    "                fingerprints1 = torch.LongTensor(fingerprints1).to(device)\n",
    "                adjacency1 = torch.FloatTensor(adjacency1).to(device)\n",
    "                fingerprints2 = torch.LongTensor(fingerprints2).to(device)\n",
    "                adjacency2 = torch.FloatTensor(adjacency2).to(device)\n",
    "\n",
    "                if task == 'regression':\n",
    "                    property = torch.FloatTensor([[float(property)]]).to(device)\n",
    "\n",
    "                dataset.append((fingerprints1, adjacency1, molecular_size1, fingerprints2, adjacency2, molecular_size2, property))\n",
    "                final_index.append(data_index)\n",
    "            \n",
    "            except:\n",
    "                non_working_smiles_index.append(data_index)\n",
    "            \n",
    "        return dataset, final_index\n",
    "    \n",
    "#     print(data_input.head())\n",
    "    dataset_train, final_index = create_dataset(data_input[:15000])\n",
    "    print('Skipped '+ str(len(non_working_smiles_index)) + ' smiles in training data')\n",
    "#     dataset_train, dataset_dev = split_dataset(dataset_train, 0.9)\n",
    "    # print(dataset_train.shape, dataset_dev.shape, data_input.shape, data_input.iloc[15000:].shape)\n",
    "    dataset_test, final_index_test = create_dataset(data_input[15000:])\n",
    "    # dataset_test = dataset_dev\n",
    "\n",
    "    N_fingerprints = len(fingerprint_dict)\n",
    "\n",
    "#     return dataset_train, dataset_dev, dataset_test, N_fingerprints, final_index\n",
    "    return dataset_train, dataset_test, N_fingerprints, final_index\n",
    "\n",
    "\n",
    "\n",
    "import sys\n",
    "import timeit\n",
    "\n",
    "import numpy as np\n",
    "\n",
    "import torch\n",
    "import torch.nn as nn\n",
    "import torch.nn.functional as F\n",
    "import torch.optim as optim\n",
    "\n",
    "from sklearn.metrics import roc_auc_score\n",
    "\n",
    "# import preprocess as pp\n",
    "\n",
    "\n",
    "class MolecularGraphNeuralNetwork(nn.Module):\n",
    "    def __init__(self, N_fingerprints, dim, layer_hidden, layer_output, nfeat, nhid, nclass, dropout):\n",
    "        super(MolecularGraphNeuralNetwork, self).__init__()\n",
    "        self.embed_fingerprint = nn.Embedding(N_fingerprints, dim)\n",
    "        self.W_fingerprint = nn.ModuleList([nn.Linear(dim, dim)\n",
    "                                            for _ in range(layer_hidden)])\n",
    "        self.W_output = nn.ModuleList([nn.Linear(dim+dim+dim+dim, dim+dim+dim+dim)\n",
    "                                       for _ in range(layer_output)])\n",
    "        if task == 'classification':\n",
    "            self.W_property = nn.Linear(dim, 2)\n",
    "        if task == 'regression':\n",
    "            self.W_property = nn.Linear(dim+dim+dim+dim, 1)\n",
    "        \n",
    "        # gcn\n",
    "        self.gc1 = GraphConvolution(nfeat, nhid)\n",
    "        # self.gc2 = GraphConvolution(nhid, 128) # second conv makes it harder\n",
    "        self.dropout = dropout\n",
    "        self.output = nn.Linear(nhid, 100).float()\n",
    "\n",
    "    def pad(self, matrices, pad_value):\n",
    "        \"\"\"Pad the list of matrices\n",
    "        with a pad_value (e.g., 0) for batch processing.\n",
    "        For example, given a list of matrices [A, B, C],\n",
    "        we obtain a new matrix [A00, 0B0, 00C],\n",
    "        where 0 is the zero (i.e., pad value) matrix.\n",
    "        \"\"\"\n",
    "        shapes = [m.shape for m in matrices]\n",
    "        M, N = sum([s[0] for s in shapes]), sum([s[1] for s in shapes])\n",
    "        zeros = torch.FloatTensor(np.zeros((M, N))).to(device)\n",
    "        pad_matrices = pad_value + zeros\n",
    "        i, j = 0, 0\n",
    "        for k, matrix in enumerate(matrices):\n",
    "            m, n = shapes[k]\n",
    "            pad_matrices[i:i+m, j:j+n] = matrix\n",
    "            i += m\n",
    "            j += n\n",
    "        return pad_matrices\n",
    "\n",
    "    def update(self, matrix, vectors, layer):\n",
    "        hidden_vectors = torch.relu(self.W_fingerprint[layer](vectors))\n",
    "        return hidden_vectors + torch.matmul(matrix, hidden_vectors)\n",
    "\n",
    "    def sum(self, vectors, axis):\n",
    "        sum_vectors = [torch.sum(v, 0) for v in torch.split(vectors, axis)]\n",
    "        return torch.stack(sum_vectors)\n",
    "\n",
    "    def mean(self, vectors, axis):\n",
    "        mean_vectors = [torch.mean(v, 0) for v in torch.split(vectors, axis)]\n",
    "        return torch.stack(mean_vectors)\n",
    "\n",
    "    def gnn(self, inputs):\n",
    "\n",
    "        \"\"\"Cat or pad each input data for batch processing.\"\"\"\n",
    "        fingerprints, adjacencies, molecular_sizes = inputs\n",
    "        fingerprints = torch.cat(fingerprints)\n",
    "        adjacencies = self.pad(adjacencies, 0)\n",
    "\n",
    "        \"\"\"GNN layer (update the fingerprint vectors).\"\"\"\n",
    "        fingerprint_vectors = self.embed_fingerprint(fingerprints)\n",
    "        for l in range(layer_hidden):\n",
    "            hs = self.update(adjacencies, fingerprint_vectors, l)\n",
    "            fingerprint_vectors = F.normalize(hs, 2, 1)  # normalize.\n",
    "\n",
    "        \"\"\"Molecular vector by sum or mean of the fingerprint vectors.\"\"\"\n",
    "        molecular_vectors = self.sum(fingerprint_vectors, molecular_sizes)\n",
    "        # molecular_vectors = self.mean(fingerprint_vectors, molecular_sizes)\n",
    "\n",
    "        return molecular_vectors\n",
    "\n",
    "    def mlp(self, vectors):\n",
    "        \"\"\"Classifier or regressor based on multilayer perceptron.\"\"\"\n",
    "        for l in range(layer_output):\n",
    "#             print(self.W_output[l](vectors))\n",
    "#             print(self.W_output[l](vectors).shape)\n",
    "            vectors = torch.relu(self.W_output[l](vectors))\n",
    "        outputs = self.W_property(vectors)\n",
    "        return outputs\n",
    "\n",
    "    def forward_classifier(self, data_batch, train):\n",
    "\n",
    "        inputs = data_batch[:-1]\n",
    "        correct_labels = torch.cat(data_batch[-1])\n",
    "\n",
    "        if train:\n",
    "            molecular_vectors = self.gnn(inputs)\n",
    "            predicted_scores = self.mlp(molecular_vectors)\n",
    "            loss = F.cross_entropy(predicted_scores, correct_labels)\n",
    "            return loss\n",
    "        else:\n",
    "            with torch.no_grad():\n",
    "                molecular_vectors = self.gnn(inputs)\n",
    "                predicted_scores = self.mlp(molecular_vectors)\n",
    "            predicted_scores = predicted_scores.to('cpu').data.numpy()\n",
    "            predicted_scores = [s[1] for s in predicted_scores]\n",
    "            correct_labels = correct_labels.to('cpu').data.numpy()\n",
    "            return predicted_scores, correct_labels\n",
    "\n",
    "    def forward_regressor(self, data_batch, x, adj, train):\n",
    "\n",
    "        inputs_d1 = data_batch[:3]\n",
    "        inputs_d2 = data_batch[3:-1]\n",
    "        correct_values = torch.cat(data_batch[-1])\n",
    "        # print('correct values', correct_values.shape)\n",
    "        \n",
    "        if train:\n",
    "            molecular_vectors_d1 = self.gnn(inputs_d1)\n",
    "            molecular_vectors_d2 = self.gnn(inputs_d2)\n",
    "#             molecular_vectors = np.concatenate([molecular_vectors_d1,molecular_vectors_d2])\n",
    "            # print(molecular_vectors_d1.shape, molecular_vectors_d1.shape)\n",
    "            x = F.relu(self.gc1(x, adj))\n",
    "            x = F.dropout(x, self.dropout, training=self.training)\n",
    "            # x = self.gc2(x, adj)\n",
    "            x = torch.relu( self.output(x.float()) )\n",
    "            \n",
    "            molecular_vectors = torch.cat((molecular_vectors_d1, molecular_vectors_d2, x), 1)\n",
    "            # print(molecular_vectors.shape)\n",
    "            predicted_values = self.mlp(molecular_vectors)\n",
    "#             print(predicted_values.shape, correct_values.shape, molecular_vectors.shape, molecular_vectors_d1.shape)\n",
    "            # print(predicted_values.shape)\n",
    "            loss = F.mse_loss(predicted_values, correct_values)\n",
    "            return loss\n",
    "        else:\n",
    "            with torch.no_grad():\n",
    "                molecular_vectors_d1 = self.gnn(inputs_d1)\n",
    "                molecular_vectors_d2 = self.gnn(inputs_d2)\n",
    "                x = F.relu(self.gc1(x, adj))\n",
    "                x = F.dropout(x, self.dropout, training=self.training)\n",
    "                x = torch.relu( self.output(x.float()) )\n",
    "                molecular_vectors = torch.cat((molecular_vectors_d1, molecular_vectors_d2, x), 1)\n",
    "                # print('then', molecular_vectors.shape)\n",
    "                predicted_values = self.mlp(molecular_vectors)\n",
    "                # print('then preds', predicted_values.shape)\n",
    "            \n",
    "            predicted_values = predicted_values.to('cpu').data.numpy()\n",
    "            correct_values = correct_values.to('cpu').data.numpy()\n",
    "            predicted_values = np.concatenate(predicted_values)\n",
    "            correct_values = np.concatenate(correct_values)\n",
    "            return predicted_values, correct_values\n",
    "\n",
    "\n",
    "class Trainer(object):\n",
    "    def __init__(self, model):\n",
    "        self.model = model\n",
    "        self.optimizer = optim.Adam(self.model.parameters(), lr=lr)\n",
    "\n",
    "    def train(self, dataset, x, adj, train = True):\n",
    "        np.random.shuffle(dataset)\n",
    "        N = len(dataset)\n",
    "        loss_total = 0\n",
    "        data_batch = list(zip(*dataset[:]))\n",
    "        if task == 'regression':\n",
    "          loss = self.model.forward_regressor(data_batch, x, adj, train=True)\n",
    "          self.optimizer.zero_grad()\n",
    "          loss.backward()\n",
    "          self.optimizer.step()\n",
    "          loss_total += loss.item()\n",
    "        # for i in range(0, N, batch_train):\n",
    "        #     data_batch = list(zip(*dataset[i:i+batch_train]))\n",
    "        #     if task == 'classification':\n",
    "        #         loss = self.model.forward_classifier(data_batch, train=True)\n",
    "        #     if task == 'regression':\n",
    "        #         loss = self.model.forward_regressor(data_batch, train=True)\n",
    "        #     self.optimizer.zero_grad()\n",
    "        #     loss.backward()\n",
    "        #     self.optimizer.step()\n",
    "        #     loss_total += loss.item()\n",
    "        return loss_total\n",
    "\n",
    "\n",
    "class Tester(object):\n",
    "    def __init__(self, model):\n",
    "        self.model = model\n",
    "\n",
    "    def test_regressor(self, dataset, x, adj):\n",
    "        N = len(dataset)\n",
    "        # print('tester', len(dataset))\n",
    "        data_batch = list(zip(*dataset[:]))\n",
    "        MSE = 0  # sum absolute error.\n",
    "        SE = 0\n",
    "        # data_batch = list(zip(*dataset[i:i+50]))\n",
    "        predicted_values, correct_values = self.model.forward_regressor(\n",
    "                                            data_batch, x, adj, train=False)\n",
    "        SE += np.square(np.subtract(correct_values,predicted_values)).mean()\n",
    "        MSE = SE / N  # mean absolute error.\n",
    "        return MSE\n",
    "    \n",
    "    def model_predictions(self, dataset, x, adj):\n",
    "        N = len(dataset)\n",
    "        # print('tester', len(dataset))\n",
    "        data_batch = list(zip(*dataset[:]))\n",
    "        predicted_values, _ = self.model.forward_regressor(\n",
    "                                            data_batch, x, adj, train=False)\n",
    "        return predicted_values\n",
    "\n",
    "    def save_result(self, result, filename):\n",
    "        with open(filename, 'a') as f:\n",
    "            f.write(result + '\\n')\n",
    "\n",
    "\n",
    "\n"
   ]
  },
  {
   "cell_type": "code",
   "execution_count": null,
   "metadata": {
    "id": "faWFJp7GMxFH"
   },
   "outputs": [],
   "source": []
  },
  {
   "cell_type": "code",
   "execution_count": null,
   "metadata": {
    "id": "rZfBrByMhzxH"
   },
   "outputs": [],
   "source": []
  },
  {
   "cell_type": "code",
   "execution_count": 57,
   "metadata": {
    "id": "oQtu5NsRh3-X"
   },
   "outputs": [],
   "source": [
    "import math\n",
    "\n",
    "import torch\n",
    "\n",
    "from torch.nn.parameter import Parameter\n",
    "from torch.nn.modules.module import Module\n",
    "\n",
    "\n",
    "class GraphConvolution(Module):\n",
    "    \"\"\"\n",
    "    Simple GCN layer, similar to https://arxiv.org/abs/1609.02907\n",
    "    \"\"\"\n",
    "\n",
    "    def __init__(self, in_features, out_features, bias=True):\n",
    "        super(GraphConvolution, self).__init__()\n",
    "        self.in_features = in_features\n",
    "        self.out_features = out_features\n",
    "        self.weight = Parameter(torch.FloatTensor(in_features, out_features))\n",
    "        if bias:\n",
    "            self.bias = Parameter(torch.FloatTensor(out_features))\n",
    "        else:\n",
    "            self.register_parameter('bias', None)\n",
    "        self.reset_parameters()\n",
    "\n",
    "    def reset_parameters(self):\n",
    "        stdv = 1. / math.sqrt(self.weight.size(1))\n",
    "        self.weight.data.uniform_(-stdv, stdv)\n",
    "        if self.bias is not None:\n",
    "            self.bias.data.uniform_(-stdv, stdv)\n",
    "\n",
    "    def forward(self, input, adj):\n",
    "        # print('ssss',input.shape, adj.shape, self.weight.double().shape)\n",
    "        adj = torch.from_numpy(adj).double()\n",
    "        support = torch.spmm(adj, input.double().T)\n",
    "        output = torch.spmm(support.T, self.weight.double())\n",
    "        # support = torch.mm(input.double(), self.weight.double())\n",
    "        \n",
    "#         print(type(adj), type(support))\n",
    "        # print('pppp',adj.shape, support.shape, output.shape)\n",
    "        # output = torch.spmm(adj, support)\n",
    "        if self.bias is not None:\n",
    "            return output + self.bias\n",
    "        else:\n",
    "            return output\n",
    "\n",
    "    def __repr__(self):\n",
    "        return self.__class__.__name__ + ' (' \\\n",
    "               + str(self.in_features) + ' -> ' \\\n",
    "               + str(self.out_features) + ')'"
   ]
  },
  {
   "cell_type": "code",
   "execution_count": 58,
   "metadata": {
    "id": "0ypgO5h1h4Cf"
   },
   "outputs": [],
   "source": [
    "import torch.nn as nn\n",
    "import torch.nn.functional as F\n",
    "\n",
    "class GCN(nn.Module):\n",
    "    def __init__(self, nfeat, nhid, nclass, dropout):\n",
    "        super(GCN, self).__init__()\n",
    "\n",
    "        self.gc1 = GraphConvolution(nfeat, nhid)\n",
    "        # self.gc2 = GraphConvolution(nhid, 128) # second conv makes it harder\n",
    "        self.dropout = dropout\n",
    "        # self.output = nn.Linear(128, nclass).float()\n",
    "        self.output = nn.Linear(nhid, 100).float()\n",
    "\n",
    "    def forward(self, x, adj):\n",
    "#         x = x.astype('double')\n",
    "#         adj = adj.astype('double')\n",
    "        \n",
    "        x = F.relu(self.gc1(x, adj))\n",
    "        x = F.dropout(x, self.dropout, training=self.training)\n",
    "#         x = F.tanh( self.gc2(x, adj) )\n",
    "        x = self.output(x.float())\n",
    "#         print(x)\n",
    "        \n",
    "        return x"
   ]
  },
  {
   "cell_type": "code",
   "execution_count": null,
   "metadata": {
    "id": "W7QKFDfAZ8g_"
   },
   "outputs": [],
   "source": []
  },
  {
   "cell_type": "code",
   "execution_count": null,
   "metadata": {
    "id": "FGWFoiyrZ8jG"
   },
   "outputs": [],
   "source": []
  },
  {
   "cell_type": "code",
   "execution_count": 30,
   "metadata": {
    "id": "PfkavpKwSLkW"
   },
   "outputs": [],
   "source": [
    "def get_gcn_dataset(adj):\n",
    "  data_for_gcn = data_for_gnn_gcn.copy()\n",
    "  print(data_for_gcn.shape)\n",
    "#   gcn_train_data, gcn_dev_data = split_dataset(data_for_gcn[:15000], 0.9)\n",
    "  gcn_train_data = data_for_gcn[:15000]\n",
    "  # gcn_train_data = gcn_train_data\n",
    "  gcn_test_data = data_for_gcn[15000:]\n",
    "  # gcn_test_data = gcn_dev_data\n",
    "  # print(gcn_train_data.shape, gcn_dev_data.shape)\n",
    "\n",
    "  import scipy.sparse as sp\n",
    "  # features_all = pd.DataFrame(gcn_train_data.to_list()).values\n",
    "  features_train = sp.csr_matrix(gcn_train_data['cell_line_expr'].to_list(), dtype=np.float32)\n",
    "#   features_train = sp.csr_matrix(np.delete(features_train, remove_genes_ind, 1))\n",
    "  features_train = normalize(features_train)\n",
    "  features_train = torch.FloatTensor(np.array(features_train.todense()))\n",
    "\n",
    "  # features_all = pd.DataFrame(gcn_dev_data.to_list()).values\n",
    "#   features_dev = sp.csr_matrix (gcn_dev_data['cell_line_expr'].to_list(), dtype=np.float32)\n",
    "#   features_dev = normalize(features_dev)\n",
    "#   features_dev = torch.FloatTensor(np.array(features_dev.todense()))\n",
    "\n",
    "  # features_all = pd.DataFrame(gcn_test_data.to_list()).values\n",
    "  features_test = sp.csr_matrix (gcn_test_data['cell_line_expr'].to_list(), dtype=np.float32)\n",
    "#   features_test = sp.csr_matrix(np.delete(features_test, remove_genes_ind, 1))\n",
    "  features_test = normalize(features_test)\n",
    "  features_test = torch.FloatTensor(np.array(features_test.todense()))\n",
    "\n",
    "  print('gcn input train, dev, test size: ', features_train.shape, features_test.shape )\n",
    "  \n",
    "  adj = normalize(adj + sp.eye(adj.shape[0]))\n",
    "\n",
    "  \n",
    "  labels = torch.LongTensor(data_for_gnn_gcn['synergy'])\n",
    "  adj1 = sparse_mx_to_torch_sparse_tensor(sp.csr_matrix(adj))\n",
    "\n",
    "  idx_train = gcn_train_data.index\n",
    "#   idx_val = gcn_dev_data.index\n",
    "  idx_test = gcn_test_data.index\n",
    "\n",
    "  idx_train = torch.LongTensor(idx_train)\n",
    "#   idx_val = torch.LongTensor(idx_val)\n",
    "  idx_test = torch.LongTensor(idx_test)\n",
    "\n",
    "#   return features_train, features_dev, features_test, idx_train, idx_val, idx_test, adj\n",
    "  return features_train, features_test, idx_train, idx_test, adj\n"
   ]
  },
  {
   "cell_type": "code",
   "execution_count": 31,
   "metadata": {
    "id": "EUk83b-G4mTk"
   },
   "outputs": [],
   "source": [
    "def check_for_non_working_smiles(data):\n",
    "  atom_dict = defaultdict(lambda: len(atom_dict))\n",
    "  bond_dict = defaultdict(lambda: len(bond_dict))\n",
    "  fingerprint_dict = defaultdict(lambda: len(fingerprint_dict))\n",
    "  edge_dict = defaultdict(lambda: len(edge_dict))\n",
    "  non_working_smiles_index = []\n",
    "  dataset = []\n",
    "\n",
    "  for data_index in range(len(data)):\n",
    "    try:\n",
    "      smiles1, smiles2, property = data.iloc[data_index]['drug_a_structure'], data.iloc[data_index]['drug_b_structure'], data.iloc[data_index]['synergy']\n",
    "\n",
    "      \"\"\"Create each data with the above defined functions.\"\"\"\n",
    "      # for drug A:\n",
    "      mol = Chem.AddHs(Chem.MolFromSmiles(smiles1))\n",
    "      atoms = create_atoms(mol, atom_dict)\n",
    "      molecular_size1 = len(atoms)\n",
    "      i_jbond_dict = create_ijbonddict(mol, bond_dict)\n",
    "      fingerprints1 = extract_fingerprints(radius, atoms, i_jbond_dict,\n",
    "                                          fingerprint_dict, edge_dict)\n",
    "      adjacency1 = Chem.GetAdjacencyMatrix(mol)\n",
    "\n",
    "      # for drug B:\n",
    "      mol = Chem.AddHs(Chem.MolFromSmiles(smiles2))\n",
    "      atoms = create_atoms(mol, atom_dict)\n",
    "      molecular_size2 = len(atoms)\n",
    "      i_jbond_dict = create_ijbonddict(mol, bond_dict)\n",
    "      fingerprints2 = extract_fingerprints(radius, atoms, i_jbond_dict,\n",
    "                                          fingerprint_dict, edge_dict)\n",
    "      adjacency2 = Chem.GetAdjacencyMatrix(mol)\n",
    "\n",
    "      \"\"\"Transform the above each data of numpy\n",
    "      to pytorch tensor on a device (i.e., CPU or GPU).\n",
    "      \"\"\"\n",
    "      fingerprints1 = torch.LongTensor(fingerprints1).to(device)\n",
    "      adjacency1 = torch.FloatTensor(adjacency1).to(device)\n",
    "      fingerprints2 = torch.LongTensor(fingerprints2).to(device)\n",
    "      adjacency2 = torch.FloatTensor(adjacency2).to(device)\n",
    "\n",
    "      if task == 'regression':\n",
    "          property = torch.FloatTensor([[float(property)]]).to(device)\n",
    "\n",
    "      dataset.append((fingerprints1, adjacency1, molecular_size1, fingerprints2, adjacency2, molecular_size2, property))\n",
    "        # final_index.append(data_index)\n",
    "\n",
    "    except:\n",
    "        non_working_smiles_index.append(data_index)\n",
    "\n",
    "  return non_working_smiles_index\n"
   ]
  },
  {
   "cell_type": "code",
   "execution_count": 32,
   "metadata": {
    "colab": {
     "base_uri": "https://localhost:8080/"
    },
    "id": "zstufQ43SLnW",
    "outputId": "099f45d4-5d37-4cf9-d8d5-ca31496cf93c"
   },
   "outputs": [
    {
     "data": {
      "text/plain": [
       "(20000, 5)"
      ]
     },
     "execution_count": 32,
     "metadata": {},
     "output_type": "execute_result"
    }
   ],
   "source": [
    "# data_for_gnn_gcn = data_for_gnn_gcn.reset_index().drop(['index'], axis=1)\n",
    "data_for_gnn_gcn.shape"
   ]
  },
  {
   "cell_type": "code",
   "execution_count": 33,
   "metadata": {},
   "outputs": [
    {
     "data": {
      "text/html": [
       "<div>\n",
       "<style scoped>\n",
       "    .dataframe tbody tr th:only-of-type {\n",
       "        vertical-align: middle;\n",
       "    }\n",
       "\n",
       "    .dataframe tbody tr th {\n",
       "        vertical-align: top;\n",
       "    }\n",
       "\n",
       "    .dataframe thead th {\n",
       "        text-align: right;\n",
       "    }\n",
       "</style>\n",
       "<table border=\"1\" class=\"dataframe\">\n",
       "  <thead>\n",
       "    <tr style=\"text-align: right;\">\n",
       "      <th></th>\n",
       "      <th>drug_a_structure</th>\n",
       "      <th>drug_b_structure</th>\n",
       "      <th>cell_line</th>\n",
       "      <th>synergy</th>\n",
       "      <th>cell_line_expr</th>\n",
       "    </tr>\n",
       "  </thead>\n",
       "  <tbody>\n",
       "    <tr>\n",
       "      <th>0</th>\n",
       "      <td>Cc1nc(Nc2ncc(C(=O)Nc3c(C)cccc3Cl)s2)cc(N2CCN(C...</td>\n",
       "      <td>COC1CC2CCC(C)C(O)(O2)C(=O)C(=O)N2CCCCC2C(=O)OC...</td>\n",
       "      <td>UACC62</td>\n",
       "      <td>21.420859</td>\n",
       "      <td>[-0.0, -0.0, 0.0, 1.0, -0.0, 0.0, -0.0, -0.0, ...</td>\n",
       "    </tr>\n",
       "    <tr>\n",
       "      <th>1</th>\n",
       "      <td>N.N.O=C(O)C1(C(=O)O)CCC1.[Pt]</td>\n",
       "      <td>N#Cc1ccc(Cn2cncc2CN2CCN(c3cccc(Cl)c3)C(=O)C2)cc1</td>\n",
       "      <td>NCIH1650</td>\n",
       "      <td>-15.029890</td>\n",
       "      <td>[0.0, 0.0, 0.0, 0.0, 0.0, 0.0, 0.0, -0.0, -0.0...</td>\n",
       "    </tr>\n",
       "    <tr>\n",
       "      <th>2</th>\n",
       "      <td>CC(C)CC(NC(=O)C(Cc1ccccc1)NC(=O)c1cnccn1)B(O)O</td>\n",
       "      <td>Cn1c(=O)n(-c2ccc(C(C)(C)C#N)cc2)c2c3cc(-c4cnc5...</td>\n",
       "      <td>SKMES1</td>\n",
       "      <td>-0.268603</td>\n",
       "      <td>[0.0, 0.0, -0.0, -0.0, 0.0, 0.0, 0.0, 0.0, -0....</td>\n",
       "    </tr>\n",
       "    <tr>\n",
       "      <th>3</th>\n",
       "      <td>CC1CC2C3CCC4=CC(=O)C=CC4(C)C3(F)C(O)CC2(C)C1(O...</td>\n",
       "      <td>CS(=O)(=O)CCNCc1ccc(-c2ccc3ncnc(Nc4ccc(OCc5ccc...</td>\n",
       "      <td>NCIH1650</td>\n",
       "      <td>29.087988</td>\n",
       "      <td>[0.0, 0.0, 0.0, 0.0, 0.0, 0.0, 0.0, -0.0, -0.0...</td>\n",
       "    </tr>\n",
       "    <tr>\n",
       "      <th>4</th>\n",
       "      <td>CC1CC2C3CCC4=CC(=O)C=CC4(C)C3(F)C(O)CC2(C)C1(O...</td>\n",
       "      <td>CCc1cnn2c(NCc3ccc[n+]([O-])c3)cc(N3CCCCC3CCO)nc12</td>\n",
       "      <td>LOVO</td>\n",
       "      <td>2.582137</td>\n",
       "      <td>[-0.0, 0.0, 0.0, 0.0, 0.0, 0.0, 0.0, 0.0, 0.0,...</td>\n",
       "    </tr>\n",
       "  </tbody>\n",
       "</table>\n",
       "</div>"
      ],
      "text/plain": [
       "                                    drug_a_structure  \\\n",
       "0  Cc1nc(Nc2ncc(C(=O)Nc3c(C)cccc3Cl)s2)cc(N2CCN(C...   \n",
       "1                      N.N.O=C(O)C1(C(=O)O)CCC1.[Pt]   \n",
       "2     CC(C)CC(NC(=O)C(Cc1ccccc1)NC(=O)c1cnccn1)B(O)O   \n",
       "3  CC1CC2C3CCC4=CC(=O)C=CC4(C)C3(F)C(O)CC2(C)C1(O...   \n",
       "4  CC1CC2C3CCC4=CC(=O)C=CC4(C)C3(F)C(O)CC2(C)C1(O...   \n",
       "\n",
       "                                    drug_b_structure cell_line    synergy  \\\n",
       "0  COC1CC2CCC(C)C(O)(O2)C(=O)C(=O)N2CCCCC2C(=O)OC...    UACC62  21.420859   \n",
       "1   N#Cc1ccc(Cn2cncc2CN2CCN(c3cccc(Cl)c3)C(=O)C2)cc1  NCIH1650 -15.029890   \n",
       "2  Cn1c(=O)n(-c2ccc(C(C)(C)C#N)cc2)c2c3cc(-c4cnc5...    SKMES1  -0.268603   \n",
       "3  CS(=O)(=O)CCNCc1ccc(-c2ccc3ncnc(Nc4ccc(OCc5ccc...  NCIH1650  29.087988   \n",
       "4  CCc1cnn2c(NCc3ccc[n+]([O-])c3)cc(N3CCCCC3CCO)nc12      LOVO   2.582137   \n",
       "\n",
       "                                      cell_line_expr  \n",
       "0  [-0.0, -0.0, 0.0, 1.0, -0.0, 0.0, -0.0, -0.0, ...  \n",
       "1  [0.0, 0.0, 0.0, 0.0, 0.0, 0.0, 0.0, -0.0, -0.0...  \n",
       "2  [0.0, 0.0, -0.0, -0.0, 0.0, 0.0, 0.0, 0.0, -0....  \n",
       "3  [0.0, 0.0, 0.0, 0.0, 0.0, 0.0, 0.0, -0.0, -0.0...  \n",
       "4  [-0.0, 0.0, 0.0, 0.0, 0.0, 0.0, 0.0, 0.0, 0.0,...  "
      ]
     },
     "execution_count": 33,
     "metadata": {},
     "output_type": "execute_result"
    }
   ],
   "source": [
    "data_for_gnn_gcn.head()"
   ]
  },
  {
   "cell_type": "code",
   "execution_count": null,
   "metadata": {},
   "outputs": [],
   "source": []
  },
  {
   "cell_type": "code",
   "execution_count": null,
   "metadata": {},
   "outputs": [],
   "source": []
  },
  {
   "cell_type": "code",
   "execution_count": null,
   "metadata": {},
   "outputs": [],
   "source": []
  },
  {
   "cell_type": "code",
   "execution_count": 34,
   "metadata": {
    "colab": {
     "base_uri": "https://localhost:8080/"
    },
    "id": "i1Vlrby6SLqv",
    "outputId": "c32ba69c-2435-4489-9e6b-1ade65a80341"
   },
   "outputs": [
    {
     "name": "stdout",
     "output_type": "stream",
     "text": [
      "The code uses a CPU...\n",
      "Preprocessing the GNN  dataset.\n",
      "Just a moment......\n"
     ]
    }
   ],
   "source": [
    "\n",
    "# Run the main code function: \n",
    "task = 'regression'\n",
    "dataset = ''\n",
    "radius = 3\n",
    "dim = 50\n",
    "layer_hidden=6\n",
    "layer_output=6\n",
    "\n",
    "batch_train=32\n",
    "batch_test=32\n",
    "lr=1e-4\n",
    "lr_decay=0.99\n",
    "decay_interval=10\n",
    "iteration=5\n",
    "\n",
    "#     (task, dataset, radius, dim, layer_hidden, layer_output,\n",
    "#      batch_train, batch_test, lr, lr_decay, decay_interval, iteration,\n",
    "#      setting) = sys.argv[1:]\n",
    "(radius, dim, layer_hidden, layer_output,\n",
    "  batch_train, batch_test, decay_interval,\n",
    "  iteration) = map(int, [radius, dim, layer_hidden, layer_output,\n",
    "                        batch_train, batch_test,\n",
    "                        decay_interval, iteration])\n",
    "lr, lr_decay = map(float, [lr, lr_decay])\n",
    "#     device = torch.device('cuda')\n",
    "# device = torch.device('cuda')\n",
    "\n",
    "if torch.cuda.is_available():\n",
    "    device = torch.device('cuda')\n",
    "    print('The code uses a GPU!')\n",
    "else:\n",
    "    device = torch.device('cpu')\n",
    "    print('The code uses a CPU...')\n",
    "#     print('-'*100)\n",
    "\n",
    "print('Preprocessing the GNN', dataset, 'dataset.')\n",
    "print('Just a moment......')\n",
    "non_working_index = check_for_non_working_smiles(data_for_gnn_gcn)\n",
    "# Remove the index which were skipped\n",
    "data_for_gnn_gcn = data_for_gnn_gcn.drop(non_working_index, axis = 0).reset_index().drop(['index'], axis=1)\n",
    "# data_for_gnn_gcn_new.shape\n",
    "\n"
   ]
  },
  {
   "cell_type": "code",
   "execution_count": 35,
   "metadata": {
    "colab": {
     "base_uri": "https://localhost:8080/"
    },
    "id": "Q4SurnQ_-9GH",
    "outputId": "32769a96-a193-4fc6-be6b-79a36900b57b"
   },
   "outputs": [
    {
     "name": "stdout",
     "output_type": "stream",
     "text": [
      "(18362, 5)\n",
      "Skipped 0 smiles in training data\n",
      "----------------------------------------------------------------------------------------------------\n",
      "The preprocess has finished!\n",
      "# of training data samples: 15000\n",
      "# of test data samples: 3362\n",
      "----------------------------------------------------------------------------------------------------\n"
     ]
    }
   ],
   "source": [
    "\n",
    "# (dataset_train, dataset_dev, dataset_test,\n",
    "#   N_fingerprints, final_index) = create_datasets(task, data_for_gnn_gcn, radius, device)\n",
    "# print('-'*100)\n",
    "(dataset_train, dataset_test,\n",
    "  N_fingerprints, final_index) = create_datasets(task, data_for_gnn_gcn, radius, device)\n",
    "print('-'*100)\n",
    "\n",
    "\n",
    "# dataset_train = dataset_train[:100]\n",
    "# dataset_dev = dataset_dev[-500:]\n",
    "\n",
    "print('The preprocess has finished!')\n",
    "print('# of training data samples:', len(dataset_train))\n",
    "# print('# of development data samples:', len(dataset_dev))\n",
    "print('# of test data samples:', len(dataset_test))\n",
    "print('-'*100)\n"
   ]
  },
  {
   "cell_type": "code",
   "execution_count": null,
   "metadata": {
    "id": "yAMck8MJaPGM"
   },
   "outputs": [],
   "source": []
  },
  {
   "cell_type": "code",
   "execution_count": null,
   "metadata": {
    "id": "zXLPcPZRSScT"
   },
   "outputs": [],
   "source": []
  },
  {
   "cell_type": "code",
   "execution_count": null,
   "metadata": {
    "id": "DlWhGyLASSgK"
   },
   "outputs": [],
   "source": []
  },
  {
   "cell_type": "code",
   "execution_count": 40,
   "metadata": {
    "colab": {
     "base_uri": "https://localhost:8080/"
    },
    "id": "bvsOScdwSXjC",
    "outputId": "2bb15f0b-de1e-4662-e206-16f2c68f2157"
   },
   "outputs": [
    {
     "name": "stdout",
     "output_type": "stream",
     "text": [
      "Preprocessing the GCN dataset.\n",
      "Just a moment......\n",
      "(18362, 5)\n",
      "gcn input train, dev, test size:  torch.Size([15000, 7524]) torch.Size([3362, 7524])\n",
      "----------------------------------------------------------------------------------------------------\n"
     ]
    }
   ],
   "source": [
    "print('Preprocessing the GCN dataset.')\n",
    "print('Just a moment......')\n",
    "# features_train, features_dev, features_test, idx_train, idx_val, idx_test, adj = get_gcn_dataset(adj_sp)\n",
    "features_train, features_test, idx_train, idx_test, adj = get_gcn_dataset(adj_sp)\n",
    "print('-'*100)"
   ]
  },
  {
   "cell_type": "code",
   "execution_count": null,
   "metadata": {},
   "outputs": [],
   "source": []
  },
  {
   "cell_type": "code",
   "execution_count": 85,
   "metadata": {},
   "outputs": [
    {
     "name": "stdout",
     "output_type": "stream",
     "text": [
      "Creating a model.\n",
      "# of model parameters: 2312301\n",
      "----------------------------------------------------------------------------------------------------\n",
      "Start training.\n",
      "The result is saved in the output directory every epoch!\n",
      "1000 30\n",
      "Epoch:  0  Batch size:  500\n",
      "train done\n",
      "The training will finish in about 3 hours 33 minutes.\n",
      "----------------------------------------------------------------------------------------------------\n",
      "Epoch\tTime(sec)\tLoss_train\tMAE_dev\tMAE_test\n",
      "0\t441.978641214082\t488.59130859375\t--------\t7.437182666083068\n",
      "Epoch:  1  Batch size:  500\n",
      "train done\n",
      "1\t850.6426614141092\t425.66107177734375\t--------\t6.765536566128388\n",
      "Epoch:  2  Batch size:  500\n",
      "train done\n",
      "2\t1251.7733639271464\t426.2579345703125\t--------\t6.753445828432536\n",
      "Epoch:  3  Batch size:  500\n",
      "train done\n",
      "3\t1643.3600434481632\t422.99066162109375\t--------\t6.693384472588807\n",
      "Epoch:  4  Batch size:  500\n",
      "train done\n",
      "4\t2040.516319516115\t389.2668762207031\t--------\t6.23960773042289\n",
      "Epoch:  5  Batch size:  500\n",
      "train done\n",
      "5\t2446.8397532680538\t341.9010009765625\t--------\t5.537561558170213\n",
      "Epoch:  6  Batch size:  500\n",
      "train done\n",
      "6\t2845.605865446152\t344.82489013671875\t--------\t5.49418421556673\n",
      "Epoch:  7  Batch size:  500\n",
      "train done\n",
      "7\t3259.4502619630657\t337.03228759765625\t--------\t5.389913771149862\n",
      "Epoch:  8  Batch size:  500\n",
      "train done\n",
      "8\t3674.7766671220306\t335.2188720703125\t--------\t5.3168780170250995\n",
      "Epoch:  9  Batch size:  500\n",
      "train done\n",
      "9\t4073.307452415116\t337.6946105957031\t--------\t5.274942176102274\n",
      "Epoch:  10  Batch size:  500\n",
      "train done\n",
      "10\t4480.20912459516\t341.0186767578125\t--------\t5.265996437030602\n",
      "Epoch:  11  Batch size:  500\n",
      "train done\n",
      "11\t4884.823688892182\t341.2121276855469\t--------\t5.25790147172285\n",
      "Epoch:  12  Batch size:  500\n",
      "train done\n",
      "12\t5283.630301428027\t340.2872009277344\t--------\t5.252026383373619\n",
      "Epoch:  13  Batch size:  500\n",
      "train done\n",
      "13\t5686.349224657053\t339.1078186035156\t--------\t5.238483336727922\n",
      "Epoch:  14  Batch size:  500\n",
      "train done\n",
      "14\t6088.400090985\t337.5367126464844\t--------\t5.220753264537832\n",
      "Epoch:  15  Batch size:  500\n",
      "train done\n",
      "15\t6497.895614627982\t336.5660400390625\t--------\t5.206785234820118\n",
      "Epoch:  16  Batch size:  500\n",
      "train done\n",
      "16\t6905.27533138101\t335.6944580078125\t--------\t5.1952167924912604\n",
      "Epoch:  17  Batch size:  500\n",
      "train done\n",
      "17\t7300.1774211130105\t335.0450134277344\t--------\t5.1861254086995\n",
      "Epoch:  18  Batch size:  500\n",
      "train done\n",
      "18\t7701.5471298331395\t334.4214782714844\t--------\t5.177659124722139\n",
      "Epoch:  19  Batch size:  500\n",
      "train done\n",
      "19\t8115.36873617419\t333.41839599609375\t--------\t5.1698063469143865\n",
      "Epoch:  20  Batch size:  500\n",
      "train done\n",
      "20\t8520.752358197002\t332.9056396484375\t--------\t5.166035273599361\n",
      "Epoch:  21  Batch size:  500\n",
      "train done\n",
      "21\t8918.499517031014\t332.64178466796875\t--------\t5.165595628938622\n",
      "Epoch:  22  Batch size:  500\n",
      "train done\n",
      "22\t9334.058405910153\t332.735107421875\t--------\t5.167844517154588\n",
      "Epoch:  23  Batch size:  500\n",
      "train done\n",
      "23\t9732.841342902975\t332.5136413574219\t--------\t5.168759489449348\n",
      "Epoch:  24  Batch size:  500\n",
      "train done\n",
      "24\t10136.32822258398\t332.2315368652344\t--------\t5.168188263782481\n",
      "Epoch:  25  Batch size:  500\n",
      "train done\n",
      "25\t10535.157935908064\t331.9448547363281\t--------\t5.1688737297268865\n",
      "Epoch:  26  Batch size:  500\n",
      "train done\n",
      "26\t10943.111283192178\t331.9491271972656\t--------\t5.170192524103828\n",
      "Epoch:  27  Batch size:  500\n",
      "train done\n",
      "27\t11355.912811703049\t331.889404296875\t--------\t5.16862603928371\n",
      "Epoch:  28  Batch size:  500\n",
      "train done\n",
      "28\t11762.29599698307\t331.7135009765625\t--------\t5.170266983285135\n",
      "Epoch:  29  Batch size:  500\n",
      "train done\n",
      "29\t12175.841349693015\t331.53875732421875\t--------\t5.17000469936982\n",
      "Epoch:  30  Batch size:  500\n",
      "train done\n",
      "30\t12583.35803314601\t331.6598205566406\t--------\t5.171578961957225\n",
      "Epoch:  31  Batch size:  500\n",
      "train done\n",
      "31\t13000.250126711093\t331.55462646484375\t--------\t5.171254020227253\n",
      "Epoch:  32  Batch size:  500\n",
      "train done\n",
      "32\t13414.9533696461\t331.45648193359375\t--------\t5.171642110413609\n",
      "Epoch:  33  Batch size:  500\n",
      "train done\n",
      "33\t13822.63922363217\t330.8175964355469\t--------\t5.168616841858921\n",
      "Epoch:  34  Batch size:  500\n",
      "train done\n",
      "34\t14224.647959657013\t330.70751953125\t--------\t5.169517302286559\n",
      "Epoch:  35  Batch size:  500\n",
      "train done\n",
      "35\t14631.698155737016\t330.8379821777344\t--------\t5.171847747296919\n",
      "Epoch:  36  Batch size:  500\n",
      "train done\n",
      "36\t15051.790332306176\t330.4841003417969\t--------\t5.172875043837405\n",
      "Epoch:  37  Batch size:  500\n",
      "train done\n",
      "37\t15450.961303738179\t330.5596618652344\t--------\t5.1751781639815695\n",
      "Epoch:  38  Batch size:  500\n",
      "train done\n",
      "38\t15857.936473716982\t330.67236328125\t--------\t5.182507362323571\n",
      "Epoch:  39  Batch size:  500\n",
      "train done\n",
      "39\t16257.848087269114\t330.47833251953125\t--------\t5.182649135863583\n",
      "Epoch:  40  Batch size:  500\n",
      "train done\n",
      "40\t16661.960764798103\t330.0899658203125\t--------\t5.191718702790487\n",
      "Epoch:  41  Batch size:  500\n",
      "train done\n",
      "41\t17079.686804732075\t329.5572204589844\t--------\t5.205506580668918\n",
      "Epoch:  42  Batch size:  500\n",
      "train done\n",
      "42\t17491.253942067036\t325.69952392578125\t--------\t5.198671187764374\n",
      "Epoch:  43  Batch size:  500\n",
      "train done\n",
      "43\t17908.53433933598\t323.39495849609375\t--------\t5.18273962874439\n",
      "Epoch:  44  Batch size:  500\n",
      "train done\n",
      "44\t18314.390790118137\t321.4804992675781\t--------\t5.163922239862094\n",
      "Epoch:  45  Batch size:  500\n",
      "train done\n",
      "45\t18725.834225435974\t320.669189453125\t--------\t5.154052888143128\n",
      "Epoch:  46  Batch size:  500\n",
      "train done\n",
      "46\t19134.963720795\t320.2345275878906\t--------\t5.1467147439356005\n",
      "Epoch:  47  Batch size:  500\n",
      "train done\n",
      "47\t19543.06163127604\t319.59307861328125\t--------\t5.13829579390215\n",
      "Epoch:  48  Batch size:  500\n",
      "train done\n",
      "48\t19951.796249475097\t319.2635498046875\t--------\t5.136757409195874\n",
      "Epoch:  49  Batch size:  500\n",
      "train done\n",
      "49\t20357.952954490902\t319.50128173828125\t--------\t5.135535751427076\n",
      "Epoch:  50  Batch size:  500\n",
      "train done\n",
      "50\t20768.668746527983\t319.61572265625\t--------\t5.136026381350355\n",
      "Epoch:  51  Batch size:  500\n",
      "train done\n",
      "51\t21188.288764033234\t319.510009765625\t--------\t5.138981634150553\n",
      "Epoch:  52  Batch size:  500\n",
      "train done\n",
      "52\t21600.41933679697\t318.97186279296875\t--------\t5.136213801768603\n",
      "Epoch:  53  Batch size:  500\n",
      "train done\n",
      "53\t22013.498488659272\t318.6481018066406\t--------\t5.135644432447233\n",
      "Epoch:  54  Batch size:  500\n",
      "train done\n",
      "54\t22424.486232572002\t318.5740051269531\t--------\t5.133236396916005\n",
      "Epoch:  55  Batch size:  500\n",
      "train done\n",
      "55\t22829.803476273315\t318.1268615722656\t--------\t5.132588745117188\n",
      "Epoch:  56  Batch size:  500\n",
      "train done\n",
      "56\t23238.619135133224\t318.58953857421875\t--------\t5.1363951517178865\n",
      "Epoch:  57  Batch size:  500\n",
      "train done\n",
      "57\t23650.9010688283\t317.30206298828125\t--------\t5.130639944171378\n",
      "Epoch:  58  Batch size:  500\n",
      "train done\n",
      "58\t24071.642829733202\t318.163818359375\t--------\t5.136244192218253\n",
      "Epoch:  59  Batch size:  500\n",
      "train done\n",
      "59\t24489.714426851133\t317.9499206542969\t--------\t5.141945107138618\n",
      "Epoch:  60  Batch size:  500\n",
      "train done\n",
      "60\t24896.126499681035\t317.6698913574219\t--------\t5.142663008716225\n",
      "Epoch:  61  Batch size:  500\n",
      "train done\n",
      "61\t25306.394153964007\t317.0969543457031\t--------\t5.142748489632791\n",
      "Epoch:  62  Batch size:  500\n",
      "train done\n",
      "62\t25712.95183722512\t316.6975402832031\t--------\t5.147425514853461\n",
      "Epoch:  63  Batch size:  500\n",
      "train done\n",
      "63\t26135.596287468215\t315.24658203125\t--------\t5.135950849501468\n",
      "Epoch:  64  Batch size:  500\n",
      "train done\n",
      "64\t26552.91787789925\t315.52081298828125\t--------\t5.138733854683724\n",
      "Epoch:  65  Batch size:  500\n",
      "train done\n",
      "65\t26980.87411836232\t313.9561462402344\t--------\t5.1325989363022275\n",
      "Epoch:  66  Batch size:  500\n",
      "train done\n",
      "66\t27398.6970473493\t314.0196838378906\t--------\t5.134282696297156\n",
      "Epoch:  67  Batch size:  500\n",
      "train done\n",
      "67\t27818.507028652122\t314.0257568359375\t--------\t5.139885408011589\n",
      "Epoch:  68  Batch size:  500\n",
      "train done\n",
      "68\t28221.99890910997\t313.0198669433594\t--------\t5.13569203245047\n",
      "Epoch:  69  Batch size:  500\n",
      "train done\n",
      "69\t28629.234048238257\t312.4346618652344\t--------\t5.127559302567119\n",
      "Epoch:  70  Batch size:  500\n",
      "train done\n",
      "70\t29033.98965580226\t312.1839599609375\t--------\t5.138256416447255\n",
      "Epoch:  71  Batch size:  500\n",
      "train done\n",
      "71\t29444.615345686907\t309.8067932128906\t--------\t5.122500444106635\n",
      "Epoch:  72  Batch size:  500\n",
      "train done\n",
      "72\t29848.63108435017\t307.84075927734375\t--------\t5.090228701090944\n",
      "Epoch:  73  Batch size:  500\n"
     ]
    },
    {
     "name": "stdout",
     "output_type": "stream",
     "text": [
      "train done\n",
      "73\t30265.949587933952\t306.5586242675781\t--------\t5.054847024316945\n",
      "Epoch:  74  Batch size:  500\n",
      "train done\n",
      "74\t30679.76636839914\t306.26123046875\t--------\t5.039037965553241\n",
      "Epoch:  75  Batch size:  500\n",
      "train done\n",
      "75\t31105.369746993063\t306.2181701660156\t--------\t5.037080333056371\n",
      "Epoch:  76  Batch size:  500\n",
      "train done\n",
      "76\t31520.79750910797\t305.6251220703125\t--------\t5.033623584051817\n",
      "Epoch:  77  Batch size:  500\n",
      "train done\n",
      "77\t31935.014321140246\t305.43695068359375\t--------\t5.031774294352663\n",
      "Epoch:  78  Batch size:  500\n",
      "train done\n",
      "78\t32351.611991008045\t305.4519958496094\t--------\t5.03001405191158\n",
      "Epoch:  79  Batch size:  500\n",
      "train done\n",
      "79\t32774.37853318523\t305.329345703125\t--------\t5.027588505697514\n",
      "Epoch:  80  Batch size:  500\n",
      "train done\n",
      "80\t33188.45769748301\t305.20086669921875\t--------\t5.029204815774991\n",
      "Epoch:  81  Batch size:  500\n",
      "train done\n",
      "81\t33610.51674151118\t305.01910400390625\t--------\t5.024299322138834\n",
      "Epoch:  82  Batch size:  500\n",
      "train done\n",
      "82\t34033.43976518395\t305.138916015625\t--------\t5.026261847564529\n",
      "Epoch:  83  Batch size:  500\n",
      "train done\n",
      "83\t34453.58766792319\t304.8733825683594\t--------\t5.0249156096231875\n",
      "Epoch:  84  Batch size:  500\n",
      "train done\n",
      "84\t34874.211326642195\t304.4612121582031\t--------\t5.020495989889071\n",
      "Epoch:  85  Batch size:  500\n",
      "train done\n",
      "85\t35290.49038199498\t304.69256591796875\t--------\t5.018091344000885\n",
      "Epoch:  86  Batch size:  500\n",
      "train done\n",
      "86\t35710.773883051006\t304.59716796875\t--------\t5.018861360497238\n",
      "Epoch:  87  Batch size:  500\n",
      "train done\n",
      "87\t36129.198040905176\t304.5193176269531\t--------\t5.020407223527602\n",
      "Epoch:  88  Batch size:  500\n",
      "train done\n",
      "88\t36538.0395800143\t303.9945983886719\t--------\t5.0143220380077045\n",
      "Epoch:  89  Batch size:  500\n",
      "train done\n",
      "89\t36948.47980070696\t303.4722595214844\t--------\t5.011968909163501\n",
      "Epoch:  90  Batch size:  500\n",
      "train done\n",
      "90\t37365.945989843225\t304.6212158203125\t--------\t5.01769510376651\n",
      "Epoch:  91  Batch size:  500\n",
      "train done\n",
      "91\t37789.802396016894\t303.9705505371094\t--------\t5.0168798113238084\n",
      "Epoch:  92  Batch size:  500\n",
      "train done\n",
      "92\t38210.80219893693\t302.6357421875\t--------\t5.002416164334966\n",
      "Epoch:  93  Batch size:  500\n",
      "train done\n",
      "93\t38625.131321392255\t303.4740295410156\t--------\t5.012961632154264\n",
      "Epoch:  94  Batch size:  500\n",
      "train done\n",
      "94\t39041.70175677701\t302.6199951171875\t--------\t5.003193790667623\n",
      "Epoch:  95  Batch size:  500\n",
      "train done\n",
      "95\t39464.57658421411\t302.36663818359375\t--------\t4.995908740301817\n",
      "Epoch:  96  Batch size:  500\n",
      "train done\n",
      "96\t39888.39358586422\t302.2644348144531\t--------\t4.992755779793249\n",
      "Epoch:  97  Batch size:  500\n",
      "train done\n",
      "97\t40312.54836169793\t301.58575439453125\t--------\t4.985247595012517\n",
      "Epoch:  98  Batch size:  500\n",
      "train done\n",
      "98\t40733.978586259065\t301.4940490722656\t--------\t4.9790073097186855\n",
      "Epoch:  99  Batch size:  500\n",
      "train done\n",
      "99\t41141.05978099606\t301.4869079589844\t--------\t4.981824665891531\n",
      "Epoch:  100  Batch size:  500\n",
      "train done\n",
      "100\t41544.62496412289\t300.6839904785156\t--------\t4.961617346326291\n",
      "Epoch:  101  Batch size:  500\n",
      "train done\n",
      "101\t41950.815828786\t301.61962890625\t--------\t4.968854388326571\n",
      "Epoch:  102  Batch size:  500\n",
      "train done\n",
      "102\t42359.792262409115\t300.7017822265625\t--------\t4.956923027586542\n",
      "Epoch:  103  Batch size:  500\n",
      "train done\n",
      "103\t42767.77337953006\t301.02752685546875\t--------\t4.949099611061055\n",
      "Epoch:  104  Batch size:  500\n",
      "train done\n",
      "104\t43170.75040368992\t302.52679443359375\t--------\t4.9534069891660915\n",
      "Epoch:  105  Batch size:  500\n",
      "train done\n",
      "105\t43575.45165126794\t301.6888122558594\t--------\t4.951082602147897\n",
      "Epoch:  106  Batch size:  500\n",
      "train done\n",
      "106\t43990.43044301099\t301.6106872558594\t--------\t4.935843661987979\n",
      "Epoch:  107  Batch size:  500\n",
      "train done\n",
      "107\t44388.54596234928\t301.931396484375\t--------\t4.931981952477555\n",
      "Epoch:  108  Batch size:  500\n",
      "train done\n",
      "108\t44785.30034568417\t302.7490234375\t--------\t4.937307513326571\n",
      "Epoch:  109  Batch size:  500\n",
      "train done\n",
      "109\t45189.48514479608\t302.1882629394531\t--------\t4.926830920477599\n",
      "Epoch:  110  Batch size:  500\n",
      "train done\n",
      "110\t45602.427474078955\t302.82623291015625\t--------\t4.916453769747065\n",
      "Epoch:  111  Batch size:  500\n",
      "train done\n",
      "111\t46009.2608353782\t303.62493896484375\t--------\t4.9257904588899555\n",
      "Epoch:  112  Batch size:  500\n",
      "train done\n",
      "112\t46418.49490660592\t302.9732360839844\t--------\t4.913640426382834\n",
      "Epoch:  113  Batch size:  500\n",
      "train done\n",
      "113\t46823.91425707727\t303.631591796875\t--------\t4.913661083579722\n",
      "Epoch:  114  Batch size:  500\n",
      "train done\n",
      "114\t47232.16571105993\t304.3689880371094\t--------\t4.915437374220369\n",
      "Epoch:  115  Batch size:  500\n",
      "train done\n",
      "115\t47635.51655784412\t304.1934509277344\t--------\t4.914568279456039\n",
      "Epoch:  116  Batch size:  500\n",
      "train done\n",
      "116\t48041.82053785096\t303.989501953125\t--------\t4.912680809063147\n",
      "Epoch:  117  Batch size:  500\n",
      "train done\n",
      "117\t48458.8272738161\t304.3610534667969\t--------\t4.915067039194687\n",
      "Epoch:  118  Batch size:  500\n",
      "train done\n",
      "118\t48861.63707476319\t303.6711730957031\t--------\t4.916337732473131\n",
      "Epoch:  119  Batch size:  500\n",
      "train done\n",
      "119\t49274.74424024788\t302.8184814453125\t--------\t4.912578985899192\n",
      "Epoch:  120  Batch size:  500\n",
      "train done\n",
      "120\t49685.15685588424\t303.49530029296875\t--------\t4.923266139920904\n",
      "Epoch:  121  Batch size:  500\n",
      "train done\n",
      "121\t50099.11371549987\t303.23956298828125\t--------\t4.925518638652991\n",
      "Epoch:  122  Batch size:  500\n",
      "train done\n",
      "122\t50506.05087461113\t302.8429260253906\t--------\t4.922928183877007\n",
      "Epoch:  123  Batch size:  500\n",
      "train done\n",
      "123\t50910.84579337132\t302.26007080078125\t--------\t4.915372047382165\n",
      "Epoch:  124  Batch size:  500\n",
      "train done\n",
      "124\t51317.4592406943\t302.9452819824219\t--------\t4.929067832988928\n",
      "Epoch:  125  Batch size:  500\n",
      "train done\n",
      "125\t51724.351311760256\t303.47918701171875\t--------\t4.94207149779599\n",
      "Epoch:  126  Batch size:  500\n",
      "train done\n",
      "126\t52131.99304449721\t302.40087890625\t--------\t4.932114267928824\n",
      "Epoch:  127  Batch size:  500\n",
      "train done\n",
      "127\t52542.977072637295\t301.8950500488281\t--------\t4.9315709872588265\n",
      "Epoch:  128  Batch size:  500\n",
      "train done\n",
      "128\t52953.457336820895\t301.5335693359375\t--------\t4.923669074127028\n",
      "Epoch:  129  Batch size:  500\n",
      "train done\n",
      "129\t53362.09662323515\t301.7083740234375\t--------\t4.931210683917472\n",
      "Epoch:  130  Batch size:  500\n",
      "train done\n",
      "130\t53772.17774847499\t301.7168884277344\t--------\t4.94161796780581\n",
      "Epoch:  131  Batch size:  500\n",
      "train done\n",
      "131\t54175.96962955617\t301.00579833984375\t--------\t4.944667223514115\n",
      "Epoch:  132  Batch size:  500\n",
      "train done\n",
      "132\t54575.118690963136\t299.6579284667969\t--------\t4.924053984078254\n",
      "Epoch:  133  Batch size:  500\n",
      "train done\n",
      "133\t54979.22359906486\t301.11151123046875\t--------\t4.940659648747734\n",
      "Epoch:  134  Batch size:  500\n",
      "train done\n",
      "134\t55391.73866868415\t302.0845031738281\t--------\t4.95515090385985\n",
      "Epoch:  135  Batch size:  500\n",
      "train done\n",
      "135\t55799.70034811902\t301.6827392578125\t--------\t4.955370348514114\n",
      "Epoch:  136  Batch size:  500\n",
      "train done\n",
      "136\t56207.562841342995\t300.2558288574219\t--------\t4.938856761953449\n",
      "Epoch:  137  Batch size:  500\n",
      "train done\n",
      "137\t56606.94645953714\t300.25958251953125\t--------\t4.931079582087902\n",
      "Epoch:  138  Batch size:  500\n",
      "train done\n",
      "138\t57016.16379010794\t302.3617248535156\t--------\t4.953227782191492\n",
      "Epoch:  139  Batch size:  500\n",
      "train done\n",
      "139\t57418.688347052084\t302.62042236328125\t--------\t4.96366336143873\n",
      "Epoch:  140  Batch size:  500\n",
      "train done\n",
      "140\t57823.81492543523\t299.591552734375\t--------\t4.942623482214153\n",
      "Epoch:  141  Batch size:  500\n",
      "train done\n",
      "141\t58230.75378322392\t299.2447509765625\t--------\t4.927811746333845\n",
      "Epoch:  142  Batch size:  500\n",
      "train done\n",
      "142\t58631.34642176307\t301.2190856933594\t--------\t4.9444410282366835\n",
      "Epoch:  143  Batch size:  500\n",
      "train done\n",
      "143\t59033.16829706286\t300.7599182128906\t--------\t4.954094378560947\n",
      "Epoch:  144  Batch size:  500\n",
      "train done\n",
      "144\t59446.764641336864\t299.90557861328125\t--------\t4.942136479330326\n",
      "Epoch:  145  Batch size:  500\n",
      "train done\n",
      "145\t59853.21026863414\t300.9874572753906\t--------\t4.946389289307989\n",
      "Epoch:  146  Batch size:  500\n",
      "train done\n",
      "146\t60247.181480438216\t301.3543701171875\t--------\t4.942096997677292\n",
      "Epoch:  147  Batch size:  500\n",
      "train done\n",
      "147\t60648.935158119304\t301.4207763671875\t--------\t4.929194369321371\n",
      "Epoch:  148  Batch size:  500\n",
      "train done\n",
      "148\t61057.774262861116\t303.1866149902344\t--------\t4.944756016852447\n",
      "Epoch:  149  Batch size:  500\n",
      "train done\n",
      "149\t61460.32495646016\t301.8609924316406\t--------\t4.947901017837103\n",
      "Epoch:  150  Batch size:  500\n"
     ]
    },
    {
     "name": "stdout",
     "output_type": "stream",
     "text": [
      "train done\n",
      "150\t61865.74570212397\t301.9732360839844\t--------\t4.942728095460334\n",
      "Epoch:  151  Batch size:  500\n",
      "train done\n",
      "151\t62271.14125083224\t301.6140441894531\t--------\t4.951777342063946\n",
      "Epoch:  152  Batch size:  500\n",
      "train done\n",
      "152\t62684.58793195221\t300.5320129394531\t--------\t4.941999225426773\n",
      "Epoch:  153  Batch size:  500\n",
      "train done\n",
      "153\t63095.67056566407\t300.1340637207031\t--------\t4.939765318475375\n",
      "Epoch:  154  Batch size:  500\n",
      "train done\n",
      "154\t63491.49389431602\t300.7989501953125\t--------\t4.953909418769963\n",
      "Epoch:  155  Batch size:  500\n",
      "train done\n",
      "155\t63896.00281775626\t299.1416015625\t--------\t4.945217711053501\n",
      "Epoch:  156  Batch size:  500\n",
      "train done\n",
      "156\t64294.20540326391\t299.3674621582031\t--------\t4.93996378355922\n",
      "Epoch:  157  Batch size:  500\n",
      "train done\n",
      "157\t64703.41241415427\t300.388427734375\t--------\t4.969449912392632\n",
      "Epoch:  158  Batch size:  500\n",
      "train done\n",
      "158\t65104.21769310697\t298.85467529296875\t--------\t4.9567809738243485\n",
      "Epoch:  159  Batch size:  500\n",
      "train done\n",
      "159\t65508.58684414928\t300.064697265625\t--------\t4.9764499110437885\n",
      "Epoch:  160  Batch size:  500\n",
      "train done\n",
      "160\t65909.01600071625\t300.604736328125\t--------\t4.984431462577692\n",
      "Epoch:  161  Batch size:  500\n",
      "train done\n",
      "161\t66304.67187395017\t300.48541259765625\t--------\t4.986497196092131\n",
      "Epoch:  162  Batch size:  500\n",
      "train done\n",
      "162\t66706.38096719631\t300.22119140625\t--------\t4.984076874959534\n",
      "Epoch:  163  Batch size:  500\n",
      "train done\n",
      "163\t67113.00057908031\t299.7958679199219\t--------\t4.969230184144078\n",
      "Epoch:  164  Batch size:  500\n",
      "train done\n",
      "164\t67514.17324566632\t300.50469970703125\t--------\t4.9657849380746075\n",
      "Epoch:  165  Batch size:  500\n",
      "train done\n",
      "165\t67913.88589599798\t300.02899169921875\t--------\t4.97080561381809\n",
      "Epoch:  166  Batch size:  500\n",
      "train done\n",
      "166\t68311.20064610313\t299.77362060546875\t--------\t4.9467295161294675\n",
      "Epoch:  167  Batch size:  500\n",
      "train done\n",
      "167\t68715.71917134919\t302.6103210449219\t--------\t4.974640570034639\n",
      "Epoch:  168  Batch size:  500\n",
      "train done\n",
      "168\t69117.46337270807\t302.5111999511719\t--------\t4.999502665651437\n",
      "Epoch:  169  Batch size:  500\n",
      "train done\n",
      "169\t69517.71579968114\t302.5484313964844\t--------\t5.004291680267502\n",
      "Epoch:  170  Batch size:  500\n",
      "train done\n",
      "170\t69923.9823122879\t302.3724060058594\t--------\t5.027266988680507\n",
      "Epoch:  171  Batch size:  500\n",
      "train done\n",
      "171\t70330.95994988526\t302.5409851074219\t--------\t5.041625420839088\n",
      "Epoch:  172  Batch size:  500\n",
      "train done\n",
      "172\t70740.64187675226\t303.09490966796875\t--------\t5.0587329199353634\n",
      "Epoch:  173  Batch size:  500\n",
      "train done\n",
      "173\t71145.45793854003\t303.53558349609375\t--------\t5.0773796164159615\n",
      "Epoch:  174  Batch size:  500\n",
      "train done\n",
      "174\t71549.05609182012\t303.2939758300781\t--------\t5.080023042626144\n",
      "Epoch:  175  Batch size:  500\n",
      "train done\n",
      "175\t71950.8820409833\t301.5588073730469\t--------\t5.07226153092358\n",
      "Epoch:  176  Batch size:  500\n",
      "train done\n",
      "176\t72352.68357097195\t299.83154296875\t--------\t5.0327930776690915\n",
      "Epoch:  177  Batch size:  500\n",
      "train done\n",
      "177\t72754.17453016504\t298.37982177734375\t--------\t4.938619328282815\n",
      "Epoch:  178  Batch size:  500\n",
      "train done\n",
      "178\t73164.09126349003\t299.050537109375\t--------\t4.899581069524776\n",
      "Epoch:  179  Batch size:  500\n",
      "train done\n",
      "179\t73569.64715960319\t298.88446044921875\t--------\t4.903588934966873\n",
      "Epoch:  180  Batch size:  500\n",
      "train done\n",
      "180\t73977.03580929921\t298.7505187988281\t--------\t4.895405354873911\n",
      "Epoch:  181  Batch size:  500\n",
      "train done\n",
      "181\t74382.08846294717\t298.6133117675781\t--------\t4.903970265762582\n",
      "Epoch:  182  Batch size:  500\n",
      "train done\n",
      "182\t74786.71122380416\t298.83966064453125\t--------\t4.903073229373489\n",
      "Epoch:  183  Batch size:  500\n",
      "train done\n",
      "183\t75193.73532131291\t299.4241027832031\t--------\t4.890420741465869\n",
      "Epoch:  184  Batch size:  500\n",
      "train done\n",
      "184\t75598.80833460414\t299.04046630859375\t--------\t4.856655820224825\n",
      "Epoch:  185  Batch size:  500\n",
      "train done\n",
      "185\t76001.62644383521\t300.24871826171875\t--------\t4.845722689465265\n",
      "Epoch:  186  Batch size:  500\n",
      "train done\n",
      "186\t76395.8612021252\t301.13507080078125\t--------\t4.837405319972592\n",
      "Epoch:  187  Batch size:  500\n",
      "train done\n",
      "187\t76797.0585917423\t300.79510498046875\t--------\t4.835559883749946\n",
      "Epoch:  188  Batch size:  500\n",
      "train done\n",
      "188\t77197.2060525592\t300.0755310058594\t--------\t4.840953317378766\n",
      "Epoch:  189  Batch size:  500\n",
      "train done\n",
      "189\t77604.32313572918\t298.50067138671875\t--------\t4.837716590164775\n",
      "Epoch:  190  Batch size:  500\n",
      "train done\n",
      "190\t78003.82251400896\t297.1900939941406\t--------\t4.842377004043832\n",
      "Epoch:  191  Batch size:  500\n",
      "train done\n",
      "191\t78420.51495120092\t293.7700500488281\t--------\t4.8261420038549945\n",
      "Epoch:  192  Batch size:  500\n",
      "train done\n",
      "192\t78826.13038064889\t292.2785339355469\t--------\t4.827877130497885\n",
      "Epoch:  193  Batch size:  500\n",
      "train done\n",
      "193\t79237.96294204821\t292.4208679199219\t--------\t4.823405546915466\n",
      "Epoch:  194  Batch size:  500\n",
      "train done\n",
      "194\t79640.99247245002\t293.0151672363281\t--------\t4.821731398440197\n",
      "Epoch:  195  Batch size:  500\n",
      "train done\n",
      "195\t80038.8197262811\t293.7117614746094\t--------\t4.819522508147013\n",
      "Epoch:  196  Batch size:  500\n",
      "train done\n",
      "196\t80446.00856358628\t293.2573547363281\t--------\t4.811413680777365\n",
      "Epoch:  197  Batch size:  500\n",
      "train done\n",
      "197\t80844.73002404929\t292.93145751953125\t--------\t4.811977845081309\n",
      "Epoch:  198  Batch size:  500\n",
      "train done\n",
      "198\t81245.80160495895\t293.1895751953125\t--------\t4.813158076333735\n",
      "Epoch:  199  Batch size:  500\n",
      "train done\n",
      "199\t81649.83450489887\t293.328857421875\t--------\t4.809732813882565\n",
      "Epoch:  200  Batch size:  500\n",
      "train done\n",
      "200\t82051.70291068195\t292.6597900390625\t--------\t4.813913424328546\n",
      "Epoch:  201  Batch size:  500\n",
      "train done\n",
      "201\t82458.36501245317\t292.3965148925781\t--------\t4.818667394479994\n",
      "Epoch:  202  Batch size:  500\n",
      "train done\n",
      "202\t82864.81451319088\t292.1515197753906\t--------\t4.8208340840207935\n",
      "Epoch:  203  Batch size:  500\n",
      "train done\n",
      "203\t83277.2874024103\t291.73291015625\t--------\t4.824007184276265\n",
      "Epoch:  204  Batch size:  500\n",
      "train done\n",
      "204\t83693.30401741317\t291.76068115234375\t--------\t4.825751843868698\n",
      "Epoch:  205  Batch size:  500\n",
      "train done\n",
      "205\t84109.76953505701\t291.8398742675781\t--------\t4.824762251711682\n",
      "Epoch:  206  Batch size:  500\n",
      "train done\n",
      "206\t84525.36281609931\t291.3824768066406\t--------\t4.82411349622189\n",
      "Epoch:  207  Batch size:  500\n",
      "train done\n",
      "207\t84936.62403064291\t291.3988037109375\t--------\t4.827198003273643\n",
      "Epoch:  208  Batch size:  500\n",
      "train done\n",
      "208\t85346.30759427021\t291.6553649902344\t--------\t4.825556670299552\n",
      "Epoch:  209  Batch size:  500\n",
      "train done\n",
      "209\t85803.69050697493\t292.0545654296875\t--------\t4.828052563240515\n",
      "Epoch:  210  Batch size:  500\n",
      "train done\n",
      "210\t86260.58910761331\t291.5160827636719\t--------\t4.82620189418055\n",
      "Epoch:  211  Batch size:  500\n",
      "train done\n",
      "211\t86662.9711591329\t291.6867370605469\t--------\t4.820358671578255\n",
      "Epoch:  212  Batch size:  500\n",
      "train done\n",
      "212\t87066.12236968125\t292.5885314941406\t--------\t4.827032223021787\n",
      "Epoch:  213  Batch size:  500\n",
      "train done\n",
      "213\t87466.12128180894\t292.085693359375\t--------\t4.821023265522488\n",
      "Epoch:  214  Batch size:  500\n",
      "train done\n",
      "214\t87865.18759268313\t292.0928955078125\t--------\t4.8199369060031625\n",
      "Epoch:  215  Batch size:  500\n",
      "train done\n",
      "215\t88268.55375988991\t292.2647399902344\t--------\t4.819960700272197\n",
      "Epoch:  216  Batch size:  500\n",
      "train done\n",
      "216\t88676.28262746311\t291.96746826171875\t--------\t4.821751728879812\n",
      "Epoch:  217  Batch size:  500\n",
      "train done\n",
      "217\t89082.05961664417\t292.12060546875\t--------\t4.823043317257371\n",
      "Epoch:  218  Batch size:  500\n",
      "train done\n",
      "218\t89490.34830361628\t292.2137145996094\t--------\t4.8209240442771275\n",
      "Epoch:  219  Batch size:  500\n",
      "train done\n",
      "219\t89905.77277900907\t291.9666748046875\t--------\t4.817269555529178\n",
      "Epoch:  220  Batch size:  500\n",
      "train done\n",
      "220\t90325.81477893912\t291.9591369628906\t--------\t4.817415311191622\n",
      "Epoch:  221  Batch size:  500\n",
      "train done\n",
      "221\t90735.72623238503\t291.6595764160156\t--------\t4.817903620092908\n",
      "Epoch:  222  Batch size:  500\n",
      "train done\n",
      "222\t91143.95595088112\t291.6220703125\t--------\t4.821387562788653\n",
      "Epoch:  223  Batch size:  500\n",
      "train done\n",
      "223\t91550.9449199352\t292.1325378417969\t--------\t4.820445102249062\n",
      "Epoch:  224  Batch size:  500\n",
      "train done\n",
      "224\t91959.52474283823\t291.835693359375\t--------\t4.821890687215394\n",
      "Epoch:  225  Batch size:  500\n",
      "train done\n",
      "225\t92366.4838784642\t291.6640625\t--------\t4.833350784554666\n",
      "Epoch:  226  Batch size:  500\n"
     ]
    },
    {
     "name": "stdout",
     "output_type": "stream",
     "text": [
      "train done\n",
      "226\t92769.17403591587\t291.81268310546875\t--------\t4.836950231562661\n",
      "Epoch:  227  Batch size:  500\n",
      "train done\n",
      "227\t93180.94047044986\t292.4999084472656\t--------\t4.830525210217218\n",
      "Epoch:  228  Batch size:  500\n",
      "train done\n",
      "228\t93590.57644056831\t293.0243225097656\t--------\t4.8202215749835435\n",
      "Epoch:  229  Batch size:  500\n",
      "train done\n",
      "229\t93998.67223875527\t293.0205993652344\t--------\t4.8205305519736275\n",
      "Epoch:  230  Batch size:  500\n",
      "train done\n",
      "230\t94410.31103067822\t292.6566162109375\t--------\t4.819320773804385\n",
      "Epoch:  231  Batch size:  500\n",
      "train done\n",
      "231\t94827.6870072789\t292.33697509765625\t--------\t4.81900798784962\n",
      "Epoch:  232  Batch size:  500\n",
      "train done\n",
      "232\t95236.18963291007\t292.92755126953125\t--------\t4.821991589456632\n",
      "Epoch:  233  Batch size:  500\n",
      "train done\n",
      "233\t95649.67504117801\t292.6748962402344\t--------\t4.820385518616734\n",
      "Epoch:  234  Batch size:  500\n",
      "train done\n",
      "234\t96063.7308139971\t291.8164367675781\t--------\t4.818429569644822\n",
      "Epoch:  235  Batch size:  500\n",
      "train done\n",
      "235\t96465.69506003126\t292.1277770996094\t--------\t4.8206729770049215\n",
      "Epoch:  236  Batch size:  500\n",
      "train done\n",
      "236\t96875.75456508924\t291.7734680175781\t--------\t4.818896752288987\n",
      "Epoch:  237  Batch size:  500\n",
      "train done\n",
      "237\t97288.56772304629\t291.91217041015625\t--------\t4.828430009873532\n",
      "Epoch:  238  Batch size:  500\n",
      "train done\n",
      "238\t97692.28217577306\t292.3202209472656\t--------\t4.8317425400539005\n",
      "Epoch:  239  Batch size:  500\n",
      "train done\n",
      "239\t98098.1956238409\t292.3519592285156\t--------\t4.827188285869788\n",
      "Epoch:  240  Batch size:  500\n",
      "train done\n",
      "240\t98501.73687621322\t291.6273498535156\t--------\t4.823955344690144\n",
      "Epoch:  241  Batch size:  500\n",
      "train done\n",
      "241\t98906.6465468232\t292.0939636230469\t--------\t4.821145195049476\n",
      "Epoch:  242  Batch size:  500\n",
      "train done\n",
      "242\t99316.76339745824\t292.5090026855469\t--------\t4.823667535771322\n",
      "Epoch:  243  Batch size:  500\n",
      "train done\n",
      "243\t99722.96041159402\t292.4249267578125\t--------\t4.82166988629926\n",
      "Epoch:  244  Batch size:  500\n",
      "train done\n",
      "244\t100124.70208154223\t292.36090087890625\t--------\t4.820254310902969\n",
      "Epoch:  245  Batch size:  500\n",
      "train done\n",
      "245\t100534.53293918609\t293.19915771484375\t--------\t4.823434811924044\n",
      "Epoch:  246  Batch size:  500\n",
      "train done\n",
      "246\t100940.97018358926\t293.0086364746094\t--------\t4.81464378028153\n",
      "Epoch:  247  Batch size:  500\n",
      "train done\n",
      "247\t101352.48794765095\t293.8271789550781\t--------\t4.818367975055842\n",
      "Epoch:  248  Batch size:  500\n",
      "train done\n",
      "248\t101766.24311825424\t293.57745361328125\t--------\t4.816389364506\n",
      "Epoch:  249  Batch size:  500\n",
      "train done\n",
      "249\t102182.24728157814\t292.52508544921875\t--------\t4.820771265187975\n",
      "Epoch:  250  Batch size:  500\n",
      "train done\n",
      "250\t102610.25806116802\t291.2057189941406\t--------\t4.825287930146106\n",
      "Epoch:  251  Batch size:  500\n",
      "train done\n",
      "251\t103033.23701814911\t290.89349365234375\t--------\t4.832745977243666\n",
      "Epoch:  252  Batch size:  500\n",
      "train done\n",
      "252\t103444.13938433887\t290.98138427734375\t--------\t4.824991298443704\n",
      "Epoch:  253  Batch size:  500\n",
      "train done\n",
      "253\t103862.86966470093\t291.06854248046875\t--------\t4.828758249187997\n",
      "Epoch:  254  Batch size:  500\n",
      "train done\n",
      "254\t104284.75548236002\t292.26531982421875\t--------\t4.819588696390225\n",
      "Epoch:  255  Batch size:  500\n",
      "train done\n",
      "255\t104703.79140537302\t292.40850830078125\t--------\t4.809703758113292\n",
      "Epoch:  256  Batch size:  500\n",
      "train done\n",
      "256\t105113.41036891495\t292.4016418457031\t--------\t4.809777343075579\n",
      "Epoch:  257  Batch size:  500\n",
      "train done\n",
      "257\t105530.42971717124\t292.70587158203125\t--------\t4.812081215031239\n",
      "Epoch:  258  Batch size:  500\n",
      "train done\n",
      "258\t105944.80497153732\t292.8845520019531\t--------\t4.815872300458876\n",
      "Epoch:  259  Batch size:  500\n",
      "train done\n",
      "259\t106356.701591091\t292.9942626953125\t--------\t4.827249501602426\n",
      "Epoch:  260  Batch size:  500\n",
      "train done\n",
      "260\t106758.14854809991\t293.6070556640625\t--------\t4.832763462972904\n",
      "Epoch:  261  Batch size:  500\n",
      "train done\n",
      "261\t107165.19901302899\t294.3564758300781\t--------\t4.846223014199273\n",
      "Epoch:  262  Batch size:  500\n",
      "train done\n",
      "262\t107576.99107078719\t293.3531799316406\t--------\t4.85409183649727\n",
      "Epoch:  263  Batch size:  500\n",
      "train done\n",
      "263\t107985.41934996308\t291.9446105957031\t--------\t4.848842733478019\n",
      "Epoch:  264  Batch size:  500\n",
      "train done\n",
      "264\t108392.39206995\t291.132568359375\t--------\t4.847976730430982\n",
      "Epoch:  265  Batch size:  500\n",
      "train done\n",
      "265\t108815.72979831626\t291.15673828125\t--------\t4.851729096807827\n",
      "Epoch:  266  Batch size:  500\n",
      "train done\n",
      "266\t109233.07475635107\t291.50115966796875\t--------\t4.858068153507801\n",
      "Epoch:  267  Batch size:  500\n",
      "train done\n",
      "267\t109648.1579196162\t291.7691650390625\t--------\t4.854990594178933\n",
      "Epoch:  268  Batch size:  500\n",
      "train done\n",
      "268\t110059.75674625603\t291.3551940917969\t--------\t4.850851853175716\n",
      "Epoch:  269  Batch size:  500\n",
      "train done\n",
      "269\t110471.2892693819\t291.8072204589844\t--------\t4.860601068654772\n",
      "Epoch:  270  Batch size:  500\n",
      "train done\n",
      "270\t110882.78668473498\t292.0811767578125\t--------\t4.851446151649095\n",
      "Epoch:  271  Batch size:  500\n",
      "train done\n",
      "271\t111298.17321683117\t292.83099365234375\t--------\t4.852616038454172\n",
      "Epoch:  272  Batch size:  500\n",
      "train done\n",
      "272\t111712.64784858492\t292.43157958984375\t--------\t4.8464518648432104\n",
      "Epoch:  273  Batch size:  500\n",
      "train done\n",
      "273\t112173.7679340539\t292.87530517578125\t--------\t4.86977555788156\n",
      "Epoch:  274  Batch size:  500\n",
      "train done\n",
      "274\t112597.53288553306\t292.00531005859375\t--------\t4.8482378816551925\n",
      "Epoch:  275  Batch size:  500\n",
      "train done\n",
      "275\t113020.78190583526\t292.1657409667969\t--------\t4.8670701044409315\n",
      "Epoch:  276  Batch size:  500\n",
      "train done\n",
      "276\t113433.18791090022\t292.1626892089844\t--------\t4.8740051104297955\n",
      "Epoch:  277  Batch size:  500\n",
      "train done\n",
      "277\t113848.97945519607\t292.28741455078125\t--------\t4.858178919333779\n",
      "Epoch:  278  Batch size:  500\n",
      "train done\n",
      "278\t114265.57479172316\t293.0254821777344\t--------\t4.853081861464358\n",
      "Epoch:  279  Batch size:  500\n",
      "train done\n",
      "279\t114684.68635990494\t295.02850341796875\t--------\t4.833237511734936\n",
      "Epoch:  280  Batch size:  500\n",
      "train done\n",
      "280\t115103.02560946415\t299.15887451171875\t--------\t4.828326015915001\n",
      "Epoch:  281  Batch size:  500\n",
      "train done\n",
      "281\t115524.43687132304\t304.08563232421875\t--------\t4.84809041127579\n",
      "Epoch:  282  Batch size:  500\n",
      "train done\n",
      "282\t115943.21242719819\t304.7143859863281\t--------\t4.872617356274009\n",
      "Epoch:  283  Batch size:  500\n",
      "train done\n",
      "283\t116361.36759174732\t303.61572265625\t--------\t4.882246953300349\n",
      "Epoch:  284  Batch size:  500\n",
      "train done\n",
      "284\t116778.35005075927\t302.1755676269531\t--------\t4.870589618830391\n",
      "Epoch:  285  Batch size:  500\n",
      "train done\n",
      "285\t117195.50168238324\t300.4445495605469\t--------\t4.840037908227404\n",
      "Epoch:  286  Batch size:  500\n",
      "train done\n",
      "286\t117609.88650415302\t299.3826904296875\t--------\t4.827271863568554\n",
      "Epoch:  287  Batch size:  500\n",
      "train done\n",
      "287\t118030.87903648592\t301.0095520019531\t--------\t4.8465863354087535\n",
      "Epoch:  288  Batch size:  500\n",
      "train done\n",
      "288\t118445.3184988692\t301.27545166015625\t--------\t4.857444779201107\n",
      "Epoch:  289  Batch size:  500\n",
      "train done\n",
      "289\t118857.643017316\t301.88177490234375\t--------\t4.86771757532615\n",
      "Epoch:  290  Batch size:  500\n",
      "train done\n",
      "290\t119274.28846429591\t300.3328857421875\t--------\t4.855028036549605\n",
      "Epoch:  291  Batch size:  500\n",
      "train done\n",
      "291\t119685.98906505317\t300.50927734375\t--------\t4.857779577602998\n",
      "Epoch:  292  Batch size:  500\n",
      "train done\n",
      "292\t120106.34174352116\t298.15777587890625\t--------\t4.828206539090825\n",
      "Epoch:  293  Batch size:  500\n",
      "train done\n",
      "293\t120526.309753109\t299.71820068359375\t--------\t4.844587132069288\n",
      "Epoch:  294  Batch size:  500\n",
      "train done\n",
      "294\t120944.5426715801\t299.854736328125\t--------\t4.848182645681813\n",
      "Epoch:  295  Batch size:  500\n",
      "train done\n",
      "295\t121365.75705776107\t300.02178955078125\t--------\t4.856145357585085\n",
      "Epoch:  296  Batch size:  500\n",
      "train done\n",
      "296\t121788.22382458416\t298.1620788574219\t--------\t4.831106233038296\n",
      "Epoch:  297  Batch size:  500\n",
      "train done\n",
      "297\t122205.32103076414\t299.3429870605469\t--------\t4.848849802596793\n",
      "Epoch:  298  Batch size:  500\n",
      "train done\n",
      "298\t122620.0127950029\t299.5555725097656\t--------\t4.852684976145707\n",
      "Epoch:  299  Batch size:  500\n",
      "train done\n",
      "299\t123045.19890178205\t299.66009521484375\t--------\t4.853971951816622\n",
      "Epoch:  300  Batch size:  500\n",
      "train done\n",
      "300\t123455.36012933007\t298.2176818847656\t--------\t4.82367884632764\n",
      "Epoch:  301  Batch size:  500\n",
      "train done\n",
      "301\t123869.42084288015\t297.7876892089844\t--------\t4.818428390081416\n",
      "Epoch:  302  Batch size:  500\n"
     ]
    },
    {
     "name": "stdout",
     "output_type": "stream",
     "text": [
      "train done\n",
      "302\t124286.74385541887\t299.3817443847656\t--------\t4.8352068112199476\n",
      "Epoch:  303  Batch size:  500\n",
      "train done\n",
      "303\t124699.63658726704\t298.8244934082031\t--------\t4.833251844037304\n",
      "Epoch:  304  Batch size:  500\n",
      "train done\n",
      "304\t125112.24545862922\t299.6394958496094\t--------\t4.847661649588063\n",
      "Epoch:  305  Batch size:  500\n",
      "train done\n",
      "305\t125526.33165849396\t298.6711120605469\t--------\t4.835503318491562\n",
      "Epoch:  306  Batch size:  500\n",
      "train done\n",
      "306\t125936.57727640099\t299.3158264160156\t--------\t4.842700903455197\n",
      "Epoch:  307  Batch size:  500\n",
      "train done\n",
      "307\t126348.69381532609\t298.5838317871094\t--------\t4.829404224037465\n",
      "Epoch:  308  Batch size:  500\n",
      "train done\n",
      "308\t126763.0890529321\t298.4828796386719\t--------\t4.8252721405872325\n",
      "Epoch:  309  Batch size:  500\n",
      "train done\n",
      "309\t127175.83102087514\t298.2254943847656\t--------\t4.817693793533915\n",
      "Epoch:  310  Batch size:  500\n",
      "train done\n",
      "310\t127586.55685280426\t297.6475524902344\t--------\t4.815916437644326\n",
      "Epoch:  311  Batch size:  500\n",
      "train done\n",
      "311\t127989.5949572341\t295.9300842285156\t--------\t4.814160782619076\n",
      "Epoch:  312  Batch size:  500\n",
      "train done\n",
      "312\t128379.20454374491\t296.8661193847656\t--------\t4.834343048938731\n",
      "Epoch:  313  Batch size:  500\n",
      "train done\n",
      "313\t128767.06983406725\t297.2402038574219\t--------\t4.83919575053684\n",
      "Epoch:  314  Batch size:  500\n",
      "train done\n",
      "314\t129147.43843799387\t300.3784484863281\t--------\t4.8565234297441515\n",
      "Epoch:  315  Batch size:  500\n",
      "train done\n",
      "315\t129525.90666096029\t300.2560119628906\t--------\t4.850095290716181\n",
      "Epoch:  316  Batch size:  500\n",
      "train done\n",
      "316\t129903.36113463505\t300.0667724609375\t--------\t4.841027846194104\n",
      "Epoch:  317  Batch size:  500\n",
      "train done\n",
      "317\t130293.09933862393\t301.35986328125\t--------\t4.861441459529307\n",
      "Epoch:  318  Batch size:  500\n",
      "train done\n",
      "318\t130703.9502064411\t298.9456787109375\t--------\t4.835497676617532\n",
      "Epoch:  319  Batch size:  500\n",
      "train done\n",
      "319\t131110.56963928626\t299.401123046875\t--------\t4.8463661048847015\n",
      "Epoch:  320  Batch size:  500\n",
      "train done\n",
      "320\t131519.47691814392\t298.2402648925781\t--------\t4.824604514443413\n",
      "Epoch:  321  Batch size:  500\n",
      "train done\n",
      "321\t131935.67908044928\t299.3285827636719\t--------\t4.834805892017006\n",
      "Epoch:  322  Batch size:  500\n",
      "train done\n",
      "322\t132352.68494104617\t298.18670654296875\t--------\t4.8217724381757705\n",
      "Epoch:  323  Batch size:  500\n",
      "train done\n",
      "323\t132773.80896200496\t300.00762939453125\t--------\t4.833607934604034\n",
      "Epoch:  324  Batch size:  500\n",
      "train done\n",
      "324\t133192.28552743397\t299.2452087402344\t--------\t4.838696887274473\n",
      "Epoch:  325  Batch size:  500\n",
      "train done\n",
      "325\t133613.14171363995\t299.517333984375\t--------\t4.85511346064615\n",
      "Epoch:  326  Batch size:  500\n",
      "train done\n",
      "326\t134036.09199537826\t298.3773498535156\t--------\t4.843220821485994\n",
      "Epoch:  327  Batch size:  500\n",
      "train done\n",
      "327\t134455.31998782489\t299.93133544921875\t--------\t4.85165472681878\n",
      "Epoch:  328  Batch size:  500\n",
      "train done\n",
      "328\t134879.81947162212\t297.99456787109375\t--------\t4.829018010766466\n",
      "Epoch:  329  Batch size:  500\n",
      "train done\n",
      "329\t135306.21352217696\t296.94195556640625\t--------\t4.831518407832193\n",
      "Epoch:  330  Batch size:  500\n",
      "train done\n",
      "330\t135733.00827910728\t296.9466857910156\t--------\t4.815796891860541\n",
      "Epoch:  331  Batch size:  500\n",
      "train done\n",
      "331\t136158.8661806651\t297.8191223144531\t--------\t4.8274372749117855\n",
      "Epoch:  332  Batch size:  500\n",
      "train done\n",
      "332\t136577.4870485121\t297.73388671875\t--------\t4.814657831518689\n",
      "Epoch:  333  Batch size:  500\n",
      "train done\n",
      "333\t137004.12051277212\t298.4136962890625\t--------\t4.82666351149754\n",
      "Epoch:  334  Batch size:  500\n",
      "train done\n",
      "334\t137423.67599828332\t298.16961669921875\t--------\t4.81457365122421\n",
      "Epoch:  335  Batch size:  500\n",
      "train done\n",
      "335\t137843.9913548252\t299.63104248046875\t--------\t4.842912816843276\n",
      "Epoch:  336  Batch size:  500\n",
      "train done\n",
      "336\t138272.30610070587\t298.0722351074219\t--------\t4.83582379909115\n",
      "Epoch:  337  Batch size:  500\n",
      "train done\n",
      "337\t138701.20456078113\t298.7646179199219\t--------\t4.8552006815704845\n",
      "Epoch:  338  Batch size:  500\n",
      "train done\n",
      "338\t139126.55711558112\t298.1020202636719\t--------\t4.843630266221188\n",
      "Epoch:  339  Batch size:  500\n",
      "train done\n",
      "339\t139542.90861793305\t299.8018798828125\t--------\t4.858616768009755\n",
      "Epoch:  340  Batch size:  500\n",
      "train done\n",
      "340\t139959.19766173814\t298.91290283203125\t--------\t4.847234859740537\n",
      "Epoch:  341  Batch size:  500\n",
      "train done\n",
      "341\t140386.7904505909\t296.998779296875\t--------\t4.824638993742717\n",
      "Epoch:  342  Batch size:  500\n",
      "train done\n",
      "342\t140809.15550008393\t298.864501953125\t--------\t4.842519087480577\n",
      "Epoch:  343  Batch size:  500\n",
      "train done\n",
      "343\t141234.01037008106\t297.34552001953125\t--------\t4.819281130627374\n",
      "Epoch:  344  Batch size:  500\n",
      "train done\n",
      "344\t141647.2723788421\t298.14111328125\t--------\t4.81926547494119\n",
      "Epoch:  345  Batch size:  500\n",
      "train done\n",
      "345\t142069.24229649105\t299.6640319824219\t--------\t4.834443557149139\n",
      "Epoch:  346  Batch size:  500\n",
      "train done\n",
      "346\t142484.51208016113\t300.4255065917969\t--------\t4.844140559412498\n",
      "Epoch:  347  Batch size:  500\n",
      "train done\n",
      "347\t142901.50391039602\t300.2325744628906\t--------\t4.859734638698852\n",
      "Epoch:  348  Batch size:  500\n",
      "train done\n",
      "348\t143329.95902487612\t299.8677978515625\t--------\t4.856597688285026\n",
      "Epoch:  349  Batch size:  500\n",
      "train done\n",
      "349\t143757.64791553305\t301.0534973144531\t--------\t4.871355407883449\n",
      "Epoch:  350  Batch size:  500\n",
      "train done\n",
      "350\t144177.9511388361\t298.03656005859375\t--------\t4.831191505895793\n",
      "Epoch:  351  Batch size:  500\n",
      "train done\n",
      "351\t144597.39098058012\t297.9372863769531\t--------\t4.8222057894712\n",
      "Epoch:  352  Batch size:  500\n",
      "train done\n",
      "352\t145018.95301505108\t300.51995849609375\t--------\t4.8534062651744865\n",
      "Epoch:  353  Batch size:  500\n",
      "train done\n",
      "353\t145440.1911832292\t299.99688720703125\t--------\t4.854007369067788\n",
      "Epoch:  354  Batch size:  500\n",
      "train done\n",
      "354\t145859.72583482717\t301.5152282714844\t--------\t4.876964248910134\n",
      "Epoch:  355  Batch size:  500\n",
      "train done\n",
      "355\t146281.3219548522\t298.35614013671875\t--------\t4.843730411255557\n",
      "Epoch:  356  Batch size:  500\n",
      "train done\n",
      "356\t146707.19489436713\t298.08197021484375\t--------\t4.829448729457118\n",
      "Epoch:  357  Batch size:  500\n",
      "train done\n",
      "357\t147131.12234561122\t298.1562194824219\t--------\t4.826870045530203\n",
      "Epoch:  358  Batch size:  500\n",
      "train done\n",
      "358\t147557.31507011293\t297.94635009765625\t--------\t4.839081208118417\n",
      "Epoch:  359  Batch size:  500\n",
      "train done\n",
      "359\t147981.8186917489\t299.4806213378906\t--------\t4.869139178197029\n",
      "Epoch:  360  Batch size:  500\n",
      "train done\n",
      "360\t148399.62430981104\t298.70977783203125\t--------\t4.857337221767362\n",
      "Epoch:  361  Batch size:  500\n",
      "train done\n",
      "361\t148822.67152023525\t298.3933410644531\t--------\t4.838363100842217\n",
      "Epoch:  362  Batch size:  500\n",
      "train done\n",
      "362\t149246.4541426769\t296.706787109375\t--------\t4.821008446793529\n",
      "Epoch:  363  Batch size:  500\n",
      "train done\n",
      "363\t149672.91189342202\t296.3010559082031\t--------\t4.823268519280365\n",
      "Epoch:  364  Batch size:  500\n",
      "train done\n",
      "364\t150099.85895705293\t297.311279296875\t--------\t4.827494443608911\n",
      "Epoch:  365  Batch size:  500\n",
      "train done\n",
      "365\t150525.56937093823\t296.8388366699219\t--------\t4.824161146975354\n",
      "Epoch:  366  Batch size:  500\n",
      "train done\n",
      "366\t150951.10447020805\t298.3236389160156\t--------\t4.831221284307827\n",
      "Epoch:  367  Batch size:  500\n",
      "train done\n",
      "367\t151377.93081164197\t296.733642578125\t--------\t4.8150755591629615\n",
      "Epoch:  368  Batch size:  500\n",
      "train done\n",
      "368\t151808.95793821127\t298.1190185546875\t--------\t4.811674680088106\n",
      "Epoch:  369  Batch size:  500\n",
      "train done\n",
      "369\t152233.87050222303\t297.1966857910156\t--------\t4.807989591819806\n",
      "Epoch:  370  Batch size:  500\n",
      "train done\n",
      "370\t152661.53298029513\t297.7102355957031\t--------\t4.816259140941978\n",
      "Epoch:  371  Batch size:  500\n",
      "train done\n",
      "371\t153087.496678225\t296.0052490234375\t--------\t4.8149048998079245\n",
      "Epoch:  372  Batch size:  500\n",
      "train done\n",
      "372\t153515.71036503208\t295.6916198730469\t--------\t4.821851745099652\n",
      "Epoch:  373  Batch size:  500\n",
      "train done\n",
      "373\t153934.99931509723\t296.72674560546875\t--------\t4.833574890136719\n",
      "Epoch:  374  Batch size:  500\n",
      "train done\n",
      "374\t154361.82012288808\t298.28363037109375\t--------\t4.845493448499816\n",
      "Epoch:  375  Batch size:  500\n",
      "train done\n",
      "375\t154778.4450582473\t298.7437438964844\t--------\t4.834482021437166\n",
      "Epoch:  376  Batch size:  500\n",
      "train done\n",
      "376\t155205.56822741101\t296.7499084472656\t--------\t4.817263610165422\n",
      "Epoch:  377  Batch size:  500\n",
      "train done\n",
      "377\t155626.34912864608\t297.6763610839844\t--------\t4.824255911305464\n",
      "Epoch:  378  Batch size:  500\n"
     ]
    },
    {
     "name": "stdout",
     "output_type": "stream",
     "text": [
      "train done\n",
      "378\t156049.59205080918\t298.765625\t--------\t4.829225817264113\n",
      "Epoch:  379  Batch size:  500\n",
      "train done\n",
      "379\t156475.00304886908\t297.70599365234375\t--------\t4.815278034694946\n",
      "Epoch:  380  Batch size:  500\n",
      "train done\n",
      "380\t156897.22507888288\t299.1046142578125\t--------\t4.829071169352663\n",
      "Epoch:  381  Batch size:  500\n",
      "train done\n",
      "381\t157323.75269415812\t297.00946044921875\t--------\t4.805070115063072\n",
      "Epoch:  382  Batch size:  500\n",
      "train done\n",
      "382\t157740.98153705313\t298.41015625\t--------\t4.819620207559996\n",
      "Epoch:  383  Batch size:  500\n",
      "train done\n",
      "383\t158167.50194270513\t299.1588134765625\t--------\t4.834865231171498\n",
      "Epoch:  384  Batch size:  500\n",
      "train done\n",
      "384\t158599.28749964223\t300.6405944824219\t--------\t4.855583851513941\n",
      "Epoch:  385  Batch size:  500\n",
      "train done\n",
      "385\t159028.7416510831\t300.4509582519531\t--------\t4.858445361564172\n",
      "Epoch:  386  Batch size:  500\n",
      "train done\n",
      "386\t159459.2891143791\t301.9368896484375\t--------\t4.876810266821424\n",
      "Epoch:  387  Batch size:  500\n",
      "train done\n",
      "387\t159890.227021517\t301.0083923339844\t--------\t4.865342275714347\n",
      "Epoch:  388  Batch size:  500\n",
      "train done\n",
      "388\t160324.17181963497\t304.2982177734375\t--------\t4.924498821785437\n",
      "Epoch:  389  Batch size:  500\n",
      "train done\n",
      "389\t160749.49747246527\t299.6495361328125\t--------\t4.860284668474566\n",
      "Epoch:  390  Batch size:  500\n",
      "train done\n",
      "390\t161181.09389992827\t298.4488220214844\t--------\t4.841297160111738\n",
      "Epoch:  391  Batch size:  500\n",
      "train done\n",
      "391\t161611.21022393298\t298.3909606933594\t--------\t4.824532162323842\n",
      "Epoch:  392  Batch size:  500\n",
      "train done\n",
      "392\t162039.58190182527\t298.408447265625\t--------\t4.824127621139612\n",
      "Epoch:  393  Batch size:  500\n",
      "train done\n",
      "393\t162473.4152118743\t298.3349304199219\t--------\t4.846891390131323\n",
      "Epoch:  394  Batch size:  500\n",
      "train done\n",
      "394\t162910.76841766504\t298.8355407714844\t--------\t4.867491047727469\n",
      "Epoch:  395  Batch size:  500\n",
      "train done\n",
      "395\t163347.01831183326\t302.1528015136719\t--------\t4.9065099964457985\n",
      "Epoch:  396  Batch size:  500\n",
      "train done\n",
      "396\t163779.25859852205\t300.138916015625\t--------\t4.850251608326949\n",
      "Epoch:  397  Batch size:  500\n",
      "train done\n",
      "397\t164208.35656243213\t300.3529052734375\t--------\t4.84712497251732\n",
      "Epoch:  398  Batch size:  500\n",
      "train done\n",
      "398\t164641.56212798296\t299.4557189941406\t--------\t4.856948488182785\n",
      "Epoch:  399  Batch size:  500\n",
      "train done\n",
      "399\t165073.5911126521\t299.3087463378906\t--------\t4.857627920245598\n",
      "Epoch:  400  Batch size:  500\n",
      "train done\n",
      "400\t165504.83993265615\t299.68902587890625\t--------\t4.855440393943154\n",
      "Epoch:  401  Batch size:  500\n",
      "train done\n",
      "401\t165934.3594716189\t301.963134765625\t--------\t4.8858124077728435\n",
      "Epoch:  402  Batch size:  500\n",
      "train done\n",
      "402\t166377.53613980697\t299.7207336425781\t--------\t4.862327946784088\n",
      "Epoch:  403  Batch size:  500\n",
      "train done\n",
      "403\t166813.8832371391\t298.9464416503906\t--------\t4.859190381803565\n",
      "Epoch:  404  Batch size:  500\n",
      "train done\n",
      "404\t167241.99338101107\t298.1621398925781\t--------\t4.856276681299367\n",
      "Epoch:  405  Batch size:  500\n",
      "train done\n",
      "405\t167677.37878274987\t299.5205078125\t--------\t4.878982921115601\n",
      "Epoch:  406  Batch size:  500\n",
      "train done\n",
      "406\t168107.83474924904\t297.9252624511719\t--------\t4.846359698047954\n",
      "Epoch:  407  Batch size:  500\n",
      "train done\n",
      "407\t168547.30776625522\t297.2394714355469\t--------\t4.835217452412811\n",
      "Epoch:  408  Batch size:  500\n",
      "train done\n",
      "408\t168994.04372259625\t297.0726318359375\t--------\t4.83381379387787\n",
      "Epoch:  409  Batch size:  500\n",
      "train done\n",
      "409\t169433.9725063711\t297.7665100097656\t--------\t4.8356994374312094\n",
      "Epoch:  410  Batch size:  500\n",
      "train done\n",
      "410\t169868.35723724426\t298.3031005859375\t--------\t4.850298411163836\n",
      "Epoch:  411  Batch size:  500\n",
      "train done\n",
      "411\t170298.73661412694\t299.10821533203125\t--------\t4.870133247333338\n",
      "Epoch:  412  Batch size:  500\n",
      "train done\n",
      "412\t170734.99726333306\t299.02911376953125\t--------\t4.873962209796378\n",
      "Epoch:  413  Batch size:  500\n",
      "train done\n",
      "413\t171173.4642961102\t296.33392333984375\t--------\t4.837243758396548\n",
      "Epoch:  414  Batch size:  500\n",
      "train done\n",
      "414\t171612.04660029686\t296.4399108886719\t--------\t4.830217910513693\n",
      "Epoch:  415  Batch size:  500\n",
      "train done\n",
      "415\t172055.13822264387\t297.6760559082031\t--------\t4.820351725035609\n",
      "Epoch:  416  Batch size:  500\n",
      "train done\n",
      "416\t172491.9577979173\t297.6850280761719\t--------\t4.822702197670278\n",
      "Epoch:  417  Batch size:  500\n",
      "train done\n",
      "417\t172930.9083844463\t297.6553649902344\t--------\t4.841322916947676\n",
      "Epoch:  418  Batch size:  500\n",
      "train done\n",
      "418\t173368.21261279727\t298.76641845703125\t--------\t4.864464379073506\n",
      "Epoch:  419  Batch size:  500\n",
      "train done\n",
      "419\t173815.214945968\t300.2574462890625\t--------\t4.87172585924686\n",
      "Epoch:  420  Batch size:  500\n",
      "train done\n",
      "420\t174258.48707202892\t299.7225036621094\t--------\t4.8580483782857815\n",
      "Epoch:  421  Batch size:  500\n",
      "train done\n"
     ]
    },
    {
     "ename": "KeyboardInterrupt",
     "evalue": "",
     "output_type": "error",
     "traceback": [
      "\u001b[0;31m---------------------------------------------------------------------------\u001b[0m",
      "\u001b[0;31mKeyboardInterrupt\u001b[0m                         Traceback (most recent call last)",
      "Input \u001b[0;32mIn [85]\u001b[0m, in \u001b[0;36m<cell line: 51>\u001b[0;34m()\u001b[0m\n\u001b[1;32m     86\u001b[0m   \u001b[38;5;28;01mfor\u001b[39;00m i_test \u001b[38;5;129;01min\u001b[39;00m \u001b[38;5;28mrange\u001b[39m(\u001b[38;5;241m0\u001b[39m, \u001b[38;5;28mlen\u001b[39m(dataset_test), \u001b[38;5;241m500\u001b[39m):\n\u001b[1;32m     87\u001b[0m     \u001b[38;5;66;03m# print('test', i_test)\u001b[39;00m\n\u001b[1;32m     88\u001b[0m     data_test_batch \u001b[38;5;241m=\u001b[39m dataset_test[i_test:i_test\u001b[38;5;241m+\u001b[39m\u001b[38;5;241m500\u001b[39m]\n\u001b[0;32m---> 89\u001b[0m     prediction_test \u001b[38;5;241m=\u001b[39m \u001b[43mtester\u001b[49m\u001b[38;5;241;43m.\u001b[39;49m\u001b[43mtest_regressor\u001b[49m\u001b[43m(\u001b[49m\u001b[43mdata_test_batch\u001b[49m\u001b[43m,\u001b[49m\u001b[43m \u001b[49m\u001b[43mfeatures_test\u001b[49m\u001b[43m[\u001b[49m\u001b[43mi_test\u001b[49m\u001b[43m:\u001b[49m\u001b[43mi_test\u001b[49m\u001b[38;5;241;43m+\u001b[39;49m\u001b[38;5;241;43m500\u001b[39;49m\u001b[43m]\u001b[49m\u001b[43m,\u001b[49m\u001b[43m \u001b[49m\u001b[43madj\u001b[49m\u001b[38;5;241;43m.\u001b[39;49m\u001b[43mtodense\u001b[49m\u001b[43m(\u001b[49m\u001b[43m)\u001b[49m\u001b[43m)\u001b[49m\n\u001b[1;32m     90\u001b[0m     test_mse \u001b[38;5;241m+\u001b[39m\u001b[38;5;241m=\u001b[39m prediction_test\n\u001b[1;32m     92\u001b[0m time \u001b[38;5;241m=\u001b[39m timeit\u001b[38;5;241m.\u001b[39mdefault_timer() \u001b[38;5;241m-\u001b[39m start\n",
      "Input \u001b[0;32mIn [56]\u001b[0m, in \u001b[0;36mTester.test_regressor\u001b[0;34m(self, dataset, x, adj)\u001b[0m\n\u001b[1;32m    369\u001b[0m SE \u001b[38;5;241m=\u001b[39m \u001b[38;5;241m0\u001b[39m\n\u001b[1;32m    370\u001b[0m \u001b[38;5;66;03m# data_batch = list(zip(*dataset[i:i+50]))\u001b[39;00m\n\u001b[0;32m--> 371\u001b[0m predicted_values, correct_values \u001b[38;5;241m=\u001b[39m \u001b[38;5;28;43mself\u001b[39;49m\u001b[38;5;241;43m.\u001b[39;49m\u001b[43mmodel\u001b[49m\u001b[38;5;241;43m.\u001b[39;49m\u001b[43mforward_regressor\u001b[49m\u001b[43m(\u001b[49m\n\u001b[1;32m    372\u001b[0m \u001b[43m                                    \u001b[49m\u001b[43mdata_batch\u001b[49m\u001b[43m,\u001b[49m\u001b[43m \u001b[49m\u001b[43mx\u001b[49m\u001b[43m,\u001b[49m\u001b[43m \u001b[49m\u001b[43madj\u001b[49m\u001b[43m,\u001b[49m\u001b[43m \u001b[49m\u001b[43mtrain\u001b[49m\u001b[38;5;241;43m=\u001b[39;49m\u001b[38;5;28;43;01mFalse\u001b[39;49;00m\u001b[43m)\u001b[49m\n\u001b[1;32m    373\u001b[0m SE \u001b[38;5;241m+\u001b[39m\u001b[38;5;241m=\u001b[39m np\u001b[38;5;241m.\u001b[39msquare(np\u001b[38;5;241m.\u001b[39msubtract(correct_values,predicted_values))\u001b[38;5;241m.\u001b[39mmean()\n\u001b[1;32m    374\u001b[0m MSE \u001b[38;5;241m=\u001b[39m SE \u001b[38;5;241m/\u001b[39m N  \u001b[38;5;66;03m# mean absolute error.\u001b[39;00m\n",
      "Input \u001b[0;32mIn [56]\u001b[0m, in \u001b[0;36mMolecularGraphNeuralNetwork.forward_regressor\u001b[0;34m(self, data_batch, x, adj, train)\u001b[0m\n\u001b[1;32m    313\u001b[0m \u001b[38;5;28;01mwith\u001b[39;00m torch\u001b[38;5;241m.\u001b[39mno_grad():\n\u001b[1;32m    314\u001b[0m     molecular_vectors_d1 \u001b[38;5;241m=\u001b[39m \u001b[38;5;28mself\u001b[39m\u001b[38;5;241m.\u001b[39mgnn(inputs_d1)\n\u001b[0;32m--> 315\u001b[0m     molecular_vectors_d2 \u001b[38;5;241m=\u001b[39m \u001b[38;5;28;43mself\u001b[39;49m\u001b[38;5;241;43m.\u001b[39;49m\u001b[43mgnn\u001b[49m\u001b[43m(\u001b[49m\u001b[43minputs_d2\u001b[49m\u001b[43m)\u001b[49m\n\u001b[1;32m    316\u001b[0m     x \u001b[38;5;241m=\u001b[39m F\u001b[38;5;241m.\u001b[39mrelu(\u001b[38;5;28mself\u001b[39m\u001b[38;5;241m.\u001b[39mgc1(x, adj))\n\u001b[1;32m    317\u001b[0m     x \u001b[38;5;241m=\u001b[39m F\u001b[38;5;241m.\u001b[39mdropout(x, \u001b[38;5;28mself\u001b[39m\u001b[38;5;241m.\u001b[39mdropout, training\u001b[38;5;241m=\u001b[39m\u001b[38;5;28mself\u001b[39m\u001b[38;5;241m.\u001b[39mtraining)\n",
      "Input \u001b[0;32mIn [56]\u001b[0m, in \u001b[0;36mMolecularGraphNeuralNetwork.gnn\u001b[0;34m(self, inputs)\u001b[0m\n\u001b[1;32m    244\u001b[0m fingerprints, adjacencies, molecular_sizes \u001b[38;5;241m=\u001b[39m inputs\n\u001b[1;32m    245\u001b[0m fingerprints \u001b[38;5;241m=\u001b[39m torch\u001b[38;5;241m.\u001b[39mcat(fingerprints)\n\u001b[0;32m--> 246\u001b[0m adjacencies \u001b[38;5;241m=\u001b[39m \u001b[38;5;28;43mself\u001b[39;49m\u001b[38;5;241;43m.\u001b[39;49m\u001b[43mpad\u001b[49m\u001b[43m(\u001b[49m\u001b[43madjacencies\u001b[49m\u001b[43m,\u001b[49m\u001b[43m \u001b[49m\u001b[38;5;241;43m0\u001b[39;49m\u001b[43m)\u001b[49m\n\u001b[1;32m    248\u001b[0m \u001b[38;5;124;03m\"\"\"GNN layer (update the fingerprint vectors).\"\"\"\u001b[39;00m\n\u001b[1;32m    249\u001b[0m fingerprint_vectors \u001b[38;5;241m=\u001b[39m \u001b[38;5;28mself\u001b[39m\u001b[38;5;241m.\u001b[39membed_fingerprint(fingerprints)\n",
      "Input \u001b[0;32mIn [56]\u001b[0m, in \u001b[0;36mMolecularGraphNeuralNetwork.pad\u001b[0;34m(self, matrices, pad_value)\u001b[0m\n\u001b[1;32m    217\u001b[0m shapes \u001b[38;5;241m=\u001b[39m [m\u001b[38;5;241m.\u001b[39mshape \u001b[38;5;28;01mfor\u001b[39;00m m \u001b[38;5;129;01min\u001b[39;00m matrices]\n\u001b[1;32m    218\u001b[0m M, N \u001b[38;5;241m=\u001b[39m \u001b[38;5;28msum\u001b[39m([s[\u001b[38;5;241m0\u001b[39m] \u001b[38;5;28;01mfor\u001b[39;00m s \u001b[38;5;129;01min\u001b[39;00m shapes]), \u001b[38;5;28msum\u001b[39m([s[\u001b[38;5;241m1\u001b[39m] \u001b[38;5;28;01mfor\u001b[39;00m s \u001b[38;5;129;01min\u001b[39;00m shapes])\n\u001b[0;32m--> 219\u001b[0m zeros \u001b[38;5;241m=\u001b[39m \u001b[43mtorch\u001b[49m\u001b[38;5;241;43m.\u001b[39;49m\u001b[43mFloatTensor\u001b[49m\u001b[43m(\u001b[49m\u001b[43mnp\u001b[49m\u001b[38;5;241;43m.\u001b[39;49m\u001b[43mzeros\u001b[49m\u001b[43m(\u001b[49m\u001b[43m(\u001b[49m\u001b[43mM\u001b[49m\u001b[43m,\u001b[49m\u001b[43m \u001b[49m\u001b[43mN\u001b[49m\u001b[43m)\u001b[49m\u001b[43m)\u001b[49m\u001b[43m)\u001b[49m\u001b[38;5;241m.\u001b[39mto(device)\n\u001b[1;32m    220\u001b[0m pad_matrices \u001b[38;5;241m=\u001b[39m pad_value \u001b[38;5;241m+\u001b[39m zeros\n\u001b[1;32m    221\u001b[0m i, j \u001b[38;5;241m=\u001b[39m \u001b[38;5;241m0\u001b[39m, \u001b[38;5;241m0\u001b[39m\n",
      "\u001b[0;31mKeyboardInterrupt\u001b[0m: "
     ]
    }
   ],
   "source": [
    "### REST-NON-TRAIN VALUES AS VALIDATION VALUES, BASED ALGORITHM:\n",
    "### Use tanh as activation functions to predict negative values\n",
    "#### NON-SCALED PREDICTIONS (Prof said not to scale) and run for at least 100 epochs to converge\n",
    "\n",
    "\n",
    "################################################################## RUN MODELLL\n",
    "\n",
    "radius = 3\n",
    "dim = 50\n",
    "\n",
    "print('Creating a model.')\n",
    "torch.manual_seed(1234)\n",
    "\n",
    "\n",
    "model = MolecularGraphNeuralNetwork(\n",
    "        N_fingerprints, dim, layer_hidden, layer_output, nfeat=features_train.shape[1],nhid=256,nclass=1,dropout=0.2 ).to(device)\n",
    "trainer = Trainer(model)\n",
    "tester = Tester(model)\n",
    "print('# of model parameters:',\n",
    "      sum([np.prod(p.size()) for p in model.parameters()]))\n",
    "print('-'*100)\n",
    "\n",
    "file_result = train_data_path + '/setting1_run.txt'\n",
    "\n",
    "if task == 'regression':\n",
    "    result = 'Epoch\\tTime(sec)\\tLoss_train\\tMAE_dev\\tMAE_test'\n",
    "\n",
    "with open(file_result, 'w') as f:\n",
    "    f.write(result + '\\n')\n",
    "\n",
    "print('Start training.')\n",
    "print('The result is saved in the output directory every epoch!')\n",
    "\n",
    "all_loss_train = []\n",
    "all_valid_train = []\n",
    "\n",
    "# np.random.seed(1234)\n",
    "\n",
    "start = timeit.default_timer()\n",
    "\n",
    "# BATCH THIS HERE AND ADJ MATRIX CALC EVERY TIME\n",
    "\n",
    "# epoch_batch_size = int( len(dataset_train)/iteration )\n",
    "# epoch_batch_size = 1000\n",
    "epochs = 1000\n",
    "\n",
    "epoch_batch_size = 500\n",
    "iterations_per_epoch = int(len(dataset_train)/epoch_batch_size)\n",
    "print(epochs, iterations_per_epoch)\n",
    "\n",
    "for epoch in range(epochs):\n",
    "    \n",
    "    batch_start_nd = 0\n",
    "    batch_end_nd = epoch_batch_size\n",
    "    print('Epoch: ', epoch, ' Batch size: ', epoch_batch_size)\n",
    "    \n",
    "    for iteration in range(iterations_per_epoch):\n",
    "        # Dont decay lr\n",
    "        # if epoch % decay_interval == 0:\n",
    "        #     trainer.optimizer.param_groups[0]['lr'] *= lr_decay\n",
    "\n",
    "        ds_train = dataset_train[batch_start_nd:batch_end_nd]\n",
    "        fs_train = features_train[batch_start_nd:batch_end_nd]\n",
    "        \n",
    "        loss_train = trainer.train(ds_train, fs_train, adj.todense(), train=True)\n",
    "        \n",
    "        batch_start_nd = batch_end_nd\n",
    "        batch_end_nd = batch_start_nd + epoch_batch_size\n",
    "        if(iteration == iterations_per_epoch - 1):\n",
    "          batch_start_nd = batch_end_nd\n",
    "          batch_end_nd = len(dataset_train)\n",
    "        \n",
    "        \n",
    "    if task == 'regression':\n",
    "      # do b-proc here\n",
    "      valid_mse = '--------'\n",
    "#       for i_valid in range(batch_end_nd, len(dataset_train), 1000):\n",
    "#         # print('valid', i_valid)\n",
    "#         data_dev_batch = dataset_train[i_valid:i_valid+1000]\n",
    "#         prediction_dev = tester.test_regressor(data_dev_batch, features_train[i_valid:i_valid+1000], adj.todense())\n",
    "#         valid_mse += prediction_dev\n",
    "\n",
    "      print('train done')\n",
    "\n",
    "      test_mse = 0\n",
    "      for i_test in range(0, len(dataset_test), 500):\n",
    "        # print('test', i_test)\n",
    "        data_test_batch = dataset_test[i_test:i_test+500]\n",
    "        prediction_test = tester.test_regressor(data_test_batch, features_test[i_test:i_test+500], adj.todense())\n",
    "        test_mse += prediction_test\n",
    "\n",
    "    time = timeit.default_timer() - start\n",
    "\n",
    "    if epoch == 0:\n",
    "        minutes = time * iteration / 60\n",
    "        hours = int(minutes / 60)\n",
    "        minutes = int(minutes - 60 * hours)\n",
    "        print('The training will finish in about',\n",
    "              hours, 'hours', minutes, 'minutes.')\n",
    "        print('-'*100)\n",
    "        print(result)\n",
    "\n",
    "    result = '\\t'.join(map(str, [epoch, time, loss_train,\n",
    "                                 valid_mse, test_mse]))\n",
    "    # tester.save_result(result, file_result)\n",
    "\n",
    "    print(result)\n",
    "    all_loss_train.append(loss_train)\n",
    "    all_valid_train.append(valid_mse)\n",
    "    "
   ]
  },
  {
   "cell_type": "code",
   "execution_count": 86,
   "metadata": {},
   "outputs": [
    {
     "data": {
      "text/plain": [
       "[<matplotlib.lines.Line2D at 0x7f47d584a1c0>]"
      ]
     },
     "execution_count": 86,
     "metadata": {},
     "output_type": "execute_result"
    },
    {
     "data": {
      "image/png": "[encoded data removed]",
      "text/plain": [
       "<Figure size 432x288 with 1 Axes>"
      ]
     },
     "metadata": {
      "image/png": {
       "height": 261,
       "width": 385
      },
      "needs_background": "light"
     },
     "output_type": "display_data"
    }
   ],
   "source": [
    "# Plot epoch vs train-error curve\n",
    "plt.plot(range(421), all_loss_train)\n"
   ]
  },
  {
   "cell_type": "code",
   "execution_count": 62,
   "metadata": {},
   "outputs": [
    {
     "data": {
      "text/plain": [
       "[<matplotlib.lines.Line2D at 0x7f47d7f66c40>]"
      ]
     },
     "execution_count": 62,
     "metadata": {},
     "output_type": "execute_result"
    },
    {
     "data": {
      "image/png": "[encoded data removed]",
      "text/plain": [
       "<Figure size 432x288 with 1 Axes>"
      ]
     },
     "metadata": {
      "image/png": {
       "height": 261,
       "width": 389
      },
      "needs_background": "light"
     },
     "output_type": "display_data"
    }
   ],
   "source": [
    "# Plot epoch vs train-error curve\n",
    "plt.plot(range(138), all_loss_train)\n"
   ]
  },
  {
   "cell_type": "code",
   "execution_count": 46,
   "metadata": {},
   "outputs": [],
   "source": [
    "# Plot epoch vs train-error curve\n"
   ]
  },
  {
   "cell_type": "code",
   "execution_count": null,
   "metadata": {},
   "outputs": [],
   "source": []
  },
  {
   "cell_type": "code",
   "execution_count": 87,
   "metadata": {},
   "outputs": [],
   "source": [
    "data_batch = list(zip(*dataset_test[0:100]))\n",
    "preds, actual = model.forward_regressor(data_batch, features_test[:100], adj.todense(), train = False)"
   ]
  },
  {
   "cell_type": "code",
   "execution_count": 92,
   "metadata": {},
   "outputs": [
    {
     "data": {
      "text/plain": [
       "array([  8.319962  ,  21.294733  , -42.1914    ,  -0.99427366,\n",
       "        16.753506  ], dtype=float32)"
      ]
     },
     "execution_count": 92,
     "metadata": {},
     "output_type": "execute_result"
    }
   ],
   "source": [
    "actual[:5]"
   ]
  },
  {
   "cell_type": "code",
   "execution_count": 93,
   "metadata": {},
   "outputs": [
    {
     "data": {
      "text/plain": [
       "array([ -2.41785  ,  16.924744 , -14.125718 ,   5.1392064,  -7.0122995],\n",
       "      dtype=float32)"
      ]
     },
     "execution_count": 93,
     "metadata": {},
     "output_type": "execute_result"
    }
   ],
   "source": [
    "preds[:5]"
   ]
  },
  {
   "cell_type": "code",
   "execution_count": 94,
   "metadata": {},
   "outputs": [
    {
     "name": "stdout",
     "output_type": "stream",
     "text": [
      "In scaled version, MSE is:  180.6732 0.2338814928000149\n"
     ]
    }
   ],
   "source": [
    "# check correlation coeff\n",
    "from sklearn.metrics import r2_score, mean_squared_error as mse_error\n",
    "r2_score(actual, preds)\n",
    "\n",
    "print('In scaled version, MSE is: ', mse_error(actual, preds), r2_score(actual, preds))\n"
   ]
  },
  {
   "cell_type": "code",
   "execution_count": 103,
   "metadata": {},
   "outputs": [
    {
     "data": {
      "image/png": "[encoded data removed]",
      "text/plain": [
       "<Figure size 432x288 with 1 Axes>"
      ]
     },
     "metadata": {
      "image/png": {
       "height": 287,
       "width": 416
      },
      "needs_background": "light"
     },
     "output_type": "display_data"
    }
   ],
   "source": [
    "fig = plt.figure()\n",
    "plt.plot(range(len(actual)), actual, color = 'blue', label = 'actual')\n",
    "plt.plot(range(len(preds)), preds, color = 'red', label='predictions')\n",
    "plt.ylabel('Syngery scores')\n",
    "plt.title('Synergy scores - Prediction vs Actual')\n",
    "fig.legend(loc='lower right')\n",
    "plt.show()\n",
    "\n"
   ]
  },
  {
   "cell_type": "code",
   "execution_count": 50,
   "metadata": {},
   "outputs": [],
   "source": [
    "### This is good model\n",
    "# torch.save(model, 'Trained Model GNN-GCN_100epochs_non-scaled_tanh-actfn/model')"
   ]
  },
  {
   "cell_type": "code",
   "execution_count": null,
   "metadata": {},
   "outputs": [],
   "source": []
  },
  {
   "cell_type": "code",
   "execution_count": 59,
   "metadata": {},
   "outputs": [
    {
     "name": "stdout",
     "output_type": "stream",
     "text": [
      "Creating a model.\n",
      "# of model parameters: 2312301\n",
      "----------------------------------------------------------------------------------------------------\n",
      "Start training.\n",
      "The result is saved in the output directory every epoch!\n",
      "400 30\n",
      "Epoch:  0  Batch size:  500\n",
      "train done\n",
      "The training will finish in about 2 hours 48 minutes.\n",
      "----------------------------------------------------------------------------------------------------\n",
      "Epoch\tTime(sec)\tLoss_train\tMAE_dev\tMAE_test\n",
      "0\t347.9992331760004\t488.6141357421875\t--------\t0\n",
      "Epoch:  1  Batch size:  500\n",
      "train done\n",
      "1\t696.4051312641241\t425.5480041503906\t--------\t0\n",
      "Epoch:  2  Batch size:  500\n",
      "train done\n",
      "2\t1034.09450315102\t426.2303161621094\t--------\t0\n",
      "Epoch:  3  Batch size:  500\n",
      "train done\n",
      "3\t1379.1659894511104\t423.0334167480469\t--------\t0\n",
      "Epoch:  4  Batch size:  500\n",
      "train done\n",
      "4\t1725.5618353649043\t389.6933288574219\t--------\t0\n",
      "Epoch:  5  Batch size:  500\n",
      "train done\n",
      "5\t2075.929360694019\t342.5058898925781\t--------\t0\n",
      "Epoch:  6  Batch size:  500\n",
      "train done\n",
      "6\t2432.1382400391158\t344.64471435546875\t--------\t0\n",
      "Epoch:  7  Batch size:  500\n",
      "train done\n",
      "7\t2793.6844466940966\t337.3428649902344\t--------\t0\n",
      "Epoch:  8  Batch size:  500\n",
      "train done\n",
      "8\t3146.162991096033\t335.0464782714844\t--------\t0\n",
      "Epoch:  9  Batch size:  500\n",
      "train done\n",
      "9\t3487.4982970119454\t337.84246826171875\t--------\t0\n",
      "Epoch:  10  Batch size:  500\n",
      "train done\n",
      "10\t3830.5387123299297\t340.6263732910156\t--------\t0\n",
      "Epoch:  11  Batch size:  500\n",
      "train done\n",
      "11\t4170.879842400085\t340.41473388671875\t--------\t0\n",
      "Epoch:  12  Batch size:  500\n",
      "train done\n",
      "12\t4509.371724016033\t339.2366027832031\t--------\t0\n",
      "Epoch:  13  Batch size:  500\n",
      "train done\n",
      "13\t4846.06196554401\t338.7544860839844\t--------\t0\n",
      "Epoch:  14  Batch size:  500\n",
      "train done\n",
      "14\t5181.824164445978\t337.56292724609375\t--------\t0\n",
      "Epoch:  15  Batch size:  500\n",
      "train done\n",
      "15\t5524.099973262055\t336.8363037109375\t--------\t0\n",
      "Epoch:  16  Batch size:  500\n",
      "train done\n",
      "16\t5862.0362728280015\t335.6271667480469\t--------\t0\n",
      "Epoch:  17  Batch size:  500\n",
      "train done\n",
      "17\t6216.944382786052\t334.44757080078125\t--------\t0\n",
      "Epoch:  18  Batch size:  500\n",
      "train done\n",
      "18\t6599.1951765469275\t333.5707092285156\t--------\t0\n",
      "Epoch:  19  Batch size:  500\n",
      "train done\n",
      "19\t6974.423699270934\t332.9764709472656\t--------\t0\n",
      "Epoch:  20  Batch size:  500\n",
      "train done\n",
      "20\t7330.736836079042\t332.5583190917969\t--------\t0\n",
      "Epoch:  21  Batch size:  500\n",
      "train done\n",
      "21\t7693.500066536944\t332.70550537109375\t--------\t0\n",
      "Epoch:  22  Batch size:  500\n",
      "train done\n",
      "22\t8053.693662239937\t332.8149719238281\t--------\t0\n",
      "Epoch:  23  Batch size:  500\n",
      "train done\n",
      "23\t8409.306219102116\t332.593505859375\t--------\t0\n",
      "Epoch:  24  Batch size:  500\n",
      "train done\n",
      "24\t8770.576428422937\t332.5700378417969\t--------\t0\n",
      "Epoch:  25  Batch size:  500\n",
      "train done\n",
      "25\t9130.284607715905\t332.26318359375\t--------\t0\n",
      "Epoch:  26  Batch size:  500\n",
      "train done\n",
      "26\t9487.50429187296\t332.06695556640625\t--------\t0\n",
      "Epoch:  27  Batch size:  500\n",
      "train done\n",
      "27\t9842.57036810508\t331.6796875\t--------\t0\n",
      "Epoch:  28  Batch size:  500\n",
      "train done\n",
      "28\t10205.084302249132\t331.6416320800781\t--------\t0\n",
      "Epoch:  29  Batch size:  500\n",
      "train done\n",
      "29\t10563.299225240014\t330.9657287597656\t--------\t0\n",
      "Epoch:  30  Batch size:  500\n",
      "train done\n",
      "30\t10916.08895357605\t330.527099609375\t--------\t0\n",
      "Epoch:  31  Batch size:  500\n",
      "train done\n",
      "31\t11276.959922661074\t330.8434143066406\t--------\t0\n",
      "Epoch:  32  Batch size:  500\n",
      "train done\n",
      "32\t11634.891911500134\t330.0837707519531\t--------\t0\n",
      "Epoch:  33  Batch size:  500\n",
      "train done\n",
      "33\t11996.982023244957\t330.5397644042969\t--------\t0\n",
      "Epoch:  34  Batch size:  500\n",
      "train done\n",
      "34\t12356.132991996128\t329.38055419921875\t--------\t0\n",
      "Epoch:  35  Batch size:  500\n",
      "train done\n",
      "35\t12712.711917261127\t329.46356201171875\t--------\t0\n",
      "Epoch:  36  Batch size:  500\n",
      "train done\n",
      "36\t13065.564314021962\t328.98602294921875\t--------\t0\n",
      "Epoch:  37  Batch size:  500\n",
      "train done\n",
      "37\t13425.864474703092\t328.3219909667969\t--------\t0\n",
      "Epoch:  38  Batch size:  500\n",
      "train done\n",
      "38\t13781.14437450911\t327.7819519042969\t--------\t0\n",
      "Epoch:  39  Batch size:  500\n",
      "train done\n",
      "39\t14134.94846109813\t328.1968078613281\t--------\t0\n",
      "Epoch:  40  Batch size:  500\n",
      "train done\n",
      "40\t14488.48624621611\t327.057861328125\t--------\t0\n",
      "Epoch:  41  Batch size:  500\n",
      "train done\n",
      "41\t14854.635464238003\t327.4647521972656\t--------\t0\n",
      "Epoch:  42  Batch size:  500\n",
      "train done\n",
      "42\t15217.604200426955\t326.6523742675781\t--------\t0\n",
      "Epoch:  43  Batch size:  500\n",
      "train done\n",
      "43\t15580.674771221122\t326.2568359375\t--------\t0\n",
      "Epoch:  44  Batch size:  500\n",
      "train done\n",
      "44\t15935.249594347086\t325.93267822265625\t--------\t0\n",
      "Epoch:  45  Batch size:  500\n",
      "train done\n",
      "45\t16297.838424171088\t325.369384765625\t--------\t0\n",
      "Epoch:  46  Batch size:  500\n",
      "train done\n",
      "46\t16655.3310363621\t324.7748107910156\t--------\t0\n",
      "Epoch:  47  Batch size:  500\n",
      "train done\n",
      "47\t17022.860789582133\t324.4315490722656\t--------\t0\n",
      "Epoch:  48  Batch size:  500\n",
      "train done\n",
      "48\t17385.51234558993\t324.2288513183594\t--------\t0\n",
      "Epoch:  49  Batch size:  500\n",
      "train done\n",
      "49\t17754.725918532116\t323.8308410644531\t--------\t0\n",
      "Epoch:  50  Batch size:  500\n",
      "train done\n",
      "50\t18121.431239417987\t323.1625671386719\t--------\t0\n",
      "Epoch:  51  Batch size:  500\n",
      "train done\n",
      "51\t18475.59607530106\t322.35943603515625\t--------\t0\n",
      "Epoch:  52  Batch size:  500\n",
      "train done\n",
      "52\t18839.13519997592\t322.8240966796875\t--------\t0\n",
      "Epoch:  53  Batch size:  500\n",
      "train done\n",
      "53\t19203.673661272973\t322.5557861328125\t--------\t0\n",
      "Epoch:  54  Batch size:  500\n",
      "train done\n",
      "54\t19566.962760980008\t322.32757568359375\t--------\t0\n",
      "Epoch:  55  Batch size:  500\n",
      "train done\n",
      "55\t19929.48648291803\t320.0021057128906\t--------\t0\n",
      "Epoch:  56  Batch size:  500\n",
      "train done\n",
      "56\t20285.706133408938\t319.86883544921875\t--------\t0\n",
      "Epoch:  57  Batch size:  500\n",
      "train done\n",
      "57\t20645.130456669023\t319.9792175292969\t--------\t0\n",
      "Epoch:  58  Batch size:  500\n",
      "train done\n",
      "58\t21007.602591288043\t320.95037841796875\t--------\t0\n",
      "Epoch:  59  Batch size:  500\n",
      "train done\n",
      "59\t21364.763656909112\t319.6202392578125\t--------\t0\n",
      "Epoch:  60  Batch size:  500\n",
      "train done\n",
      "60\t21722.534127443098\t317.9331970214844\t--------\t0\n",
      "Epoch:  61  Batch size:  500\n",
      "train done\n",
      "61\t22092.626186718\t319.4749450683594\t--------\t0\n",
      "Epoch:  62  Batch size:  500\n",
      "train done\n",
      "62\t22459.22262546094\t317.8326416015625\t--------\t0\n",
      "Epoch:  63  Batch size:  500\n",
      "train done\n",
      "63\t22820.63996981294\t317.9722595214844\t--------\t0\n",
      "Epoch:  64  Batch size:  500\n",
      "train done\n",
      "64\t23182.440640290035\t318.6132507324219\t--------\t0\n",
      "Epoch:  65  Batch size:  500\n",
      "train done\n",
      "65\t23541.307292388054\t317.57421875\t--------\t0\n",
      "Epoch:  66  Batch size:  500\n",
      "train done\n",
      "66\t23908.946706180926\t317.7096862792969\t--------\t0\n",
      "Epoch:  67  Batch size:  500\n",
      "train done\n",
      "67\t24254.292559389956\t317.8367004394531\t--------\t0\n",
      "Epoch:  68  Batch size:  500\n",
      "train done\n",
      "68\t24603.132756029954\t316.8893127441406\t--------\t0\n",
      "Epoch:  69  Batch size:  500\n",
      "train done\n",
      "69\t24974.020186420996\t316.83905029296875\t--------\t0\n",
      "Epoch:  70  Batch size:  500\n",
      "train done\n",
      "70\t25365.082789283944\t316.02569580078125\t--------\t0\n",
      "Epoch:  71  Batch size:  500\n",
      "train done\n",
      "71\t25747.421768862056\t314.9572448730469\t--------\t0\n",
      "Epoch:  72  Batch size:  500\n",
      "train done\n",
      "72\t26093.665399231017\t311.5263671875\t--------\t0\n",
      "Epoch:  73  Batch size:  500\n",
      "train done\n",
      "73\t26449.22742422996\t307.0812072753906\t--------\t0\n",
      "Epoch:  74  Batch size:  500\n",
      "train done\n",
      "74\t26823.144650370115\t304.5333251953125\t--------\t0\n",
      "Epoch:  75  Batch size:  500\n",
      "train done\n",
      "75\t27176.074185928097\t304.408935546875\t--------\t0\n",
      "Epoch:  76  Batch size:  500\n",
      "train done\n",
      "76\t27533.34964638995\t304.4422302246094\t--------\t0\n",
      "Epoch:  77  Batch size:  500\n",
      "train done\n",
      "77\t27890.203293056926\t304.8520812988281\t--------\t0\n",
      "Epoch:  78  Batch size:  500\n",
      "train done\n",
      "78\t28249.60074316105\t305.07684326171875\t--------\t0\n",
      "Epoch:  79  Batch size:  500\n",
      "train done\n",
      "79\t28599.597259459086\t305.0807189941406\t--------\t0\n",
      "Epoch:  80  Batch size:  500\n",
      "train done\n",
      "80\t28986.82876447006\t305.049072265625\t--------\t0\n",
      "Epoch:  81  Batch size:  500\n",
      "train done\n",
      "81\t29341.440362443915\t304.71014404296875\t--------\t0\n",
      "Epoch:  82  Batch size:  500\n",
      "train done\n",
      "82\t29693.82018201612\t304.2666931152344\t--------\t0\n",
      "Epoch:  83  Batch size:  500\n",
      "train done\n",
      "83\t30043.471050711116\t303.6015319824219\t--------\t0\n",
      "Epoch:  84  Batch size:  500\n",
      "train done\n",
      "84\t30390.154847583966\t303.48724365234375\t--------\t0\n",
      "Epoch:  85  Batch size:  500\n",
      "train done\n",
      "85\t30739.426709678024\t303.41412353515625\t--------\t0\n",
      "Epoch:  86  Batch size:  500\n"
     ]
    },
    {
     "name": "stdout",
     "output_type": "stream",
     "text": [
      "train done\n",
      "86\t31087.662471129093\t302.2572326660156\t--------\t0\n",
      "Epoch:  87  Batch size:  500\n",
      "train done\n",
      "87\t31437.646640575025\t301.6526794433594\t--------\t0\n",
      "Epoch:  88  Batch size:  500\n",
      "train done\n",
      "88\t31784.669819903094\t300.7632141113281\t--------\t0\n",
      "Epoch:  89  Batch size:  500\n",
      "train done\n",
      "89\t32193.561316830106\t300.1210632324219\t--------\t0\n",
      "Epoch:  90  Batch size:  500\n",
      "train done\n",
      "90\t32613.40631189011\t299.6898498535156\t--------\t0\n",
      "Epoch:  91  Batch size:  500\n",
      "train done\n",
      "91\t33015.98096853099\t299.4869384765625\t--------\t0\n",
      "Epoch:  92  Batch size:  500\n",
      "train done\n",
      "92\t33395.21030100598\t299.0780944824219\t--------\t0\n",
      "Epoch:  93  Batch size:  500\n",
      "train done\n",
      "93\t33742.47192327306\t298.719482421875\t--------\t0\n",
      "Epoch:  94  Batch size:  500\n",
      "train done\n",
      "94\t34094.876670015045\t298.53790283203125\t--------\t0\n",
      "Epoch:  95  Batch size:  500\n",
      "train done\n",
      "95\t34447.646887154086\t298.4921875\t--------\t0\n",
      "Epoch:  96  Batch size:  500\n",
      "train done\n",
      "96\t34798.31972176302\t298.32574462890625\t--------\t0\n",
      "Epoch:  97  Batch size:  500\n",
      "train done\n",
      "97\t35145.745272801025\t298.2700500488281\t--------\t0\n",
      "Epoch:  98  Batch size:  500\n",
      "train done\n",
      "98\t35497.58014753112\t298.4834899902344\t--------\t0\n",
      "Epoch:  99  Batch size:  500\n",
      "train done\n",
      "99\t35842.94165828498\t298.77496337890625\t--------\t0\n",
      "Epoch:  100  Batch size:  500\n",
      "train done\n",
      "100\t36193.99630452809\t299.29498291015625\t--------\t0\n",
      "Epoch:  101  Batch size:  500\n",
      "train done\n",
      "101\t36552.55875519011\t299.8956298828125\t--------\t0\n",
      "Epoch:  102  Batch size:  500\n",
      "train done\n",
      "102\t36904.262230380904\t300.39971923828125\t--------\t0\n",
      "Epoch:  103  Batch size:  500\n",
      "train done\n",
      "103\t37252.94105169806\t300.7283630371094\t--------\t0\n",
      "Epoch:  104  Batch size:  500\n",
      "train done\n",
      "104\t37603.04372118297\t301.3537292480469\t--------\t0\n",
      "Epoch:  105  Batch size:  500\n",
      "train done\n",
      "105\t37953.07745993603\t302.1626892089844\t--------\t0\n",
      "Epoch:  106  Batch size:  500\n",
      "train done\n",
      "106\t38307.206183473114\t301.9243469238281\t--------\t0\n",
      "Epoch:  107  Batch size:  500\n",
      "train done\n",
      "107\t38669.66956333793\t302.8222351074219\t--------\t0\n",
      "Epoch:  108  Batch size:  500\n",
      "train done\n",
      "108\t39024.4267799349\t302.5339050292969\t--------\t0\n",
      "Epoch:  109  Batch size:  500\n",
      "train done\n",
      "109\t39370.95111117\t302.07330322265625\t--------\t0\n",
      "Epoch:  110  Batch size:  500\n",
      "train done\n",
      "110\t39720.423601506045\t303.154052734375\t--------\t0\n",
      "Epoch:  111  Batch size:  500\n",
      "train done\n",
      "111\t40083.950817629\t302.16424560546875\t--------\t0\n",
      "Epoch:  112  Batch size:  500\n",
      "train done\n",
      "112\t40447.57924070791\t301.1734924316406\t--------\t0\n",
      "Epoch:  113  Batch size:  500\n",
      "train done\n",
      "113\t40804.65117993206\t301.2928161621094\t--------\t0\n",
      "Epoch:  114  Batch size:  500\n",
      "train done\n",
      "114\t41170.39005316002\t302.10882568359375\t--------\t0\n",
      "Epoch:  115  Batch size:  500\n",
      "train done\n",
      "115\t41520.603672302095\t301.9061584472656\t--------\t0\n",
      "Epoch:  116  Batch size:  500\n",
      "train done\n",
      "116\t41883.48792354809\t301.66412353515625\t--------\t0\n",
      "Epoch:  117  Batch size:  500\n",
      "train done\n",
      "117\t42248.84285188303\t300.5060119628906\t--------\t0\n",
      "Epoch:  118  Batch size:  500\n",
      "train done\n",
      "118\t42604.73811601405\t301.4038391113281\t--------\t0\n",
      "Epoch:  119  Batch size:  500\n",
      "train done\n",
      "119\t42956.080860316986\t303.3465576171875\t--------\t0\n",
      "Epoch:  120  Batch size:  500\n",
      "train done\n",
      "120\t43316.95942090009\t302.55987548828125\t--------\t0\n",
      "Epoch:  121  Batch size:  500\n",
      "train done\n",
      "121\t43667.451337339124\t300.63739013671875\t--------\t0\n",
      "Epoch:  122  Batch size:  500\n",
      "train done\n",
      "122\t44024.89740697411\t302.5635681152344\t--------\t0\n",
      "Epoch:  123  Batch size:  500\n",
      "train done\n",
      "123\t44386.15622888901\t300.59918212890625\t--------\t0\n",
      "Epoch:  124  Batch size:  500\n",
      "train done\n",
      "124\t44753.533700828906\t301.2274475097656\t--------\t0\n",
      "Epoch:  125  Batch size:  500\n",
      "train done\n",
      "125\t45101.680899657076\t301.30023193359375\t--------\t0\n",
      "Epoch:  126  Batch size:  500\n",
      "train done\n",
      "126\t45446.32961812313\t301.2707824707031\t--------\t0\n",
      "Epoch:  127  Batch size:  500\n",
      "train done\n",
      "127\t45789.548602312105\t300.6336975097656\t--------\t0\n",
      "Epoch:  128  Batch size:  500\n",
      "train done\n",
      "128\t46136.89811677905\t301.4061584472656\t--------\t0\n",
      "Epoch:  129  Batch size:  500\n",
      "train done\n",
      "129\t46485.00221133698\t300.3690185546875\t--------\t0\n",
      "Epoch:  130  Batch size:  500\n",
      "train done\n",
      "130\t46837.12116909004\t299.93475341796875\t--------\t0\n",
      "Epoch:  131  Batch size:  500\n",
      "train done\n",
      "131\t47193.54022924299\t299.6459655761719\t--------\t0\n",
      "Epoch:  132  Batch size:  500\n",
      "train done\n",
      "132\t47546.674381590914\t300.4669494628906\t--------\t0\n",
      "Epoch:  133  Batch size:  500\n",
      "train done\n",
      "133\t47896.99420391\t300.1428527832031\t--------\t0\n",
      "Epoch:  134  Batch size:  500\n",
      "train done\n",
      "134\t48241.26576982904\t299.77252197265625\t--------\t0\n",
      "Epoch:  135  Batch size:  500\n",
      "train done\n",
      "135\t48592.72313900804\t300.03515625\t--------\t0\n",
      "Epoch:  136  Batch size:  500\n",
      "train done\n",
      "136\t48951.91381555307\t300.7678527832031\t--------\t0\n",
      "Epoch:  137  Batch size:  500\n",
      "train done\n",
      "137\t49306.735986429034\t299.9143371582031\t--------\t0\n",
      "Epoch:  138  Batch size:  500\n"
     ]
    },
    {
     "ename": "KeyboardInterrupt",
     "evalue": "",
     "output_type": "error",
     "traceback": [
      "\u001b[0;31m---------------------------------------------------------------------------\u001b[0m",
      "\u001b[0;31mKeyboardInterrupt\u001b[0m                         Traceback (most recent call last)",
      "Input \u001b[0;32mIn [59]\u001b[0m, in \u001b[0;36m<cell line: 50>\u001b[0;34m()\u001b[0m\n\u001b[1;32m     61\u001b[0m ds_train \u001b[38;5;241m=\u001b[39m dataset_train[batch_start_nd:batch_end_nd]\n\u001b[1;32m     62\u001b[0m fs_train \u001b[38;5;241m=\u001b[39m features_train[batch_start_nd:batch_end_nd]\n\u001b[0;32m---> 64\u001b[0m loss_train \u001b[38;5;241m=\u001b[39m \u001b[43mtrainer_relu\u001b[49m\u001b[38;5;241;43m.\u001b[39;49m\u001b[43mtrain\u001b[49m\u001b[43m(\u001b[49m\u001b[43mds_train\u001b[49m\u001b[43m,\u001b[49m\u001b[43m \u001b[49m\u001b[43mfs_train\u001b[49m\u001b[43m,\u001b[49m\u001b[43m \u001b[49m\u001b[43madj\u001b[49m\u001b[38;5;241;43m.\u001b[39;49m\u001b[43mtodense\u001b[49m\u001b[43m(\u001b[49m\u001b[43m)\u001b[49m\u001b[43m,\u001b[49m\u001b[43m \u001b[49m\u001b[43mtrain\u001b[49m\u001b[38;5;241;43m=\u001b[39;49m\u001b[38;5;28;43;01mTrue\u001b[39;49;00m\u001b[43m)\u001b[49m\n\u001b[1;32m     66\u001b[0m batch_start_nd \u001b[38;5;241m=\u001b[39m batch_end_nd\n\u001b[1;32m     67\u001b[0m batch_end_nd \u001b[38;5;241m=\u001b[39m batch_start_nd \u001b[38;5;241m+\u001b[39m epoch_batch_size\n",
      "Input \u001b[0;32mIn [56]\u001b[0m, in \u001b[0;36mTrainer.train\u001b[0;34m(self, dataset, x, adj, train)\u001b[0m\n\u001b[1;32m    342\u001b[0m loss \u001b[38;5;241m=\u001b[39m \u001b[38;5;28mself\u001b[39m\u001b[38;5;241m.\u001b[39mmodel\u001b[38;5;241m.\u001b[39mforward_regressor(data_batch, x, adj, train\u001b[38;5;241m=\u001b[39m\u001b[38;5;28;01mTrue\u001b[39;00m)\n\u001b[1;32m    343\u001b[0m \u001b[38;5;28mself\u001b[39m\u001b[38;5;241m.\u001b[39moptimizer\u001b[38;5;241m.\u001b[39mzero_grad()\n\u001b[0;32m--> 344\u001b[0m \u001b[43mloss\u001b[49m\u001b[38;5;241;43m.\u001b[39;49m\u001b[43mbackward\u001b[49m\u001b[43m(\u001b[49m\u001b[43m)\u001b[49m\n\u001b[1;32m    345\u001b[0m \u001b[38;5;28mself\u001b[39m\u001b[38;5;241m.\u001b[39moptimizer\u001b[38;5;241m.\u001b[39mstep()\n\u001b[1;32m    346\u001b[0m loss_total \u001b[38;5;241m+\u001b[39m\u001b[38;5;241m=\u001b[39m loss\u001b[38;5;241m.\u001b[39mitem()\n",
      "File \u001b[0;32m~/.local/lib/python3.8/site-packages/torch/_tensor.py:363\u001b[0m, in \u001b[0;36mTensor.backward\u001b[0;34m(self, gradient, retain_graph, create_graph, inputs)\u001b[0m\n\u001b[1;32m    354\u001b[0m \u001b[38;5;28;01mif\u001b[39;00m has_torch_function_unary(\u001b[38;5;28mself\u001b[39m):\n\u001b[1;32m    355\u001b[0m     \u001b[38;5;28;01mreturn\u001b[39;00m handle_torch_function(\n\u001b[1;32m    356\u001b[0m         Tensor\u001b[38;5;241m.\u001b[39mbackward,\n\u001b[1;32m    357\u001b[0m         (\u001b[38;5;28mself\u001b[39m,),\n\u001b[0;32m   (...)\u001b[0m\n\u001b[1;32m    361\u001b[0m         create_graph\u001b[38;5;241m=\u001b[39mcreate_graph,\n\u001b[1;32m    362\u001b[0m         inputs\u001b[38;5;241m=\u001b[39minputs)\n\u001b[0;32m--> 363\u001b[0m \u001b[43mtorch\u001b[49m\u001b[38;5;241;43m.\u001b[39;49m\u001b[43mautograd\u001b[49m\u001b[38;5;241;43m.\u001b[39;49m\u001b[43mbackward\u001b[49m\u001b[43m(\u001b[49m\u001b[38;5;28;43mself\u001b[39;49m\u001b[43m,\u001b[49m\u001b[43m \u001b[49m\u001b[43mgradient\u001b[49m\u001b[43m,\u001b[49m\u001b[43m \u001b[49m\u001b[43mretain_graph\u001b[49m\u001b[43m,\u001b[49m\u001b[43m \u001b[49m\u001b[43mcreate_graph\u001b[49m\u001b[43m,\u001b[49m\u001b[43m \u001b[49m\u001b[43minputs\u001b[49m\u001b[38;5;241;43m=\u001b[39;49m\u001b[43minputs\u001b[49m\u001b[43m)\u001b[49m\n",
      "File \u001b[0;32m~/.local/lib/python3.8/site-packages/torch/autograd/__init__.py:173\u001b[0m, in \u001b[0;36mbackward\u001b[0;34m(tensors, grad_tensors, retain_graph, create_graph, grad_variables, inputs)\u001b[0m\n\u001b[1;32m    168\u001b[0m     retain_graph \u001b[38;5;241m=\u001b[39m create_graph\n\u001b[1;32m    170\u001b[0m \u001b[38;5;66;03m# The reason we repeat same the comment below is that\u001b[39;00m\n\u001b[1;32m    171\u001b[0m \u001b[38;5;66;03m# some Python versions print out the first line of a multi-line function\u001b[39;00m\n\u001b[1;32m    172\u001b[0m \u001b[38;5;66;03m# calls in the traceback and some print out the last line\u001b[39;00m\n\u001b[0;32m--> 173\u001b[0m \u001b[43mVariable\u001b[49m\u001b[38;5;241;43m.\u001b[39;49m\u001b[43m_execution_engine\u001b[49m\u001b[38;5;241;43m.\u001b[39;49m\u001b[43mrun_backward\u001b[49m\u001b[43m(\u001b[49m\u001b[43m  \u001b[49m\u001b[38;5;66;43;03m# Calls into the C++ engine to run the backward pass\u001b[39;49;00m\n\u001b[1;32m    174\u001b[0m \u001b[43m    \u001b[49m\u001b[43mtensors\u001b[49m\u001b[43m,\u001b[49m\u001b[43m \u001b[49m\u001b[43mgrad_tensors_\u001b[49m\u001b[43m,\u001b[49m\u001b[43m \u001b[49m\u001b[43mretain_graph\u001b[49m\u001b[43m,\u001b[49m\u001b[43m \u001b[49m\u001b[43mcreate_graph\u001b[49m\u001b[43m,\u001b[49m\u001b[43m \u001b[49m\u001b[43minputs\u001b[49m\u001b[43m,\u001b[49m\n\u001b[1;32m    175\u001b[0m \u001b[43m    \u001b[49m\u001b[43mallow_unreachable\u001b[49m\u001b[38;5;241;43m=\u001b[39;49m\u001b[38;5;28;43;01mTrue\u001b[39;49;00m\u001b[43m,\u001b[49m\u001b[43m \u001b[49m\u001b[43maccumulate_grad\u001b[49m\u001b[38;5;241;43m=\u001b[39;49m\u001b[38;5;28;43;01mTrue\u001b[39;49;00m\u001b[43m)\u001b[49m\n",
      "\u001b[0;31mKeyboardInterrupt\u001b[0m: "
     ]
    }
   ],
   "source": [
    "### REST-NON-TRAIN VALUES AS VALIDATION VALUES, BASED ALGORITHM:\n",
    "### Use relu as activation functions to predict negative values and non-scaled outputs and 200 epochs\n",
    "\n",
    "\n",
    "################################################################## RUN MODELLL\n",
    "\n",
    "radius = 3\n",
    "dim = 50\n",
    "\n",
    "print('Creating a model.')\n",
    "torch.manual_seed(1234)\n",
    "\n",
    "\n",
    "model_relu = MolecularGraphNeuralNetwork(\n",
    "        N_fingerprints, dim, layer_hidden, layer_output, nfeat=features_train.shape[1],nhid=256,nclass=1,dropout=0.2 ).to(device)\n",
    "trainer_relu = Trainer(model_relu)\n",
    "tester_relu = Tester(model_relu)\n",
    "print('# of model parameters:',\n",
    "      sum([np.prod(p.size()) for p in model_relu.parameters()]))\n",
    "print('-'*100)\n",
    "\n",
    "file_result = train_data_path + '/setting2_run.txt'\n",
    "\n",
    "if task == 'regression':\n",
    "    result = 'Epoch\\tTime(sec)\\tLoss_train\\tMAE_dev\\tMAE_test'\n",
    "\n",
    "with open(file_result, 'w') as f:\n",
    "    f.write(result + '\\n')\n",
    "\n",
    "print('Start training.')\n",
    "print('The result is saved in the output directory every epoch!')\n",
    "\n",
    "all_loss_train = []\n",
    "all_valid_train = []\n",
    "\n",
    "# np.random.seed(1234)\n",
    "\n",
    "start = timeit.default_timer()\n",
    "\n",
    "# BATCH THIS HERE AND ADJ MATRIX CALC EVERY TIME\n",
    "\n",
    "# epoch_batch_size = int( len(dataset_train)/iteration )\n",
    "# epoch_batch_size = 1000\n",
    "epochs = 400\n",
    "\n",
    "epoch_batch_size = 500\n",
    "iterations_per_epoch = int(len(dataset_train)/epoch_batch_size)\n",
    "print(epochs, iterations_per_epoch)\n",
    "\n",
    "for epoch in range(epochs):\n",
    "    \n",
    "    batch_start_nd = 0\n",
    "    batch_end_nd = epoch_batch_size\n",
    "    print('Epoch: ', epoch, ' Batch size: ', epoch_batch_size)\n",
    "    \n",
    "    for iteration in range(iterations_per_epoch):\n",
    "        # Dont decay lr\n",
    "        # if epoch % decay_interval == 0:\n",
    "        #     trainer.optimizer.param_groups[0]['lr'] *= lr_decay\n",
    "\n",
    "        ds_train = dataset_train[batch_start_nd:batch_end_nd]\n",
    "        fs_train = features_train[batch_start_nd:batch_end_nd]\n",
    "        \n",
    "        loss_train = trainer_relu.train(ds_train, fs_train, adj.todense(), train=True)\n",
    "        \n",
    "        batch_start_nd = batch_end_nd\n",
    "        batch_end_nd = batch_start_nd + epoch_batch_size\n",
    "        if(iteration == iterations_per_epoch - 1):\n",
    "          batch_start_nd = batch_end_nd\n",
    "          batch_end_nd = len(dataset_train)\n",
    "        \n",
    "        \n",
    "    if task == 'regression':\n",
    "      # do b-proc here\n",
    "      valid_mse = '--------'\n",
    "#       for i_valid in range(batch_end_nd, len(dataset_train), 1000):\n",
    "#         # print('valid', i_valid)\n",
    "#         data_dev_batch = dataset_train[i_valid:i_valid+1000]\n",
    "#         prediction_dev = tester.test_regressor(data_dev_batch, features_train[i_valid:i_valid+1000], adj.todense())\n",
    "#         valid_mse += prediction_dev\n",
    "\n",
    "      print('train done')\n",
    "\n",
    "      test_mse = 0\n",
    "#       for i_test in range(0, len(dataset_test), 500):\n",
    "#         # print('test', i_test)\n",
    "#         data_test_batch = dataset_test[i_test:i_test+500]\n",
    "#         prediction_test = tester_relu.test_regressor(data_test_batch, features_test[i_test:i_test+500], adj.todense())\n",
    "#         test_mse += prediction_test\n",
    "\n",
    "    time = timeit.default_timer() - start\n",
    "\n",
    "    if epoch == 0:\n",
    "        minutes = time * iteration / 60\n",
    "        hours = int(minutes / 60)\n",
    "        minutes = int(minutes - 60 * hours)\n",
    "        print('The training will finish in about',\n",
    "              hours, 'hours', minutes, 'minutes.')\n",
    "        print('-'*100)\n",
    "        print(result)\n",
    "\n",
    "    result = '\\t'.join(map(str, [epoch, time, loss_train,\n",
    "                                 valid_mse, test_mse]))\n",
    "    # tester.save_result(result, file_result)\n",
    "\n",
    "    print(result)\n",
    "    all_loss_train.append(loss_train)\n",
    "    all_valid_train.append(test_mse)\n",
    "    "
   ]
  },
  {
   "cell_type": "code",
   "execution_count": null,
   "metadata": {},
   "outputs": [],
   "source": [
    "# ALSO TRIED LR = 0.01...NOISY CONVERGENCE"
   ]
  },
  {
   "cell_type": "code",
   "execution_count": 112,
   "metadata": {},
   "outputs": [
    {
     "data": {
      "text/plain": [
       "[<matplotlib.lines.Line2D at 0x7f4e28895760>]"
      ]
     },
     "execution_count": 112,
     "metadata": {},
     "output_type": "execute_result"
    },
    {
     "data": {
      "image/png": "[encoded data removed]",
      "text/plain": [
       "<Figure size 432x288 with 1 Axes>"
      ]
     },
     "metadata": {
      "image/png": {
       "height": 261,
       "width": 380
      },
      "needs_background": "light"
     },
     "output_type": "display_data"
    }
   ],
   "source": [
    "# Plot epoch vs train-error curve\n",
    "plt.plot(range(15), all_loss_train)\n"
   ]
  },
  {
   "cell_type": "code",
   "execution_count": 113,
   "metadata": {
    "id": "ZJgjJCeMUQt1"
   },
   "outputs": [
    {
     "data": {
      "text/plain": [
       "[<matplotlib.lines.Line2D at 0x7f4e1e7e8f40>]"
      ]
     },
     "execution_count": 113,
     "metadata": {},
     "output_type": "execute_result"
    },
    {
     "data": {
      "image/png": "[encoded data removed]",
      "text/plain": [
       "<Figure size 432x288 with 1 Axes>"
      ]
     },
     "metadata": {
      "image/png": {
       "height": 261,
       "width": 389
      },
      "needs_background": "light"
     },
     "output_type": "display_data"
    }
   ],
   "source": [
    "# Plot epoch vs train-error curve\n",
    "plt.plot(range(15), all_valid_train)\n"
   ]
  },
  {
   "cell_type": "code",
   "execution_count": 111,
   "metadata": {},
   "outputs": [
    {
     "data": {
      "text/plain": [
       "5637"
      ]
     },
     "execution_count": 111,
     "metadata": {},
     "output_type": "execute_result"
    }
   ],
   "source": [
    "gc.collect()"
   ]
  },
  {
   "cell_type": "code",
   "execution_count": 44,
   "metadata": {},
   "outputs": [],
   "source": [
    "data_batch = list(zip(*dataset_test[0:10]))\n",
    "\n",
    "preds, actual = model.forward_regressor(data_batch, features_train[:10], adj.todense(), train = False)\n",
    "\n",
    "\n",
    "#         predicted_values, correct_values = self.model.forward_regressor(\n",
    "#                                             data_batch, x, adj, train=False)"
   ]
  },
  {
   "cell_type": "code",
   "execution_count": 45,
   "metadata": {},
   "outputs": [
    {
     "name": "stdout",
     "output_type": "stream",
     "text": [
      "(10,)\n",
      "(10,)\n"
     ]
    }
   ],
   "source": [
    "# Inverse scale and compare metrics\n",
    "\n",
    "preds_inv = scaler.inverse_transform(preds)\n",
    "print(preds_inv.shape)\n",
    "actual_inv = scaler.inverse_transform(actual)\n",
    "print(actual_inv.shape)\n",
    "# Check what acti function and scaling method to use to get negative predictions"
   ]
  },
  {
   "cell_type": "code",
   "execution_count": 46,
   "metadata": {},
   "outputs": [
    {
     "name": "stdout",
     "output_type": "stream",
     "text": [
      "In scaled version, MSE is:  0.71597683\n",
      "In original version, MSE is:  353.31335\n"
     ]
    }
   ],
   "source": [
    "from sklearn.metrics import mean_squared_error as mse_error\n",
    "print('In scaled version, MSE is: ', mse_error(actual, preds))\n",
    "print('In original version, MSE is: ', mse_error(actual_inv, preds_inv))\n"
   ]
  },
  {
   "cell_type": "code",
   "execution_count": 49,
   "metadata": {},
   "outputs": [
    {
     "data": {
      "text/plain": [
       "array([6.5983844, 6.3946595, 6.0836906, 7.539284 , 5.916025 , 7.4351454,\n",
       "       6.3773155, 6.9938483, 6.621343 , 7.9209294], dtype=float32)"
      ]
     },
     "execution_count": 49,
     "metadata": {},
     "output_type": "execute_result"
    }
   ],
   "source": [
    "preds_inv"
   ]
  },
  {
   "cell_type": "code",
   "execution_count": 156,
   "metadata": {},
   "outputs": [
    {
     "data": {
      "text/plain": [
       "array([  1.6303278,  20.362988 ,   2.1084578,  15.571226 , -15.15977  ,\n",
       "         4.920735 ,   0.650415 , -18.720816 ,  49.16553  ,  24.608122 ],\n",
       "      dtype=float32)"
      ]
     },
     "execution_count": 156,
     "metadata": {},
     "output_type": "execute_result"
    }
   ],
   "source": [
    "actual_inv"
   ]
  },
  {
   "cell_type": "code",
   "execution_count": null,
   "metadata": {},
   "outputs": [],
   "source": [
    "# torch.save(model, 'Trained Model GNN-GCN/model')"
   ]
  },
  {
   "cell_type": "code",
   "execution_count": 157,
   "metadata": {},
   "outputs": [
    {
     "data": {
      "text/plain": [
       "array([ 0.08618711,  0.04809671,  0.03189801,  0.0309574 ,  0.08550937,\n",
       "       -0.03106661,  0.04023261,  0.01050187, -0.02593217,  0.02945607,\n",
       "        0.07679251,  0.04852899,  0.08991359,  0.04468206,  0.079864  ,\n",
       "        0.05929171,  0.03453385,  0.04569567,  0.06626941,  0.01343243,\n",
       "        0.03089802, -0.0057711 ,  0.07312735,  0.04967072, -0.00220926,\n",
       "        0.04631687,  0.01125146,  0.07468678,  0.02793835,  0.0475954 ,\n",
       "        0.02787326,  0.0039828 , -0.00452556,  0.07961084,  0.09472699,\n",
       "        0.05611373,  0.08974524,  0.01041357, -0.03830655,  0.03863859,\n",
       "        0.09931492,  0.0422984 ,  0.08065198,  0.05897057,  0.01988907,\n",
       "        0.03114261,  0.08027725,  0.04842329,  0.00887115, -0.02759029,\n",
       "        0.05295374,  0.03695037,  0.03890365, -0.02818772,  0.03265865,\n",
       "       -0.01213716,  0.00156318,  0.07989828, -0.03107905,  0.01537727,\n",
       "        0.01923671,  0.04556826,  0.01862747,  0.04434333,  0.03850257,\n",
       "        0.086329  ,  0.06393921, -0.00252621,  0.04496746,  0.04102636,\n",
       "       -0.03534742,  0.05552564,  0.03371812,  0.02832779,  0.075156  ,\n",
       "        0.0827565 ,  0.07282047,  0.04065784,  0.03515969,  0.05564289,\n",
       "        0.06639086,  0.01269429,  0.06356142,  0.08275805,  0.0480032 ,\n",
       "        0.05092527,  0.06131884,  0.05240208,  0.03827635, -0.00674351,\n",
       "       -0.01064111,  0.01269663, -0.01907734,  0.02210919,  0.04813707,\n",
       "       -0.00621206,  0.07478301, -0.02641028,  0.04463048,  0.04302859],\n",
       "      dtype=float32)"
      ]
     },
     "execution_count": 157,
     "metadata": {},
     "output_type": "execute_result"
    }
   ],
   "source": [
    "preds"
   ]
  },
  {
   "cell_type": "code",
   "execution_count": null,
   "metadata": {},
   "outputs": [],
   "source": []
  },
  {
   "cell_type": "code",
   "execution_count": null,
   "metadata": {},
   "outputs": [],
   "source": []
  },
  {
   "cell_type": "code",
   "execution_count": null,
   "metadata": {},
   "outputs": [],
   "source": []
  },
  {
   "cell_type": "code",
   "execution_count": null,
   "metadata": {},
   "outputs": [],
   "source": [
    "\n"
   ]
  },
  {
   "cell_type": "code",
   "execution_count": 36,
   "metadata": {
    "colab": {
     "base_uri": "https://localhost:8080/"
    },
    "id": "g0h6M6bgUQxR",
    "outputId": "9301064a-768c-4807-c5a8-851508d11769"
   },
   "outputs": [
    {
     "name": "stdout",
     "output_type": "stream",
     "text": [
      "Creating a model.\n",
      "# of model parameters: 4191291\n",
      "----------------------------------------------------------------------------------------------------\n",
      "Start training.\n",
      "The result is saved in the output directory every epoch!\n",
      "50\n",
      "Epoch:  0\n",
      "valid done\n",
      "0\t128.22875083703548\t1.006762981414795\t0.005135622143745422\t0.013355601730267645\n",
      "Epoch:  1\n",
      "valid done\n",
      "The training will finish in about 3 hours 33 minutes.\n",
      "----------------------------------------------------------------------------------------------------\n",
      "0\t128.22875083703548\t1.006762981414795\t0.005135622143745422\t0.013355601730267645\n",
      "1\t255.76632208703086\t0.8879749774932861\t0.005129100680351257\t0.013342782620566986\n",
      "Epoch:  2\n",
      "valid done\n",
      "2\t380.7526260970626\t1.2042992115020752\t0.005123589158058167\t0.013330634168498423\n",
      "Epoch:  3\n",
      "valid done\n",
      "3\t508.72058509709314\t1.1365541219711304\t0.005120469212532043\t0.01332176542743135\n",
      "Epoch:  4\n",
      "valid done\n",
      "4\t631.5647250551265\t1.0405992269515991\t0.005121366500854492\t0.013317801544679462\n",
      "Epoch:  5\n",
      "valid done\n",
      "5\t759.9500766349956\t1.1128878593444824\t0.005121809720993042\t0.013313709291963946\n",
      "Epoch:  6\n",
      "valid done\n",
      "6\t889.8469081821386\t1.3014531135559082\t0.005121458888053894\t0.013308727265721527\n",
      "Epoch:  7\n",
      "valid done\n",
      "7\t1020.0019888211973\t1.11289381980896\t0.005121703505516052\t0.013304990868542074\n",
      "Epoch:  8\n"
     ]
    },
    {
     "ename": "KeyboardInterrupt",
     "evalue": "",
     "output_type": "error",
     "traceback": [
      "\u001b[0;31m---------------------------------------------------------------------------\u001b[0m",
      "\u001b[0;31mKeyboardInterrupt\u001b[0m                         Traceback (most recent call last)",
      "Input \u001b[0;32mIn [36]\u001b[0m, in \u001b[0;36m<cell line: 45>\u001b[0;34m()\u001b[0m\n\u001b[1;32m     52\u001b[0m fs_train \u001b[38;5;241m=\u001b[39m features_train[batch_start_nd:batch_end_nd]\n\u001b[1;32m     55\u001b[0m \u001b[38;5;28mprint\u001b[39m(\u001b[38;5;124m'\u001b[39m\u001b[38;5;124mEpoch: \u001b[39m\u001b[38;5;124m'\u001b[39m, epoch)\n\u001b[0;32m---> 56\u001b[0m loss_train \u001b[38;5;241m=\u001b[39m \u001b[43mtrainer\u001b[49m\u001b[38;5;241;43m.\u001b[39;49m\u001b[43mtrain\u001b[49m\u001b[43m(\u001b[49m\u001b[43mds_train\u001b[49m\u001b[43m,\u001b[49m\u001b[43m \u001b[49m\u001b[43mfs_train\u001b[49m\u001b[43m,\u001b[49m\u001b[43m \u001b[49m\u001b[43madj\u001b[49m\u001b[38;5;241;43m.\u001b[39;49m\u001b[43mtodense\u001b[49m\u001b[43m(\u001b[49m\u001b[43m)\u001b[49m\u001b[43m,\u001b[49m\u001b[43m \u001b[49m\u001b[43mtrain\u001b[49m\u001b[38;5;241;43m=\u001b[39;49m\u001b[38;5;28;43;01mTrue\u001b[39;49;00m\u001b[43m)\u001b[49m\n\u001b[1;32m     57\u001b[0m \u001b[38;5;66;03m# print('done')\u001b[39;00m\n\u001b[1;32m     58\u001b[0m \u001b[38;5;28;01mif\u001b[39;00m task \u001b[38;5;241m==\u001b[39m \u001b[38;5;124m'\u001b[39m\u001b[38;5;124mregression\u001b[39m\u001b[38;5;124m'\u001b[39m:\n\u001b[1;32m     59\u001b[0m   \u001b[38;5;66;03m# do b-proc here\u001b[39;00m\n",
      "Input \u001b[0;32mIn [24]\u001b[0m, in \u001b[0;36mTrainer.train\u001b[0;34m(self, dataset, x, adj, train)\u001b[0m\n\u001b[1;32m    340\u001b[0m loss \u001b[38;5;241m=\u001b[39m \u001b[38;5;28mself\u001b[39m\u001b[38;5;241m.\u001b[39mmodel\u001b[38;5;241m.\u001b[39mforward_regressor(data_batch, x, adj, train\u001b[38;5;241m=\u001b[39m\u001b[38;5;28;01mTrue\u001b[39;00m)\n\u001b[1;32m    341\u001b[0m \u001b[38;5;28mself\u001b[39m\u001b[38;5;241m.\u001b[39moptimizer\u001b[38;5;241m.\u001b[39mzero_grad()\n\u001b[0;32m--> 342\u001b[0m \u001b[43mloss\u001b[49m\u001b[38;5;241;43m.\u001b[39;49m\u001b[43mbackward\u001b[49m\u001b[43m(\u001b[49m\u001b[43m)\u001b[49m\n\u001b[1;32m    343\u001b[0m \u001b[38;5;28mself\u001b[39m\u001b[38;5;241m.\u001b[39moptimizer\u001b[38;5;241m.\u001b[39mstep()\n\u001b[1;32m    344\u001b[0m loss_total \u001b[38;5;241m+\u001b[39m\u001b[38;5;241m=\u001b[39m loss\u001b[38;5;241m.\u001b[39mitem()\n",
      "File \u001b[0;32m~/.local/lib/python3.8/site-packages/torch/_tensor.py:363\u001b[0m, in \u001b[0;36mTensor.backward\u001b[0;34m(self, gradient, retain_graph, create_graph, inputs)\u001b[0m\n\u001b[1;32m    354\u001b[0m \u001b[38;5;28;01mif\u001b[39;00m has_torch_function_unary(\u001b[38;5;28mself\u001b[39m):\n\u001b[1;32m    355\u001b[0m     \u001b[38;5;28;01mreturn\u001b[39;00m handle_torch_function(\n\u001b[1;32m    356\u001b[0m         Tensor\u001b[38;5;241m.\u001b[39mbackward,\n\u001b[1;32m    357\u001b[0m         (\u001b[38;5;28mself\u001b[39m,),\n\u001b[0;32m   (...)\u001b[0m\n\u001b[1;32m    361\u001b[0m         create_graph\u001b[38;5;241m=\u001b[39mcreate_graph,\n\u001b[1;32m    362\u001b[0m         inputs\u001b[38;5;241m=\u001b[39minputs)\n\u001b[0;32m--> 363\u001b[0m \u001b[43mtorch\u001b[49m\u001b[38;5;241;43m.\u001b[39;49m\u001b[43mautograd\u001b[49m\u001b[38;5;241;43m.\u001b[39;49m\u001b[43mbackward\u001b[49m\u001b[43m(\u001b[49m\u001b[38;5;28;43mself\u001b[39;49m\u001b[43m,\u001b[49m\u001b[43m \u001b[49m\u001b[43mgradient\u001b[49m\u001b[43m,\u001b[49m\u001b[43m \u001b[49m\u001b[43mretain_graph\u001b[49m\u001b[43m,\u001b[49m\u001b[43m \u001b[49m\u001b[43mcreate_graph\u001b[49m\u001b[43m,\u001b[49m\u001b[43m \u001b[49m\u001b[43minputs\u001b[49m\u001b[38;5;241;43m=\u001b[39;49m\u001b[43minputs\u001b[49m\u001b[43m)\u001b[49m\n",
      "File \u001b[0;32m~/.local/lib/python3.8/site-packages/torch/autograd/__init__.py:173\u001b[0m, in \u001b[0;36mbackward\u001b[0;34m(tensors, grad_tensors, retain_graph, create_graph, grad_variables, inputs)\u001b[0m\n\u001b[1;32m    168\u001b[0m     retain_graph \u001b[38;5;241m=\u001b[39m create_graph\n\u001b[1;32m    170\u001b[0m \u001b[38;5;66;03m# The reason we repeat same the comment below is that\u001b[39;00m\n\u001b[1;32m    171\u001b[0m \u001b[38;5;66;03m# some Python versions print out the first line of a multi-line function\u001b[39;00m\n\u001b[1;32m    172\u001b[0m \u001b[38;5;66;03m# calls in the traceback and some print out the last line\u001b[39;00m\n\u001b[0;32m--> 173\u001b[0m \u001b[43mVariable\u001b[49m\u001b[38;5;241;43m.\u001b[39;49m\u001b[43m_execution_engine\u001b[49m\u001b[38;5;241;43m.\u001b[39;49m\u001b[43mrun_backward\u001b[49m\u001b[43m(\u001b[49m\u001b[43m  \u001b[49m\u001b[38;5;66;43;03m# Calls into the C++ engine to run the backward pass\u001b[39;49;00m\n\u001b[1;32m    174\u001b[0m \u001b[43m    \u001b[49m\u001b[43mtensors\u001b[49m\u001b[43m,\u001b[49m\u001b[43m \u001b[49m\u001b[43mgrad_tensors_\u001b[49m\u001b[43m,\u001b[49m\u001b[43m \u001b[49m\u001b[43mretain_graph\u001b[49m\u001b[43m,\u001b[49m\u001b[43m \u001b[49m\u001b[43mcreate_graph\u001b[49m\u001b[43m,\u001b[49m\u001b[43m \u001b[49m\u001b[43minputs\u001b[49m\u001b[43m,\u001b[49m\n\u001b[1;32m    175\u001b[0m \u001b[43m    \u001b[49m\u001b[43mallow_unreachable\u001b[49m\u001b[38;5;241;43m=\u001b[39;49m\u001b[38;5;28;43;01mTrue\u001b[39;49;00m\u001b[43m,\u001b[49m\u001b[43m \u001b[49m\u001b[43maccumulate_grad\u001b[49m\u001b[38;5;241;43m=\u001b[39;49m\u001b[38;5;28;43;01mTrue\u001b[39;49;00m\u001b[43m)\u001b[49m\n",
      "\u001b[0;31mKeyboardInterrupt\u001b[0m: "
     ]
    }
   ],
   "source": [
    "### LEAVE ONE-OUT VALIDATION BASED ALGORITHM:\n",
    "\n",
    "\n",
    "################################################################## RUN MODELLL\n",
    "\n",
    "dim = 50\n",
    "# iteration=10\n",
    "print('Creating a model.')\n",
    "torch.manual_seed(1234)\n",
    "\n",
    "\n",
    "model = MolecularGraphNeuralNetwork(\n",
    "        N_fingerprints, dim, layer_hidden, layer_output, nfeat=features_train.shape[1],nhid=256,nclass=1,dropout=0.2 ).to(device)\n",
    "trainer = Trainer(model)\n",
    "tester = Tester(model)\n",
    "print('# of model parameters:',\n",
    "      sum([np.prod(p.size()) for p in model.parameters()]))\n",
    "print('-'*100)\n",
    "\n",
    "file_result = train_data_path + '/setting1_run.txt'\n",
    "\n",
    "if task == 'regression':\n",
    "    result = 'Epoch\\tTime(sec)\\tLoss_train\\tMAE_dev\\tMAE_test'\n",
    "\n",
    "with open(file_result, 'w') as f:\n",
    "    f.write(result + '\\n')\n",
    "\n",
    "print('Start training.')\n",
    "print('The result is saved in the output directory every epoch!')\n",
    "\n",
    "all_loss_train = []\n",
    "all_valid_train = []\n",
    "\n",
    "# np.random.seed(1234)\n",
    "\n",
    "start = timeit.default_timer()\n",
    "\n",
    "# BATCH THIS HERE AND ADJ MATRIX CALC EVERY TIME\n",
    "\n",
    "# epoch_batch_size = int( len(dataset_train)/iteration )\n",
    "epoch_batch_size = 1000\n",
    "batch_start_nd = 0\n",
    "batch_end_nd = epoch_batch_size\n",
    "# iteration = int(len(dataset_train)/epoch_batch_size)\n",
    "iteration = 50\n",
    "print(iteration)\n",
    "\n",
    "for epoch in range(iteration):\n",
    "\n",
    "    # Dont decay lr\n",
    "    # if epoch % decay_interval == 0:\n",
    "    #     trainer.optimizer.param_groups[0]['lr'] *= lr_decay\n",
    "\n",
    "    ds_train = dataset_train[batch_start_nd:batch_end_nd]\n",
    "    fs_train = features_train[batch_start_nd:batch_end_nd]\n",
    "\n",
    "\n",
    "    print('Epoch: ', epoch)\n",
    "    loss_train = trainer.train(ds_train, fs_train, adj.todense(), train=True)\n",
    "    # print('done')\n",
    "    if task == 'regression':\n",
    "      # do b-proc here\n",
    "      valid_mse = 0\n",
    "      for i_valid in range(0, len(dataset_dev), 500):\n",
    "        # print('valid', i_valid)\n",
    "        data_dev_batch = dataset_dev[i_valid:i_valid+500]\n",
    "        prediction_dev = tester.test_regressor(data_dev_batch, features_dev[i_valid:i_valid+500], adj.todense())\n",
    "        valid_mse += prediction_dev\n",
    "\n",
    "      print('valid done')\n",
    "\n",
    "      test_mse = 0\n",
    "      for i_test in range(0, len(dataset_test), 500):\n",
    "        # print('test', i_test)\n",
    "        data_test_batch = dataset_test[i_test:i_test+500]\n",
    "        prediction_test = tester.test_regressor(data_test_batch, features_test[i_test:i_test+500], adj.todense())\n",
    "        test_mse += prediction_test\n",
    "    # test_mse = 0\n",
    "    # prediction_test,prediction_dev = 0, 0\n",
    "\n",
    "    time = timeit.default_timer() - start\n",
    "\n",
    "    if epoch == 1:\n",
    "        minutes = time * iteration / 60\n",
    "        hours = int(minutes / 60)\n",
    "        minutes = int(minutes - 60 * hours)\n",
    "        print('The training will finish in about',\n",
    "              hours, 'hours', minutes, 'minutes.')\n",
    "        print('-'*100)\n",
    "        print(result)\n",
    "\n",
    "    result = '\\t'.join(map(str, [epoch, time, loss_train,\n",
    "                                 valid_mse, test_mse]))\n",
    "    # tester.save_result(result, file_result)\n",
    "\n",
    "    print(result)\n",
    "    all_loss_train.append(loss_train)\n",
    "    all_valid_train.append(valid_mse)\n",
    "    epoch += 1\n",
    "\n",
    "    batch_start_nd = batch_end_nd\n",
    "    batch_end_nd = batch_start_nd + epoch_batch_size\n",
    "    if(epoch == iteration):\n",
    "      batch_start_nd = 0\n",
    "      batch_end_nd = epoch_batch_size"
   ]
  },
  {
   "cell_type": "code",
   "execution_count": null,
   "metadata": {
    "id": "-kh3HyJvSXnG"
   },
   "outputs": [],
   "source": []
  },
  {
   "cell_type": "code",
   "execution_count": 46,
   "metadata": {
    "id": "Syghk-dXSXqN"
   },
   "outputs": [
    {
     "data": {
      "text/plain": [
       "[<matplotlib.lines.Line2D at 0x7f97e5e0e460>]"
      ]
     },
     "execution_count": 46,
     "metadata": {},
     "output_type": "execute_result"
    },
    {
     "data": {
      "image/png": "[encoded data removed]",
      "text/plain": [
       "<Figure size 432x288 with 1 Axes>"
      ]
     },
     "metadata": {
      "image/png": {
       "height": 261,
       "width": 380
      },
      "needs_background": "light"
     },
     "output_type": "display_data"
    }
   ],
   "source": [
    "# Plot epoch vs train-error curve\n",
    "plt.plot(range(10), all_loss_train)\n"
   ]
  },
  {
   "cell_type": "code",
   "execution_count": 1,
   "metadata": {
    "id": "anUPFoq0sJtQ"
   },
   "outputs": [],
   "source": [
    "\n",
    "# ################################################################## RUN MODELLL\n",
    "\n",
    "# dim = 50\n",
    "# iteration=50\n",
    "# print('Creating a model.')\n",
    "# torch.manual_seed(1234)\n",
    "\n",
    "\n",
    "# model = MolecularGraphNeuralNetwork(\n",
    "#         N_fingerprints, dim, layer_hidden, layer_output, nfeat=features_train.shape[1],nhid=16,nclass=1,dropout=0.2 ).to(device)\n",
    "# trainer = Trainer(model)\n",
    "# # tester = Tester(model)\n",
    "# print('# of model parameters:',\n",
    "#       sum([np.prod(p.size()) for p in model.parameters()]))\n",
    "# print('-'*100)\n",
    "\n",
    "# file_result = train_data_path + '/setting1_run.txt'\n",
    "\n",
    "# if task == 'regression':\n",
    "#     result = 'Epoch\\tTime(sec)\\tLoss_train\\tMAE_dev\\tMAE_test'\n",
    "\n",
    "# with open(file_result, 'w') as f:\n",
    "#     f.write(result + '\\n')\n",
    "\n",
    "# print('Start training.')\n",
    "# print('The result is saved in the output directory every epoch!')\n",
    "\n",
    "# all_loss_train = []\n",
    "\n",
    "\n",
    "# # np.random.seed(1234)\n",
    "\n",
    "# start = timeit.default_timer()\n",
    "\n",
    "# # BATCH THIS HERE AND ADJ MATRIX CALC EVERY TIME\n",
    "\n",
    "# # epoch_batch_size = int( len(dataset_train)/iteration )\n",
    "# epoch_batch_size = 100\n",
    "# batch_start_nd = 0\n",
    "# batch_end_nd = epoch_batch_size\n",
    "# iteration = int(len(dataset_train)/epoch_batch_size)\n",
    "# print(iteration)\n",
    "\n",
    "# for epoch in range(iteration*2):\n",
    "\n",
    "#     # Dont decay lr\n",
    "#     # if epoch % decay_interval == 0:\n",
    "#     #     trainer.optimizer.param_groups[0]['lr'] *= lr_decay\n",
    "\n",
    "#     ds_train = dataset_train[batch_start_nd:batch_end_nd]\n",
    "#     fs_train = features_train[batch_start_nd:batch_end_nd]\n",
    "\n",
    "\n",
    "#     print(epoch)\n",
    "#     loss_train = trainer.train(ds_train, fs_train, adj, train=True)\n",
    "#     print('done')\n",
    "#     # if task == 'regression':\n",
    "#     #     prediction_dev = tester.test_regressor(dataset_dev)\n",
    "#     #     prediction_test = tester.test_regressor(dataset_test)\n",
    "#     prediction_test,prediction_dev = 0, 0\n",
    "\n",
    "#     time = timeit.default_timer() - start\n",
    "\n",
    "#     if epoch == 1:\n",
    "#         minutes = time * iteration / 60\n",
    "#         hours = int(minutes / 60)\n",
    "#         minutes = int(minutes - 60 * hours)\n",
    "#         print('The training will finish in about',\n",
    "#               hours, 'hours', minutes, 'minutes.')\n",
    "#         print('-'*100)\n",
    "#         print(result)\n",
    "\n",
    "#     result = '\\t'.join(map(str, [epoch, time, loss_train,\n",
    "#                                  prediction_dev, prediction_test]))\n",
    "#     # tester.save_result(result, file_result)\n",
    "\n",
    "#     print(result)\n",
    "#     all_loss_train.append(loss_train)\n",
    "#     epoch += 1\n",
    "\n",
    "#     batch_start_nd = batch_end_nd\n",
    "#     batch_end_nd = batch_start_nd + epoch_batch_size\n",
    "#     if(epoch == iteration):\n",
    "#       batch_start_nd = 0\n",
    "#       batch_end_nd = epoch_batch_size"
   ]
  },
  {
   "cell_type": "code",
   "execution_count": 1,
   "metadata": {
    "id": "Rcscv5ezjwNN"
   },
   "outputs": [],
   "source": []
  },
  {
   "cell_type": "code",
   "execution_count": null,
   "metadata": {
    "id": "u_CTvKzKjwQ8"
   },
   "outputs": [],
   "source": []
  },
  {
   "cell_type": "code",
   "execution_count": null,
   "metadata": {
    "id": "jLd8ZKpJvH2g"
   },
   "outputs": [],
   "source": []
  },
  {
   "cell_type": "code",
   "execution_count": null,
   "metadata": {
    "id": "o8Q-aJO6dDIS"
   },
   "outputs": [],
   "source": []
  },
  {
   "cell_type": "code",
   "execution_count": null,
   "metadata": {
    "id": "18ncRUCWIa2Z"
   },
   "outputs": [],
   "source": []
  },
  {
   "cell_type": "code",
   "execution_count": null,
   "metadata": {
    "colab": {
     "base_uri": "https://localhost:8080/"
    },
    "id": "OgY309pNAjGg",
    "outputId": "7ca0b156-e87c-444f-b201-cce5fb7978c4"
   },
   "outputs": [
    {
     "name": "stdout",
     "output_type": "stream",
     "text": [
      "The code uses a CPU...\n",
      "Preprocessing the GNN  dataset.\n",
      "Just a moment......\n",
      "(10000, 5)\n",
      "Skipped 1131 smiles in training data\n",
      "----------------------------------------------------------------------------------------------------\n",
      "The preprocess has finished!\n",
      "# of training data samples: 7982\n",
      "# of development data samples: 887\n",
      "# of test data samples: 887\n",
      "----------------------------------------------------------------------------------------------------\n"
     ]
    }
   ],
   "source": []
  },
  {
   "cell_type": "code",
   "execution_count": null,
   "metadata": {
    "id": "HT8ArtdhCwSk"
   },
   "outputs": [],
   "source": []
  },
  {
   "cell_type": "code",
   "execution_count": null,
   "metadata": {
    "id": "8uhxdOiuCwhh"
   },
   "outputs": [],
   "source": []
  },
  {
   "cell_type": "code",
   "execution_count": null,
   "metadata": {
    "colab": {
     "base_uri": "https://localhost:8080/"
    },
    "id": "Rt4Dt4M9o3m_",
    "outputId": "b1e0082e-ea79-440c-fc2e-73f2c1c0d401"
   },
   "outputs": [],
   "source": []
  },
  {
   "cell_type": "code",
   "execution_count": null,
   "metadata": {
    "id": "LLnPj9TkxVuq"
   },
   "outputs": [],
   "source": []
  },
  {
   "cell_type": "code",
   "execution_count": null,
   "metadata": {
    "colab": {
     "base_uri": "https://localhost:8080/"
    },
    "id": "TZaZlUeUxVxB",
    "outputId": "630c8ef0-2661-45df-c8b6-7c8456f1066d"
   },
   "outputs": [
    {
     "data": {
      "text/plain": [
       "4500"
      ]
     },
     "execution_count": 57,
     "metadata": {},
     "output_type": "execute_result"
    }
   ],
   "source": [
    "n = int(0.9 * 5000)\n",
    "n"
   ]
  },
  {
   "cell_type": "code",
   "execution_count": null,
   "metadata": {
    "id": "nYajInXCcEZf"
   },
   "outputs": [],
   "source": []
  },
  {
   "cell_type": "code",
   "execution_count": null,
   "metadata": {
    "id": "frhJap4Jw_ww"
   },
   "outputs": [],
   "source": []
  },
  {
   "cell_type": "code",
   "execution_count": null,
   "metadata": {
    "id": "epCdF4qfcEbn"
   },
   "outputs": [],
   "source": []
  },
  {
   "cell_type": "code",
   "execution_count": null,
   "metadata": {
    "id": "ObyySR3GcEdr"
   },
   "outputs": [],
   "source": [
    "\n",
    "################################################################## RUN MODELLL\n",
    "\n",
    "dim = 50\n",
    "iteration=100\n",
    "print('Creating a model.')\n",
    "torch.manual_seed(1234)\n",
    "model = MolecularGraphNeuralNetwork(\n",
    "        N_fingerprints, dim, layer_hidden, layer_output, ).to(device)\n",
    "trainer = Trainer(model)\n",
    "tester = Tester(model)\n",
    "print('# of model parameters:',\n",
    "      sum([np.prod(p.size()) for p in model.parameters()]))\n",
    "print('-'*100)\n",
    "\n",
    "file_result = train_data_path + '/setting1_run.txt'\n",
    "\n",
    "if task == 'regression':\n",
    "    result = 'Epoch\\tTime(sec)\\tLoss_train\\tMAE_dev\\tMAE_test'\n",
    "\n",
    "with open(file_result, 'w') as f:\n",
    "    f.write(result + '\\n')\n",
    "\n",
    "print('Start training.')\n",
    "print('The result is saved in the output directory every epoch!')\n",
    "\n",
    "all_loss_train = []\n",
    "\n",
    "\n",
    "# np.random.seed(1234)\n",
    "\n",
    "start = timeit.default_timer()\n",
    "\n",
    "for epoch in range(iteration):\n",
    "\n",
    "    # Dont decay lr\n",
    "    # if epoch % decay_interval == 0:\n",
    "    #     trainer.optimizer.param_groups[0]['lr'] *= lr_decay\n",
    "\n",
    "    loss_train = trainer.train(dataset_train)\n",
    "\n",
    "    if task == 'regression':\n",
    "        prediction_dev = tester.test_regressor(dataset_dev)\n",
    "        prediction_test = tester.test_regressor(dataset_test)\n",
    "\n",
    "    time = timeit.default_timer() - start\n",
    "\n",
    "    if epoch == 1:\n",
    "        minutes = time * iteration / 60\n",
    "        hours = int(minutes / 60)\n",
    "        minutes = int(minutes - 60 * hours)\n",
    "        print('The training will finish in about',\n",
    "              hours, 'hours', minutes, 'minutes.')\n",
    "        print('-'*100)\n",
    "        print(result)\n",
    "\n",
    "    result = '\\t'.join(map(str, [epoch, time, loss_train,\n",
    "                                 prediction_dev, prediction_test]))\n",
    "    tester.save_result(result, file_result)\n",
    "\n",
    "    print(result)\n",
    "    all_loss_train.append(loss_train)\n",
    "    epoch += 1\n"
   ]
  },
  {
   "cell_type": "code",
   "execution_count": null,
   "metadata": {
    "id": "QvToUDTOcEfp"
   },
   "outputs": [],
   "source": []
  },
  {
   "cell_type": "code",
   "execution_count": null,
   "metadata": {
    "id": "Oy1ydxUQcEg7"
   },
   "outputs": [],
   "source": []
  },
  {
   "cell_type": "code",
   "execution_count": null,
   "metadata": {
    "id": "1_zQ4mwKcEi3"
   },
   "outputs": [],
   "source": []
  },
  {
   "cell_type": "code",
   "execution_count": null,
   "metadata": {
    "id": "69FxrnB0cElO"
   },
   "outputs": [],
   "source": []
  },
  {
   "cell_type": "code",
   "execution_count": null,
   "metadata": {
    "id": "Rey_pIRicEnJ"
   },
   "outputs": [],
   "source": []
  },
  {
   "cell_type": "code",
   "execution_count": null,
   "metadata": {
    "id": "_h6-29blcEpT"
   },
   "outputs": [],
   "source": []
  },
  {
   "cell_type": "code",
   "execution_count": null,
   "metadata": {
    "id": "MlgH8Ml5cEqs"
   },
   "outputs": [],
   "source": []
  },
  {
   "cell_type": "code",
   "execution_count": null,
   "metadata": {
    "id": "sl_nFh1ncEsh"
   },
   "outputs": [],
   "source": []
  },
  {
   "cell_type": "code",
   "execution_count": null,
   "metadata": {
    "id": "e0-2InUCcEuV"
   },
   "outputs": [],
   "source": []
  },
  {
   "cell_type": "code",
   "execution_count": null,
   "metadata": {
    "id": "koesXfC7cEwv"
   },
   "outputs": [],
   "source": []
  },
  {
   "cell_type": "code",
   "execution_count": null,
   "metadata": {
    "id": "ly2Cej6VcEzo"
   },
   "outputs": [],
   "source": []
  },
  {
   "cell_type": "code",
   "execution_count": null,
   "metadata": {
    "id": "F8F7VCZW4u0i"
   },
   "outputs": [],
   "source": [
    "!nvidia-smi"
   ]
  },
  {
   "cell_type": "code",
   "execution_count": null,
   "metadata": {
    "id": "xleiY0HNGIuR"
   },
   "outputs": [],
   "source": [
    "import torch\n",
    "torch.cuda.is_available()"
   ]
  },
  {
   "cell_type": "code",
   "execution_count": null,
   "metadata": {
    "id": "242SHvyRGPhA"
   },
   "outputs": [],
   "source": [
    "import tensorflow as tf\n",
    "tf.test.gpu_device_name()"
   ]
  },
  {
   "cell_type": "code",
   "execution_count": null,
   "metadata": {
    "id": "ySVkmnEIGRy0"
   },
   "outputs": [],
   "source": []
  }
 ],
 "metadata": {
  "colab": {
   "collapsed_sections": [
    "7Rv27Z-ucIS4",
    "ozSjdBhK58l9",
    "oeGs8LoyghSx",
    "weeqM98BkpaC"
   ],
   "name": "Drug Synergy Prediction",
   "provenance": []
  },
  "kernelspec": {
   "display_name": "Python 3 (ipykernel)",
   "language": "python",
   "name": "python3"
  },
  "language_info": {
   "codemirror_mode": {
    "name": "ipython",
    "version": 3
   },
   "file_extension": ".py",
   "mimetype": "text/x-python",
   "name": "python",
   "nbconvert_exporter": "python",
   "pygments_lexer": "ipython3",
   "version": "3.8.5"
  }
 },
 "nbformat": 4,
 "nbformat_minor": 1
}
